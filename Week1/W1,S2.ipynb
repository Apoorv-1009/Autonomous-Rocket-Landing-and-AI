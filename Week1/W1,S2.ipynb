{
  "nbformat": 4,
  "nbformat_minor": 0,
  "metadata": {
    "colab": {
      "provenance": []
    },
    "kernelspec": {
      "name": "python3",
      "display_name": "Python 3"
    },
    "language_info": {
      "name": "python"
    }
  },
  "cells": [
    {
      "cell_type": "markdown",
      "source": [
        "##Today we will begin our journey of exploring the Python Programming Language!"
      ],
      "metadata": {
        "id": "Zf4amSsNlqnr"
      }
    },
    {
      "cell_type": "markdown",
      "source": [
        "### Different ways of writing Python Code\n",
        "\n",
        "1. Open a Google Colab or Kaggle Notebook, start typing your code, and run the cells.\n",
        "\n",
        "2. Install Python, a text editor, and run the code in CMD/Power-shell.\n",
        "\n",
        "3. Install an environment - like Anaconda, or Microsoft Visual Studio Code, code and run within it. \n",
        "\n",
        "4. Install Jupyter Notebooks only, write code and run the cells."
      ],
      "metadata": {
        "id": "UnDA08zRmI3U"
      }
    },
    {
      "cell_type": "code",
      "source": [
        "!python --version"
      ],
      "metadata": {
        "colab": {
          "base_uri": "https://localhost:8080/"
        },
        "id": "e8vzCzbvERQn",
        "outputId": "5c5d708d-3d23-470f-b8d1-f43a77e7ce07"
      },
      "execution_count": null,
      "outputs": [
        {
          "output_type": "stream",
          "name": "stdout",
          "text": [
            "Python 3.7.15\n"
          ]
        }
      ]
    },
    {
      "cell_type": "markdown",
      "source": [
        "### Basic Data Types: Strings, Constants, Boolean, Numbers"
      ],
      "metadata": {
        "id": "OU3mpYGTp6yz"
      }
    },
    {
      "cell_type": "code",
      "source": [
        "# First Code Snippet to run!\n",
        "\n",
        "print('Hello, World!')"
      ],
      "metadata": {
        "colab": {
          "base_uri": "https://localhost:8080/"
        },
        "id": "46nijgQXl-qF",
        "outputId": "d9127c0b-2544-4c65-94c6-70aed8cd6ac1"
      },
      "execution_count": null,
      "outputs": [
        {
          "output_type": "stream",
          "name": "stdout",
          "text": [
            "Hello, World!\n"
          ]
        }
      ]
    },
    {
      "cell_type": "code",
      "source": [
        "#Define int\n",
        "a = 1\n",
        "type(a)"
      ],
      "metadata": {
        "colab": {
          "base_uri": "https://localhost:8080/"
        },
        "id": "wE7EW_WxoG87",
        "outputId": "3175cb29-28e7-462f-a84b-1c56d5148e9c"
      },
      "execution_count": null,
      "outputs": [
        {
          "output_type": "execute_result",
          "data": {
            "text/plain": [
              "int"
            ]
          },
          "metadata": {},
          "execution_count": 3
        }
      ]
    },
    {
      "cell_type": "code",
      "source": [
        "#Define float\n",
        "a = 1.5\n",
        "type(a)"
      ],
      "metadata": {
        "colab": {
          "base_uri": "https://localhost:8080/"
        },
        "id": "X-w-HHUzoR5U",
        "outputId": "ae2b39c9-d9a1-4bb4-a1da-b69a2d320aba"
      },
      "execution_count": null,
      "outputs": [
        {
          "output_type": "execute_result",
          "data": {
            "text/plain": [
              "float"
            ]
          },
          "metadata": {},
          "execution_count": 4
        }
      ]
    },
    {
      "cell_type": "code",
      "source": [
        "#Define string\n",
        "a ='Rockets'  # or \"Rockets\"\n",
        "type(a)"
      ],
      "metadata": {
        "colab": {
          "base_uri": "https://localhost:8080/"
        },
        "id": "nEg02ozaoYIr",
        "outputId": "59a91517-1463-4ee0-a102-f2383c365cbe"
      },
      "execution_count": null,
      "outputs": [
        {
          "output_type": "execute_result",
          "data": {
            "text/plain": [
              "str"
            ]
          },
          "metadata": {},
          "execution_count": 5
        }
      ]
    },
    {
      "cell_type": "code",
      "source": [
        "a = 'Rockets_21&@'\n",
        "type(a)"
      ],
      "metadata": {
        "colab": {
          "base_uri": "https://localhost:8080/"
        },
        "id": "sWLrENAup35F",
        "outputId": "52e09b87-4192-4b4e-facf-0fbe47441662"
      },
      "execution_count": null,
      "outputs": [
        {
          "output_type": "execute_result",
          "data": {
            "text/plain": [
              "str"
            ]
          },
          "metadata": {},
          "execution_count": 6
        }
      ]
    },
    {
      "cell_type": "code",
      "source": [
        "a = []       # List is highly flexible\n",
        "type(a)"
      ],
      "metadata": {
        "colab": {
          "base_uri": "https://localhost:8080/"
        },
        "id": "DfvBSGJQ2yaN",
        "outputId": "f3e8587b-26ff-4ed5-b861-c3fabce50a7f"
      },
      "execution_count": null,
      "outputs": [
        {
          "output_type": "execute_result",
          "data": {
            "text/plain": [
              "list"
            ]
          },
          "metadata": {},
          "execution_count": 7
        }
      ]
    },
    {
      "cell_type": "code",
      "source": [
        "a = [1,2,'S',1.2,'',0.1,[1,2],(1,2),{},0,1,2,3,4,5]       # 0,1,2,3,4,5\n",
        "type(a)"
      ],
      "metadata": {
        "colab": {
          "base_uri": "https://localhost:8080/"
        },
        "id": "JSasjdrJ3goN",
        "outputId": "35009b34-a3b9-4d78-c27f-a5c624da6720"
      },
      "execution_count": null,
      "outputs": [
        {
          "output_type": "execute_result",
          "data": {
            "text/plain": [
              "list"
            ]
          },
          "metadata": {},
          "execution_count": 9
        }
      ]
    },
    {
      "cell_type": "code",
      "source": [
        "len(a)"
      ],
      "metadata": {
        "colab": {
          "base_uri": "https://localhost:8080/"
        },
        "id": "EWWE5awznuZR",
        "outputId": "9d222cba-f5d2-40ed-da39-9010dbbc040f"
      },
      "execution_count": null,
      "outputs": [
        {
          "output_type": "execute_result",
          "data": {
            "text/plain": [
              "15"
            ]
          },
          "metadata": {},
          "execution_count": 10
        }
      ]
    },
    {
      "cell_type": "code",
      "source": [
        "a.append(7)"
      ],
      "metadata": {
        "id": "Uxo2LahzZw8G"
      },
      "execution_count": null,
      "outputs": []
    },
    {
      "cell_type": "code",
      "source": [
        "a"
      ],
      "metadata": {
        "colab": {
          "base_uri": "https://localhost:8080/"
        },
        "id": "YrbqGk1JZ1Y_",
        "outputId": "8decb01b-c236-498e-c051-cbd6f48f9171"
      },
      "execution_count": null,
      "outputs": [
        {
          "output_type": "execute_result",
          "data": {
            "text/plain": [
              "[1, 2, 'S', 1.2, '', 0.1, [1, 2], (1, 2), {}, 0, 1, 2, 3, 4, 5, 7]"
            ]
          },
          "metadata": {},
          "execution_count": 12
        }
      ]
    },
    {
      "cell_type": "code",
      "source": [
        "len(a)"
      ],
      "metadata": {
        "colab": {
          "base_uri": "https://localhost:8080/"
        },
        "id": "utRRA9VCn8X3",
        "outputId": "39cdf20a-f467-45e8-d503-2748b548e184"
      },
      "execution_count": null,
      "outputs": [
        {
          "output_type": "execute_result",
          "data": {
            "text/plain": [
              "16"
            ]
          },
          "metadata": {},
          "execution_count": 13
        }
      ]
    },
    {
      "cell_type": "markdown",
      "source": [
        "Indexing....."
      ],
      "metadata": {
        "id": "JAnlonpMoD5U"
      }
    },
    {
      "cell_type": "code",
      "source": [
        "a[15]   "
      ],
      "metadata": {
        "colab": {
          "base_uri": "https://localhost:8080/"
        },
        "id": "pZG9qbBv3eDW",
        "outputId": "8e0f320e-7b4e-426e-c18e-ed7ae1b70c12"
      },
      "execution_count": null,
      "outputs": [
        {
          "output_type": "execute_result",
          "data": {
            "text/plain": [
              "7"
            ]
          },
          "metadata": {},
          "execution_count": 16
        }
      ]
    },
    {
      "cell_type": "code",
      "source": [
        "b = (1,2,'S',1.2,'',0.1)\n",
        "type(b)"
      ],
      "metadata": {
        "colab": {
          "base_uri": "https://localhost:8080/"
        },
        "id": "z6_fSCvm3rlG",
        "outputId": "e89bbd96-827c-4206-8229-9e855ba77c0d"
      },
      "execution_count": null,
      "outputs": [
        {
          "output_type": "execute_result",
          "data": {
            "text/plain": [
              "tuple"
            ]
          },
          "metadata": {},
          "execution_count": 17
        }
      ]
    },
    {
      "cell_type": "code",
      "source": [
        "b.append(7)"
      ],
      "metadata": {
        "colab": {
          "base_uri": "https://localhost:8080/",
          "height": 165
        },
        "id": "09_8FfbbZ6_J",
        "outputId": "4f6e4d27-f10c-4976-aa48-fd4603f5dfd2"
      },
      "execution_count": null,
      "outputs": [
        {
          "output_type": "error",
          "ename": "AttributeError",
          "evalue": "ignored",
          "traceback": [
            "\u001b[0;31m---------------------------------------------------------------------------\u001b[0m",
            "\u001b[0;31mAttributeError\u001b[0m                            Traceback (most recent call last)",
            "\u001b[0;32m<ipython-input-18-08bd0c2932a6>\u001b[0m in \u001b[0;36m<module>\u001b[0;34m\u001b[0m\n\u001b[0;32m----> 1\u001b[0;31m \u001b[0mb\u001b[0m\u001b[0;34m.\u001b[0m\u001b[0mappend\u001b[0m\u001b[0;34m(\u001b[0m\u001b[0;36m7\u001b[0m\u001b[0;34m)\u001b[0m\u001b[0;34m\u001b[0m\u001b[0;34m\u001b[0m\u001b[0m\n\u001b[0m",
            "\u001b[0;31mAttributeError\u001b[0m: 'tuple' object has no attribute 'append'"
          ]
        }
      ]
    },
    {
      "cell_type": "code",
      "source": [
        "b[2]"
      ],
      "metadata": {
        "colab": {
          "base_uri": "https://localhost:8080/",
          "height": 36
        },
        "id": "TfEbw0zc35Ne",
        "outputId": "6065a605-1559-4eff-9d8a-d15022f6e2b1"
      },
      "execution_count": null,
      "outputs": [
        {
          "output_type": "execute_result",
          "data": {
            "text/plain": [
              "'S'"
            ],
            "application/vnd.google.colaboratory.intrinsic+json": {
              "type": "string"
            }
          },
          "metadata": {},
          "execution_count": 20
        }
      ]
    },
    {
      "cell_type": "code",
      "source": [
        "z = True   # True\n",
        "type(z)"
      ],
      "metadata": {
        "colab": {
          "base_uri": "https://localhost:8080/"
        },
        "id": "grjsE4-I4ewX",
        "outputId": "e072f11f-7458-4629-8e04-9c997a990c56"
      },
      "execution_count": null,
      "outputs": [
        {
          "output_type": "execute_result",
          "data": {
            "text/plain": [
              "bool"
            ]
          },
          "metadata": {},
          "execution_count": 22
        }
      ]
    },
    {
      "cell_type": "code",
      "source": [
        "# Commenting Code and Variables\n",
        "\n",
        "# Create a set of variables for storing my info.\n",
        "\n",
        "my_name = 'Aditi'\n",
        "my_dob = '13-09-1867'\n",
        "my_height = 'five feets two inches'\n",
        "\n",
        "# Create a set of variables for storing planet info.\n",
        "# Get your planet info here: https://solarsystem.nasa.gov/planets/overview/\n",
        "\n",
        "planet_name = 'Mars'\n",
        "planet_age = '4.603 billion years old'\n",
        "planet_index = 3                          # 0, 1, 2, 3\n"
      ],
      "metadata": {
        "id": "Bu6sPKhJnWn8"
      },
      "execution_count": null,
      "outputs": []
    },
    {
      "cell_type": "code",
      "source": [
        "# Can variable names start with a number? \n",
        "\n",
        "1_final = 'final_document.pdf' # apparently no."
      ],
      "metadata": {
        "colab": {
          "base_uri": "https://localhost:8080/",
          "height": 130
        },
        "id": "aqqX199OPe6-",
        "outputId": "06b93ca0-077b-4ae5-9299-5e07e88380af"
      },
      "execution_count": null,
      "outputs": [
        {
          "output_type": "error",
          "ename": "SyntaxError",
          "evalue": "ignored",
          "traceback": [
            "\u001b[0;36m  File \u001b[0;32m\"<ipython-input-24-42a8258dcf08>\"\u001b[0;36m, line \u001b[0;32m3\u001b[0m\n\u001b[0;31m    1_final = 'final_document.pdf' # apparently no.\u001b[0m\n\u001b[0m     ^\u001b[0m\n\u001b[0;31mSyntaxError\u001b[0m\u001b[0;31m:\u001b[0m invalid token\n"
          ]
        }
      ]
    },
    {
      "cell_type": "code",
      "source": [
        "19final = 'final_document.pdf'"
      ],
      "metadata": {
        "colab": {
          "base_uri": "https://localhost:8080/",
          "height": 130
        },
        "id": "6doKYm5fqpt7",
        "outputId": "9c6999a3-fc8f-4c73-f40c-f432b6f77ba1"
      },
      "execution_count": null,
      "outputs": [
        {
          "output_type": "error",
          "ename": "SyntaxError",
          "evalue": "ignored",
          "traceback": [
            "\u001b[0;36m  File \u001b[0;32m\"<ipython-input-25-925be9ab8853>\"\u001b[0;36m, line \u001b[0;32m1\u001b[0m\n\u001b[0;31m    19final = 'final_document.pdf'\u001b[0m\n\u001b[0m          ^\u001b[0m\n\u001b[0;31mSyntaxError\u001b[0m\u001b[0;31m:\u001b[0m invalid syntax\n"
          ]
        }
      ]
    },
    {
      "cell_type": "code",
      "source": [
        "final19 = 'final_document.pdf'"
      ],
      "metadata": {
        "id": "uSSfh5_Fqiwc"
      },
      "execution_count": null,
      "outputs": []
    },
    {
      "cell_type": "code",
      "source": [
        "_final = 'final_document.pdf'"
      ],
      "metadata": {
        "id": "NZURlMBjqYBU"
      },
      "execution_count": null,
      "outputs": []
    },
    {
      "cell_type": "code",
      "source": [
        "final_1 = 'final_document.pdf'"
      ],
      "metadata": {
        "id": "EkmMTxElqd4M"
      },
      "execution_count": null,
      "outputs": []
    },
    {
      "cell_type": "markdown",
      "source": [
        "### White Spaces and Indentation\n",
        "\n",
        "Python does not use `;` to separate lines of code. \n",
        "\n",
        "So propoer indentation is only ensured by providing white spaces.\n",
        "\n",
        "\n",
        "\n"
      ],
      "metadata": {
        "id": "ALFgERzpo_na"
      }
    },
    {
      "cell_type": "code",
      "source": [
        "my_new_var = 3\n",
        " my_newer_var = 4         # error: unexpected indentation"
      ],
      "metadata": {
        "id": "ObzGXr3opIW0",
        "colab": {
          "base_uri": "https://localhost:8080/",
          "height": 130
        },
        "outputId": "ba5756aa-1aeb-4ca5-991b-c8f1762b5baf"
      },
      "execution_count": null,
      "outputs": [
        {
          "output_type": "error",
          "ename": "IndentationError",
          "evalue": "ignored",
          "traceback": [
            "\u001b[0;36m  File \u001b[0;32m\"<ipython-input-1-9a43d854e392>\"\u001b[0;36m, line \u001b[0;32m2\u001b[0m\n\u001b[0;31m    my_newer_var = 4         # error: unexpected indentation\u001b[0m\n\u001b[0m    ^\u001b[0m\n\u001b[0;31mIndentationError\u001b[0m\u001b[0;31m:\u001b[0m unexpected indent\n"
          ]
        }
      ]
    },
    {
      "cell_type": "code",
      "source": [
        "my_new_var = 3\n",
        "my_newer_var = 4"
      ],
      "metadata": {
        "id": "au9819LIrGck"
      },
      "execution_count": null,
      "outputs": []
    },
    {
      "cell_type": "code",
      "source": [
        "# Format Strings\n",
        "\n",
        "print('There are 8 number of planets in our solar system.')\n",
        "\n",
        "# print the same thing by using format strings for variables with different values\n",
        "number_of_planets = 8\n",
        "x = f'There are {number_of_planets} number of planets in our solar system.'\n",
        "print(x)\n",
        "\n",
        "\n",
        "number_of_planets = 5044\n",
        "x = f'There are {number_of_planets} number of planets in all solar systems.'\n",
        "print(x)"
      ],
      "metadata": {
        "colab": {
          "base_uri": "https://localhost:8080/"
        },
        "id": "_IrahRJpt4QL",
        "outputId": "942b48d5-ecb1-4e99-baba-e86a324cf65e"
      },
      "execution_count": null,
      "outputs": [
        {
          "output_type": "stream",
          "name": "stdout",
          "text": [
            "There are 8 number of planets in our solar system.\n",
            "There are 8 number of planets in our solar system.\n",
            "There are 5044 number of planets in all solar systems.\n"
          ]
        }
      ]
    },
    {
      "cell_type": "code",
      "source": [
        "# Another way of using format strings\n",
        "\n",
        "my_planet = 'Jupiter'\n",
        "biggest_planet = 'This is the name of the biggest planet? {}'\n",
        "\n",
        "print(biggest_planet.format(my_planet))                             #????????????????????????"
      ],
      "metadata": {
        "id": "lsH0UowLuXhF",
        "colab": {
          "base_uri": "https://localhost:8080/"
        },
        "outputId": "22d362a3-fa7d-447d-b6cf-a4561fc65d34"
      },
      "execution_count": null,
      "outputs": [
        {
          "output_type": "stream",
          "name": "stdout",
          "text": [
            "This is the name of the biggest planet? Jupiter\n"
          ]
        }
      ]
    },
    {
      "cell_type": "code",
      "source": [
        "# String Concatenation\n",
        "\n",
        "w = 'Earth is the only planet with life'\n",
        "e = 'may be not! :)'\n",
        "\n",
        "print(w +'  '+e)                                                       #????????????????????????"
      ],
      "metadata": {
        "colab": {
          "base_uri": "https://localhost:8080/"
        },
        "id": "U8wKpWiRweRr",
        "outputId": "62fca1f6-f7ec-48be-bb07-eff6493f532e"
      },
      "execution_count": null,
      "outputs": [
        {
          "output_type": "stream",
          "name": "stdout",
          "text": [
            "Earth is the only planet with life  may be not! :)\n"
          ]
        }
      ]
    },
    {
      "cell_type": "code",
      "source": [
        "\n",
        "# use all CAPS in the variable name to remember it's a constant!\n",
        "\n",
        "FILE_SIZE_LIMIT = 2000 "
      ],
      "metadata": {
        "id": "PayYZqBrxMlD"
      },
      "execution_count": null,
      "outputs": []
    },
    {
      "cell_type": "markdown",
      "source": [
        "#### Operators in Python\n",
        "\n",
        "1. Arithmetic operators: `+, -, *, /, %, **, //`\n",
        "\n",
        "2. Assignment operators: `=, +=, -=, *=, /=, %=, **=, //=, &=, |=, ^=, >>=, <<=`\n",
        "\n",
        "3. Comparison operators: `==, !=, >, <, >=, <=`\n",
        "\n",
        "4. Logical operators: `and, or, not`\n",
        "\n",
        "5. Identity operators: `is, is not`\n",
        "\n",
        "6. Membership operators: `in, not in`\n",
        "\n",
        "7. Boolean Operators:   'False,True'"
      ],
      "metadata": {
        "id": "LzJvI24J3gpz"
      }
    },
    {
      "cell_type": "code",
      "source": [
        "a = 1\n",
        "a += 2     # a = a+2\n",
        "print(a)"
      ],
      "metadata": {
        "colab": {
          "base_uri": "https://localhost:8080/"
        },
        "id": "0c417E3mv3ks",
        "outputId": "07d24dea-5853-494c-84ad-4b42de32d531"
      },
      "execution_count": null,
      "outputs": [
        {
          "output_type": "stream",
          "name": "stdout",
          "text": [
            "3\n"
          ]
        }
      ]
    },
    {
      "cell_type": "code",
      "source": [
        "20 > 10"
      ],
      "metadata": {
        "colab": {
          "base_uri": "https://localhost:8080/"
        },
        "id": "9DsLM4lJwDQo",
        "outputId": "be207221-aa0e-4346-9ef1-ae8bffe1ac2c"
      },
      "execution_count": null,
      "outputs": [
        {
          "output_type": "execute_result",
          "data": {
            "text/plain": [
              "True"
            ]
          },
          "metadata": {},
          "execution_count": 36
        }
      ]
    },
    {
      "cell_type": "code",
      "source": [
        "print(20 > 10)\n",
        "print('z' > 'g')"
      ],
      "metadata": {
        "colab": {
          "base_uri": "https://localhost:8080/"
        },
        "id": "1_aJ56nPxpv3",
        "outputId": "f37fb1bc-8b00-484b-b363-308701808c10"
      },
      "execution_count": null,
      "outputs": [
        {
          "output_type": "stream",
          "name": "stdout",
          "text": [
            "True\n",
            "True\n"
          ]
        }
      ]
    },
    {
      "cell_type": "code",
      "source": [
        "is_active = False # True\n",
        "print(is_active)"
      ],
      "metadata": {
        "colab": {
          "base_uri": "https://localhost:8080/"
        },
        "id": "QfhVbIdLx849",
        "outputId": "13f80f22-13d3-46e1-e4d7-24ff27366b9e"
      },
      "execution_count": null,
      "outputs": [
        {
          "output_type": "stream",
          "name": "stdout",
          "text": [
            "False\n"
          ]
        }
      ]
    },
    {
      "cell_type": "code",
      "source": [
        "print(bool(20))\n",
        "print(bool(0))\n",
        "print(bool(1))\n",
        "print(bool('info'))\n",
        "print(bool(''))"
      ],
      "metadata": {
        "colab": {
          "base_uri": "https://localhost:8080/"
        },
        "id": "9qFJs9DCyEiC",
        "outputId": "6b3d3caa-b97d-478c-e5c6-692f1d0e8a4c"
      },
      "execution_count": null,
      "outputs": [
        {
          "output_type": "stream",
          "name": "stdout",
          "text": [
            "True\n",
            "False\n",
            "True\n",
            "True\n",
            "False\n"
          ]
        }
      ]
    },
    {
      "cell_type": "code",
      "source": [
        "# Bool On Advanced Data Structures in Python\n",
        "print(bool({}))          # Dictionary                  #??????????????????????????\n",
        "print(bool([]))          # List\n",
        "print(bool(()))          # Tuples"
      ],
      "metadata": {
        "id": "ewMy5uVsykL9",
        "colab": {
          "base_uri": "https://localhost:8080/"
        },
        "outputId": "13265b0b-60e2-42ab-91d7-c592844e7a17"
      },
      "execution_count": null,
      "outputs": [
        {
          "output_type": "stream",
          "name": "stdout",
          "text": [
            "False\n",
            "False\n",
            "False\n"
          ]
        }
      ]
    },
    {
      "cell_type": "markdown",
      "source": [
        "Numbers - Integers and Floats"
      ],
      "metadata": {
        "id": "2laMNLlDzCU0"
      }
    },
    {
      "cell_type": "code",
      "source": [
        "print(20+10)  # 30\n",
        "print(25/10)  # 2.5\n",
        "print(21//10)  # 2   # Prime\n",
        "print(21 % 10)   # Residual\n",
        "\n",
        "print(20/3)\n",
        "print(1+2.5)\n",
        "print(1-2.5)\n",
        "print(2.5-2.5)\n",
        "print(2-2)"
      ],
      "metadata": {
        "colab": {
          "base_uri": "https://localhost:8080/"
        },
        "id": "QtTSpjrSzFiE",
        "outputId": "667d36e8-c4df-4ca2-831b-bfb7c3918e17"
      },
      "execution_count": null,
      "outputs": [
        {
          "output_type": "stream",
          "name": "stdout",
          "text": [
            "30\n",
            "2.5\n",
            "2\n",
            "1\n",
            "6.666666666666667\n",
            "3.5\n",
            "-1.5\n",
            "0.0\n",
            "0\n"
          ]
        }
      ]
    },
    {
      "cell_type": "markdown",
      "source": [
        "#### Type Conversion"
      ],
      "metadata": {
        "id": "YWbqA_RGzvu0"
      }
    },
    {
      "cell_type": "code",
      "source": [
        "# string to integers and floats\n",
        "\n",
        "a = '30'\n",
        "b = '25'\n",
        "\n",
        "print(a + b)\n",
        "print(int(a) + int(b))\n",
        "print(float(a) + float(b))"
      ],
      "metadata": {
        "id": "Wsw7JVse0EpD",
        "colab": {
          "base_uri": "https://localhost:8080/"
        },
        "outputId": "601dcc54-aa6b-49fa-ffae-df61a1776990"
      },
      "execution_count": null,
      "outputs": [
        {
          "output_type": "stream",
          "name": "stdout",
          "text": [
            "3025\n",
            "55\n",
            "55.0\n"
          ]
        }
      ]
    },
    {
      "cell_type": "code",
      "source": [
        "b=2\n",
        "e = b**2\n",
        "print(e)"
      ],
      "metadata": {
        "id": "1esfpCa809xL",
        "colab": {
          "base_uri": "https://localhost:8080/"
        },
        "outputId": "28324058-ef03-4c6a-9c2d-ae68cc333883"
      },
      "execution_count": null,
      "outputs": [
        {
          "output_type": "stream",
          "name": "stdout",
          "text": [
            "4\n"
          ]
        }
      ]
    },
    {
      "cell_type": "code",
      "source": [
        "# Logical Operators\n",
        "\n",
        "x = 5\n",
        "\n",
        "print(x > 3 and x < 10)\n",
        "\n",
        "# returns True because 5 is greater than 3 AND 5 is less than 10"
      ],
      "metadata": {
        "colab": {
          "base_uri": "https://localhost:8080/"
        },
        "id": "KmWrV_cq3gLT",
        "outputId": "acbb8a2c-dc6e-4aef-abe0-1ea782cbb4eb"
      },
      "execution_count": null,
      "outputs": [
        {
          "output_type": "stream",
          "name": "stdout",
          "text": [
            "True\n"
          ]
        }
      ]
    },
    {
      "cell_type": "code",
      "source": [
        "x = 5\n",
        "\n",
        "print(x > 6 or x < 10) \n",
        "\n",
        "print(not(x > 6))"
      ],
      "metadata": {
        "colab": {
          "base_uri": "https://localhost:8080/"
        },
        "id": "cNGsfz3njtBi",
        "outputId": "7fe7d310-3955-475d-f917-c5f3064d71fc"
      },
      "execution_count": null,
      "outputs": [
        {
          "output_type": "stream",
          "name": "stdout",
          "text": [
            "True\n",
            "True\n"
          ]
        }
      ]
    },
    {
      "cell_type": "code",
      "source": [
        "# Identity Operators\n",
        "\n",
        "x = [\"Artificial\", \"Intelligence\"]\n",
        "y = [\"Artificial\", \"Intelligence\"]\n",
        "z = x\n",
        "\n",
        "print(x is z)\n",
        "\n",
        "# returns True because z is the same object as x\n",
        "\n",
        "print(x is y)\n",
        "\n",
        "# returns False because x is not the same object as y, even if they have the same content\n",
        "\n",
        "print(x == y)\n",
        "\n",
        "# to demonstrate the difference betweeen \"is\" and \"==\": this comparison returns True because x is equal to y\n"
      ],
      "metadata": {
        "colab": {
          "base_uri": "https://localhost:8080/"
        },
        "id": "8qyStb1BkGCT",
        "outputId": "86d35580-a5d2-4b1d-dcb3-64d748a0d57d"
      },
      "execution_count": null,
      "outputs": [
        {
          "output_type": "stream",
          "name": "stdout",
          "text": [
            "True\n",
            "False\n",
            "True\n"
          ]
        }
      ]
    },
    {
      "cell_type": "code",
      "source": [
        "# Membership Operators\n",
        "\n",
        "x = [\"pear\", \"plum\"]\n",
        "\n",
        "print(\"pineapple\" in x)\n",
        "\n",
        "print(\"plum\" in x)\n",
        "\n",
        "print(\"pineapple\" not in x)"
      ],
      "metadata": {
        "colab": {
          "base_uri": "https://localhost:8080/"
        },
        "id": "Kt6fklFTklUj",
        "outputId": "7bd119e7-8a21-4ec6-fd42-0ec56fb80684"
      },
      "execution_count": null,
      "outputs": [
        {
          "output_type": "stream",
          "name": "stdout",
          "text": [
            "False\n",
            "True\n",
            "True\n"
          ]
        }
      ]
    },
    {
      "cell_type": "markdown",
      "source": [
        "#### Getting Input from a User\n",
        "\n"
      ],
      "metadata": {
        "id": "00Np8e9J2K40"
      }
    },
    {
      "cell_type": "code",
      "source": [
        "value = input('Enter a value:')"
      ],
      "metadata": {
        "id": "9LAdGqx-2QRa",
        "colab": {
          "base_uri": "https://localhost:8080/"
        },
        "outputId": "57f5813f-a84e-450d-cd8b-fca50a1c632e"
      },
      "execution_count": null,
      "outputs": [
        {
          "name": "stdout",
          "output_type": "stream",
          "text": [
            "Enter a value:5\n"
          ]
        }
      ]
    },
    {
      "cell_type": "code",
      "source": [
        "value"
      ],
      "metadata": {
        "colab": {
          "base_uri": "https://localhost:8080/",
          "height": 36
        },
        "id": "M_XSX6JE0325",
        "outputId": "e64882c8-24db-4bd8-bfb3-98ef2dce9cbe"
      },
      "execution_count": null,
      "outputs": [
        {
          "output_type": "execute_result",
          "data": {
            "text/plain": [
              "'5'"
            ],
            "application/vnd.google.colaboratory.intrinsic+json": {
              "type": "string"
            }
          },
          "metadata": {},
          "execution_count": 2
        }
      ]
    },
    {
      "cell_type": "code",
      "source": [
        "y = input(\"Name? \")\n",
        "age = input(\"Age? \")\n",
        "height = input(\"Height? \")\n",
        "weight = input(\"Weight? \")"
      ],
      "metadata": {
        "colab": {
          "base_uri": "https://localhost:8080/"
        },
        "id": "FNxmEgXg29vC",
        "outputId": "d108cdec-db33-4ba9-ff83-57fd78be2840"
      },
      "execution_count": null,
      "outputs": [
        {
          "name": "stdout",
          "output_type": "stream",
          "text": [
            "Name? saj\n",
            "Age? 34\n",
            "Height? 175\n",
            "Weight? 96\n"
          ]
        }
      ]
    },
    {
      "cell_type": "markdown",
      "metadata": {
        "id": "e7nweuFxbLId"
      },
      "source": [
        "#### Python Iterables"
      ]
    },
    {
      "cell_type": "code",
      "source": [
        "flowers = ['tulip', 'rose', 'sage', 'lily', 'iris', 'daisy', 'orchid', 'jasmine', 'poppy', 'ivy', 'violet', 'holly', 'heather', 'yolanda']\n",
        "\n",
        "for flower in flowers:\n",
        "  print(flower)"
      ],
      "metadata": {
        "id": "HwP75uB3lC-r",
        "colab": {
          "base_uri": "https://localhost:8080/"
        },
        "outputId": "c54edd58-b501-45b7-8a73-de82b1034480"
      },
      "execution_count": null,
      "outputs": [
        {
          "output_type": "stream",
          "name": "stdout",
          "text": [
            "tulip\n",
            "rose\n",
            "sage\n",
            "lily\n",
            "iris\n",
            "daisy\n",
            "orchid\n",
            "jasmine\n",
            "poppy\n",
            "ivy\n",
            "violet\n",
            "holly\n",
            "heather\n",
            "yolanda\n"
          ]
        }
      ]
    },
    {
      "cell_type": "code",
      "source": [
        "flowers = ['tulip', 'rose', 'sage', 'lily', 'iris', 'daisy', 'orchid', 'jasmine', 'poppy', 'ivy', 'violet', 'holly', 'heather', 'yolanda']\n",
        "\n",
        "for item in enumerate(flowers):              \n",
        "  print(item)\n",
        "\n",
        "# enumerate returns element with its index in tuple"
      ],
      "metadata": {
        "id": "nSu80T7glDPq",
        "colab": {
          "base_uri": "https://localhost:8080/"
        },
        "outputId": "1994e567-65bc-455f-fc92-79aac2d6fe1e"
      },
      "execution_count": null,
      "outputs": [
        {
          "output_type": "stream",
          "name": "stdout",
          "text": [
            "(0, 'tulip')\n",
            "(1, 'rose')\n",
            "(2, 'sage')\n",
            "(3, 'lily')\n",
            "(4, 'iris')\n",
            "(5, 'daisy')\n",
            "(6, 'orchid')\n",
            "(7, 'jasmine')\n",
            "(8, 'poppy')\n",
            "(9, 'ivy')\n",
            "(10, 'violet')\n",
            "(11, 'holly')\n",
            "(12, 'heather')\n",
            "(13, 'yolanda')\n"
          ]
        }
      ]
    },
    {
      "cell_type": "code",
      "source": [
        "# what is we want the index and the flower separately?\n",
        "\n",
        "for index, flower in enumerate(flowers):\n",
        "  print(f'{index }: {flower }')   "
      ],
      "metadata": {
        "id": "F4g0k4V5lDgq",
        "colab": {
          "base_uri": "https://localhost:8080/"
        },
        "outputId": "d2379555-b87e-4903-eaef-8ca9fff60018"
      },
      "execution_count": null,
      "outputs": [
        {
          "output_type": "stream",
          "name": "stdout",
          "text": [
            "0: tulip\n",
            "1: rose\n",
            "2: sage\n",
            "3: lily\n",
            "4: iris\n",
            "5: daisy\n",
            "6: orchid\n",
            "7: jasmine\n",
            "8: poppy\n",
            "9: ivy\n",
            "10: violet\n",
            "11: holly\n",
            "12: heather\n",
            "13: yolanda\n"
          ]
        }
      ]
    },
    {
      "cell_type": "code",
      "source": [
        "# range function is an iterable\n",
        "\n",
        "for idx in range(3):   #0,1,2\n",
        "    print(idx)"
      ],
      "metadata": {
        "id": "IrJDjjOJlOpT",
        "colab": {
          "base_uri": "https://localhost:8080/"
        },
        "outputId": "d44983b6-c7e5-4bae-fe6b-566c1f2fbdaf"
      },
      "execution_count": null,
      "outputs": [
        {
          "output_type": "stream",
          "name": "stdout",
          "text": [
            "0\n",
            "1\n",
            "2\n"
          ]
        }
      ]
    },
    {
      "cell_type": "code",
      "source": [
        "# every string is an iterable\n",
        "\n",
        "my_favorite_language = 'my_favorite_language12'\n",
        "\n",
        "for ch in my_favorite_language:                           \n",
        "  print(ch)"
      ],
      "metadata": {
        "id": "fh-EvAlilO7D",
        "colab": {
          "base_uri": "https://localhost:8080/"
        },
        "outputId": "02f57ef7-8fb0-44ec-fa8f-5aa4e8b6cd84"
      },
      "execution_count": null,
      "outputs": [
        {
          "output_type": "stream",
          "name": "stdout",
          "text": [
            "m\n",
            "y\n",
            "_\n",
            "f\n",
            "a\n",
            "v\n",
            "o\n",
            "r\n",
            "i\n",
            "t\n",
            "e\n",
            "_\n",
            "l\n",
            "a\n",
            "n\n",
            "g\n",
            "u\n",
            "a\n",
            "g\n",
            "e\n",
            "1\n",
            "2\n"
          ]
        }
      ]
    },
    {
      "cell_type": "code",
      "source": [
        "colors = ['red', 'green', 'blue']\n",
        "\n",
        "colors_iter = iter(colors)                # Iter attribute is a token to allow iteration nature\n",
        "\n",
        "first_color = next(colors_iter)                 # Every time, you call the next() function, it returns the next element in the iterable.\n",
        "print(first_color)\n",
        "\n",
        "second_color = next(colors_iter)\n",
        "print(second_color)\n",
        "\n",
        "third_color = next(colors_iter)\n",
        "print(third_color)\n",
        "                                         # Once you complete looping over an iterator, the iterator becomes empty. \n",
        "# cause an exception\n",
        "color = next(colors_iter)                # If you iterate over it again, it’ll return nothing.\n",
        "print(color)"
      ],
      "metadata": {
        "id": "eiRxBWVSlPKj",
        "colab": {
          "base_uri": "https://localhost:8080/",
          "height": 269
        },
        "outputId": "2a0f4b7c-6906-47c2-990a-8086afe73cd9"
      },
      "execution_count": null,
      "outputs": [
        {
          "output_type": "stream",
          "name": "stdout",
          "text": [
            "red\n",
            "green\n",
            "blue\n"
          ]
        },
        {
          "output_type": "error",
          "ename": "StopIteration",
          "evalue": "ignored",
          "traceback": [
            "\u001b[0;31m---------------------------------------------------------------------------\u001b[0m",
            "\u001b[0;31mStopIteration\u001b[0m                             Traceback (most recent call last)",
            "\u001b[0;32m<ipython-input-7-eff399f2585d>\u001b[0m in \u001b[0;36m<module>\u001b[0;34m\u001b[0m\n\u001b[1;32m     13\u001b[0m                                          \u001b[0;31m# Once you complete looping over an iterator, the iterator becomes empty.\u001b[0m\u001b[0;34m\u001b[0m\u001b[0;34m\u001b[0m\u001b[0;34m\u001b[0m\u001b[0m\n\u001b[1;32m     14\u001b[0m \u001b[0;31m# cause an exception\u001b[0m\u001b[0;34m\u001b[0m\u001b[0;34m\u001b[0m\u001b[0;34m\u001b[0m\u001b[0m\n\u001b[0;32m---> 15\u001b[0;31m \u001b[0mcolor\u001b[0m \u001b[0;34m=\u001b[0m \u001b[0mnext\u001b[0m\u001b[0;34m(\u001b[0m\u001b[0mcolors_iter\u001b[0m\u001b[0;34m)\u001b[0m                \u001b[0;31m# If you iterate over it again, it’ll return nothing.\u001b[0m\u001b[0;34m\u001b[0m\u001b[0;34m\u001b[0m\u001b[0m\n\u001b[0m\u001b[1;32m     16\u001b[0m \u001b[0mprint\u001b[0m\u001b[0;34m(\u001b[0m\u001b[0mcolor\u001b[0m\u001b[0;34m)\u001b[0m\u001b[0;34m\u001b[0m\u001b[0;34m\u001b[0m\u001b[0m\n",
            "\u001b[0;31mStopIteration\u001b[0m: "
          ]
        }
      ]
    },
    {
      "cell_type": "markdown",
      "metadata": {
        "id": "Ln6F64gHjGQ7"
      },
      "source": [
        "Since you can iterate over an iterator, the iterator is also an iterable object. "
      ]
    },
    {
      "cell_type": "markdown",
      "metadata": {
        "id": "_UKkboSPpdU6"
      },
      "source": [
        "### Dictionary Data Structure"
      ]
    },
    {
      "cell_type": "code",
      "source": [
        "empty_dict = {}"
      ],
      "metadata": {
        "id": "ysD8YMP9lUV2"
      },
      "execution_count": null,
      "outputs": []
    },
    {
      "cell_type": "code",
      "source": [
        "planet_info = {\n",
        "    'name' : 'Jupiter',\n",
        "    'number_of_moons' : 79,\n",
        "    'number_in_solar_system' : 'fifth',\n",
        "    'life_support' : 'some moons have oceans with water',\n",
        "    'others' : 'gas_giant, biggest_planet, eternal_storms'\n",
        "}"
      ],
      "metadata": {
        "id": "r2PGC6tqlUh0"
      },
      "execution_count": null,
      "outputs": []
    },
    {
      "cell_type": "code",
      "source": [
        "planet_info['number_of_moons']"
      ],
      "metadata": {
        "id": "qpPnQ9HRlppF",
        "colab": {
          "base_uri": "https://localhost:8080/"
        },
        "outputId": "0d64a32e-1d29-4bea-b8c0-4db75c76e3f2"
      },
      "execution_count": null,
      "outputs": [
        {
          "output_type": "execute_result",
          "data": {
            "text/plain": [
              "79"
            ]
          },
          "metadata": {},
          "execution_count": 10
        }
      ]
    },
    {
      "cell_type": "code",
      "source": [
        "planet_info['life_support']"
      ],
      "metadata": {
        "colab": {
          "base_uri": "https://localhost:8080/",
          "height": 36
        },
        "id": "tTEtyokHrAO7",
        "outputId": "6fe10534-3139-4bf9-80b0-23eb2be8cc2e"
      },
      "execution_count": null,
      "outputs": [
        {
          "output_type": "execute_result",
          "data": {
            "text/plain": [
              "'some moons have oceans with water'"
            ],
            "application/vnd.google.colaboratory.intrinsic+json": {
              "type": "string"
            }
          },
          "metadata": {},
          "execution_count": 11
        }
      ]
    },
    {
      "cell_type": "code",
      "source": [
        "# we can change values \n",
        "\n",
        "planet_info['life_support'] = 'Nothing concrete we know of so far'"
      ],
      "metadata": {
        "id": "sUr4y-XSlqTD"
      },
      "execution_count": null,
      "outputs": []
    },
    {
      "cell_type": "code",
      "source": [
        "planet_info"
      ],
      "metadata": {
        "id": "EUcyPnYblqm0",
        "colab": {
          "base_uri": "https://localhost:8080/"
        },
        "outputId": "583dca86-c5c3-4383-cfd1-024f5ba4d530"
      },
      "execution_count": null,
      "outputs": [
        {
          "output_type": "execute_result",
          "data": {
            "text/plain": [
              "{'name': 'Jupiter',\n",
              " 'number_of_moons': 79,\n",
              " 'number_in_solar_system': 'fifth',\n",
              " 'life_support': 'Nothing concrete we know of so far',\n",
              " 'others': 'gas_giant, biggest_planet, eternal_storms'}"
            ]
          },
          "metadata": {},
          "execution_count": 13
        }
      ]
    },
    {
      "cell_type": "code",
      "source": [
        "# We cannot change keys..But can add new key,value pair\n",
        "\n",
        "planet_info['Asteroid_belt'] = 'Yes'\n",
        "planet_info"
      ],
      "metadata": {
        "id": "L8bdcG18lzTb",
        "colab": {
          "base_uri": "https://localhost:8080/"
        },
        "outputId": "ae6a69b5-b34f-4295-e9fc-85e6e3a6aacf"
      },
      "execution_count": null,
      "outputs": [
        {
          "output_type": "execute_result",
          "data": {
            "text/plain": [
              "{'name': 'Jupiter',\n",
              " 'number_of_moons': 79,\n",
              " 'number_in_solar_system': 'fifth',\n",
              " 'life_support': 'Nothing concrete we know of so far',\n",
              " 'others': 'gas_giant, biggest_planet, eternal_storms',\n",
              " 'Asteroid_belt': 'Yes'}"
            ]
          },
          "metadata": {},
          "execution_count": 14
        }
      ]
    },
    {
      "cell_type": "code",
      "source": [
        "del planet_info['Asteroid_belt']"
      ],
      "metadata": {
        "id": "2tvF-ipfl_Rj"
      },
      "execution_count": null,
      "outputs": []
    },
    {
      "cell_type": "code",
      "source": [
        "\n",
        "planet_info"
      ],
      "metadata": {
        "colab": {
          "base_uri": "https://localhost:8080/"
        },
        "id": "nDepgY5L_O_F",
        "outputId": "6e076abc-92b4-4936-c155-baec2dd68d60"
      },
      "execution_count": null,
      "outputs": [
        {
          "output_type": "execute_result",
          "data": {
            "text/plain": [
              "{'name': 'Jupiter',\n",
              " 'number_of_moons': 79,\n",
              " 'number_in_solar_system': 'fifth',\n",
              " 'life_support': 'Nothing concrete we know of so far',\n",
              " 'others': 'gas_giant, biggest_planet, eternal_storms'}"
            ]
          },
          "metadata": {},
          "execution_count": 16
        }
      ]
    },
    {
      "cell_type": "code",
      "source": [
        "moons = planet_info.get('number_of_moons')\n",
        "moons"
      ],
      "metadata": {
        "id": "yHm7MY73mBMb",
        "colab": {
          "base_uri": "https://localhost:8080/"
        },
        "outputId": "c2c78d22-ef81-4612-9ddf-6f1228071976"
      },
      "execution_count": null,
      "outputs": [
        {
          "output_type": "execute_result",
          "data": {
            "text/plain": [
              "79"
            ]
          },
          "metadata": {},
          "execution_count": 27
        }
      ]
    },
    {
      "cell_type": "code",
      "source": [
        "order = planet_info.get('number_in_solar_system')\n",
        "order                                              #????????????"
      ],
      "metadata": {
        "id": "J5_Q9CtimEAz",
        "colab": {
          "base_uri": "https://localhost:8080/",
          "height": 36
        },
        "outputId": "8f495f33-ba9d-43b4-a3db-2019711686da"
      },
      "execution_count": null,
      "outputs": [
        {
          "output_type": "execute_result",
          "data": {
            "text/plain": [
              "'fifth'"
            ],
            "application/vnd.google.colaboratory.intrinsic+json": {
              "type": "string"
            }
          },
          "metadata": {},
          "execution_count": 28
        }
      ]
    },
    {
      "cell_type": "code",
      "source": [
        "# looping through a dictionary\n",
        "\n",
        "for key, value in planet_info.items():\n",
        "    print(f\"{key}: {value}\")"
      ],
      "metadata": {
        "id": "rTtiLvxSmEli",
        "colab": {
          "base_uri": "https://localhost:8080/"
        },
        "outputId": "c2ce12f6-ecd3-4a2b-85a1-4bcf764b149c"
      },
      "execution_count": null,
      "outputs": [
        {
          "output_type": "stream",
          "name": "stdout",
          "text": [
            "name: Jupiter\n",
            "number_of_moons: 79\n",
            "number_in_solar_system: fifth\n",
            "life_support: Nothing concrete we know of so far\n",
            "others: gas_giant, biggest_planet, eternal_storms\n"
          ]
        }
      ]
    },
    {
      "cell_type": "code",
      "source": [
        "for key in planet_info.keys():                   # only display keys\n",
        "    print(key)"
      ],
      "metadata": {
        "id": "CSrV_fv7mJ7G",
        "colab": {
          "base_uri": "https://localhost:8080/"
        },
        "outputId": "0db37bb3-7168-4090-f8d7-d8f4dcbbd6ef"
      },
      "execution_count": null,
      "outputs": [
        {
          "output_type": "stream",
          "name": "stdout",
          "text": [
            "name\n",
            "number_of_moons\n",
            "number_in_solar_system\n",
            "life_support\n",
            "others\n"
          ]
        }
      ]
    },
    {
      "cell_type": "code",
      "source": [
        "for key in planet_info:\n",
        "  print(key)"
      ],
      "metadata": {
        "id": "LxgxIWnimMJN",
        "colab": {
          "base_uri": "https://localhost:8080/"
        },
        "outputId": "63876dd6-54f0-4ccb-aea0-474df3f22771"
      },
      "execution_count": null,
      "outputs": [
        {
          "output_type": "stream",
          "name": "stdout",
          "text": [
            "name\n",
            "number_of_moons\n",
            "number_in_solar_system\n",
            "life_support\n",
            "others\n"
          ]
        }
      ]
    },
    {
      "cell_type": "code",
      "source": [
        "for i in planet_info.values():                # only display values\n",
        "    print(i)"
      ],
      "metadata": {
        "id": "imHi83hxmOH0",
        "colab": {
          "base_uri": "https://localhost:8080/"
        },
        "outputId": "3bc9e7ee-e748-46f1-f692-40f4d693ee13"
      },
      "execution_count": null,
      "outputs": [
        {
          "output_type": "stream",
          "name": "stdout",
          "text": [
            "Jupiter\n",
            "79\n",
            "fifth\n",
            "Nothing concrete we know of so far\n",
            "gas_giant, biggest_planet, eternal_storms\n"
          ]
        }
      ]
    },
    {
      "cell_type": "code",
      "source": [
        "for key in planet_info:                         # Wrong \n",
        "  print(key)"
      ],
      "metadata": {
        "id": "3RAQ0Jc7mQSF",
        "colab": {
          "base_uri": "https://localhost:8080/"
        },
        "outputId": "67ee5878-5839-4e59-ab66-a905e3587953"
      },
      "execution_count": null,
      "outputs": [
        {
          "output_type": "stream",
          "name": "stdout",
          "text": [
            "name\n",
            "number_of_moons\n",
            "number_in_solar_system\n",
            "life_support\n",
            "others\n"
          ]
        }
      ]
    },
    {
      "cell_type": "code",
      "source": [
        "stocks = {\n",
        "    'AAPL': 121,\n",
        "    'AMZN': 3380,\n",
        "    'MSFT': 219,\n",
        "    'BIIB': 280,\n",
        "    'QDEL': 266,\n",
        "    'LVGO': 144\n",
        "}"
      ],
      "metadata": {
        "id": "sJ2D-_-smWmd"
      },
      "execution_count": null,
      "outputs": []
    },
    {
      "cell_type": "code",
      "source": [
        "new_stocks = {}\n",
        "for symbol, price in stocks.items():\n",
        "    new_stocks[symbol] = price*1.02\n",
        "\n",
        "print(new_stocks)"
      ],
      "metadata": {
        "id": "Ib7b-bWOmW0r",
        "colab": {
          "base_uri": "https://localhost:8080/"
        },
        "outputId": "0766c1d8-c6e4-41ad-901e-0f9f887af28b"
      },
      "execution_count": null,
      "outputs": [
        {
          "output_type": "stream",
          "name": "stdout",
          "text": [
            "{'AAPL': 123.42, 'AMZN': 3447.6, 'MSFT': 223.38, 'BIIB': 285.6, 'QDEL': 271.32, 'LVGO': 146.88}\n"
          ]
        }
      ]
    },
    {
      "cell_type": "markdown",
      "source": [
        "## Time for some quick questions! Are you ready?"
      ],
      "metadata": {
        "id": "oF_0cVyfjWpZ"
      }
    },
    {
      "cell_type": "markdown",
      "source": [
        "**Q1.** *What will be the output for the following code,*         \n",
        "```\n",
        "a = input(\"Enter the value for a:- \")            \n",
        "b = input(\"Enter the value for b:- \")               \n",
        "print(a + b)\n",
        "```                     \n",
        "\n",
        "*Assume that user will input a as 1 and b as 9*\n",
        "\n",
        "**A)** 10         \n",
        "**B)** 19       \n",
        "**C)** 1+9          \n",
        "**D)** Syntax Error\n"
      ],
      "metadata": {
        "id": "oO6HY7gQjeqY"
      }
    },
    {
      "cell_type": "code",
      "source": [
        "a = input(\"Enter the value for a:-\")"
      ],
      "metadata": {
        "colab": {
          "base_uri": "https://localhost:8080/"
        },
        "id": "gJqx01Uv5Y85",
        "outputId": "b9a10720-0a15-40d4-ae88-6fe77202eacb"
      },
      "execution_count": null,
      "outputs": [
        {
          "name": "stdout",
          "output_type": "stream",
          "text": [
            "Enter the value for a:-1\n"
          ]
        }
      ]
    },
    {
      "cell_type": "code",
      "source": [
        "b = input(\"Enter the value for b:-\")"
      ],
      "metadata": {
        "colab": {
          "base_uri": "https://localhost:8080/"
        },
        "id": "ENG0JYWc5f_p",
        "outputId": "2c625ce0-9930-47e5-c5c9-c68f7beb290e"
      },
      "execution_count": null,
      "outputs": [
        {
          "name": "stdout",
          "output_type": "stream",
          "text": [
            "Enter the value for b:-9\n"
          ]
        }
      ]
    },
    {
      "cell_type": "code",
      "source": [
        "type(a)"
      ],
      "metadata": {
        "colab": {
          "base_uri": "https://localhost:8080/"
        },
        "id": "8OTlRYps6Voa",
        "outputId": "29a07796-958e-45ac-c885-79126700462e"
      },
      "execution_count": null,
      "outputs": [
        {
          "output_type": "execute_result",
          "data": {
            "text/plain": [
              "str"
            ]
          },
          "metadata": {},
          "execution_count": 87
        }
      ]
    },
    {
      "cell_type": "code",
      "source": [
        "type(b)"
      ],
      "metadata": {
        "colab": {
          "base_uri": "https://localhost:8080/"
        },
        "id": "vEcLXHIG6XqJ",
        "outputId": "6bd19754-525d-4a59-8c59-a87c38cdcb00"
      },
      "execution_count": null,
      "outputs": [
        {
          "output_type": "execute_result",
          "data": {
            "text/plain": [
              "str"
            ]
          },
          "metadata": {},
          "execution_count": 88
        }
      ]
    },
    {
      "cell_type": "code",
      "source": [
        "print(a + b)                # Answer is 19 since type(a) and type(b) is string..."
      ],
      "metadata": {
        "colab": {
          "base_uri": "https://localhost:8080/"
        },
        "id": "JA8y0R5t5l0I",
        "outputId": "3074d32e-6980-4c6a-a4dc-089d6bb9fbf5"
      },
      "execution_count": null,
      "outputs": [
        {
          "output_type": "stream",
          "name": "stdout",
          "text": [
            "19\n"
          ]
        }
      ]
    },
    {
      "cell_type": "markdown",
      "source": [
        "**Q2.** *Write a code with membership operator to check if \"Astrophysics\" is present in the `interest` list mentioned below,*\n",
        "\n",
        "`interest = [\"Astronomy\", \"Astrophysics\", \"Deep Learning\", \"Football\"]`"
      ],
      "metadata": {
        "id": "OiWksTO-l1Mx"
      }
    },
    {
      "cell_type": "code",
      "source": [
        "interest = ['Astronomy', 'Astrophysics', 'Deep Learning', 'Football']\n",
        "\n",
        "print('Astrophysics' in interest)"
      ],
      "metadata": {
        "id": "WURaq4efl0mB",
        "colab": {
          "base_uri": "https://localhost:8080/"
        },
        "outputId": "746fd019-7492-4103-972c-dbacf0eccd68"
      },
      "execution_count": null,
      "outputs": [
        {
          "output_type": "stream",
          "name": "stdout",
          "text": [
            "True\n"
          ]
        }
      ]
    },
    {
      "cell_type": "markdown",
      "source": [
        "**Q3.** *We looked at % operator a while ago. What would a % b mean?*    \n",
        "\n",
        "**A)** It divides a by b and converts the answer into percentage  \n",
        "**B)** It yields the reaminder from the division of a by b     \n",
        "**C)** It rounds off a upto b decimal places           \n",
        "**D)** It compares a with b as in which value is bigger\n"
      ],
      "metadata": {
        "id": "lu7jt4pboaem"
      }
    },
    {
      "cell_type": "code",
      "source": [
        "33 % 3       # Answer is B"
      ],
      "metadata": {
        "colab": {
          "base_uri": "https://localhost:8080/"
        },
        "id": "0IlX2Hh1nqq_",
        "outputId": "ba9373f8-6819-4583-8af7-1e687f039e93"
      },
      "execution_count": null,
      "outputs": [
        {
          "output_type": "execute_result",
          "data": {
            "text/plain": [
              "0"
            ]
          },
          "metadata": {},
          "execution_count": 91
        }
      ]
    },
    {
      "cell_type": "markdown",
      "source": [
        "**Q4.** *Write a code using `%` and `==` operators to check if 2 and 3 are even and odd numbers respectively*"
      ],
      "metadata": {
        "id": "BdoEyXrFqlO7"
      }
    },
    {
      "cell_type": "code",
      "source": [
        "print(2 % 2 == 0)   # it is even"
      ],
      "metadata": {
        "id": "t-MYjjywq3WT",
        "colab": {
          "base_uri": "https://localhost:8080/"
        },
        "outputId": "a8391963-9f80-41af-b4cb-e73753ef1807"
      },
      "execution_count": null,
      "outputs": [
        {
          "output_type": "stream",
          "name": "stdout",
          "text": [
            "True\n"
          ]
        }
      ]
    },
    {
      "cell_type": "code",
      "source": [
        "print(3 % 2 == 0 )  # It is odd"
      ],
      "metadata": {
        "colab": {
          "base_uri": "https://localhost:8080/"
        },
        "id": "jjpktNSh8wZg",
        "outputId": "d87d9b1e-eb6b-4d77-f314-b53771ae60a6"
      },
      "execution_count": null,
      "outputs": [
        {
          "output_type": "stream",
          "name": "stdout",
          "text": [
            "False\n"
          ]
        }
      ]
    },
    {
      "cell_type": "markdown",
      "source": [
        "**Q5.** *How many mistakes can you spot in the following code?*        \n",
        "\n",
        "\n",
        "\n",
        "```\n",
        "a, b, c = 2, 4, 1                \n",
        "D = b^2 - 4ac                   \n",
        " print(f\"For a = {a}, b = {b}, and c = {c}, \\nDiscriminant = {D}\")\n",
        "```\n",
        "\n",
        "       \n",
        "\n",
        "*Can you fix these errors? Code it out:- *"
      ],
      "metadata": {
        "id": "w2gqn1RVsLpu"
      }
    },
    {
      "cell_type": "code",
      "source": [
        "a, b, c = 2, 4, 1 \n",
        "\n",
        "D = b ** 2 - 4 * a * c \n",
        "\n",
        "print(f'For a = {a}, b = {b}, and c = {c}, \\n Discriminant = {D}')"
      ],
      "metadata": {
        "id": "i7q2yRW-se7B",
        "colab": {
          "base_uri": "https://localhost:8080/"
        },
        "outputId": "1b19e377-cfea-49a1-b398-417bfab0ddb0"
      },
      "execution_count": null,
      "outputs": [
        {
          "output_type": "stream",
          "name": "stdout",
          "text": [
            "For a = 2, b = 4, and c = 1, \n",
            " Discriminant = 8\n"
          ]
        }
      ]
    }
  ]
}
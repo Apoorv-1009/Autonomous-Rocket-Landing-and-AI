{
  "nbformat": 4,
  "nbformat_minor": 0,
  "metadata": {
    "colab": {
      "provenance": []
    },
    "kernelspec": {
      "name": "python3",
      "display_name": "Python 3"
    },
    "language_info": {
      "name": "python"
    }
  },
  "cells": [
    {
      "cell_type": "markdown",
      "source": [
        "### Today we will look at Control Flow, and Functions!\n",
        "\n",
        "For reading files, we need to add them to our workspace.\n",
        "\n",
        "On Colab/Kaggle notebooks, that's the google-drive/kernel respectively."
      ],
      "metadata": {
        "id": "Q5tgwbPsvbls"
      }
    },
    {
      "cell_type": "markdown",
      "source": [
        "### Control Flow in Python"
      ],
      "metadata": {
        "id": "kp5oy1deQExi"
      }
    },
    {
      "cell_type": "code",
      "source": [
        "for index in range(5):         # range is 0,1,2,3,4\n",
        "    print(index)"
      ],
      "metadata": {
        "id": "nC4UZIJQTp4Q",
        "colab": {
          "base_uri": "https://localhost:8080/"
        },
        "outputId": "9cbef943-e942-4896-eb72-d908542e4e5b"
      },
      "execution_count": null,
      "outputs": [
        {
          "output_type": "stream",
          "name": "stdout",
          "text": [
            "0\n",
            "1\n",
            "2\n",
            "3\n",
            "4\n"
          ]
        }
      ]
    },
    {
      "cell_type": "code",
      "source": [
        "# range(start, stop, step)\n",
        "\n",
        "for index in range(0, 11, 2):   # 0 , 2 , 4, 6 ,8, 10\n",
        "    print(index)"
      ],
      "metadata": {
        "colab": {
          "base_uri": "https://localhost:8080/"
        },
        "id": "fLPBdNcETzlL",
        "outputId": "c253d28d-49d7-4902-b41e-0f648f73e63d"
      },
      "execution_count": null,
      "outputs": [
        {
          "output_type": "stream",
          "name": "stdout",
          "text": [
            "0\n",
            "2\n",
            "4\n",
            "6\n",
            "8\n",
            "10\n"
          ]
        }
      ]
    },
    {
      "cell_type": "markdown",
      "source": [
        "1. Use the if statement when you want to run a code block based on a condition.\n",
        "2. Use the if...else statement when you want to run another code block if the   condition is not True.\n",
        "3. Use the if...elif...else statement when you want to check multiple conditions and run the corresponding code block that follows the condition that evaluates to True."
      ],
      "metadata": {
        "id": "XDp7cv3sTVsh"
      }
    },
    {
      "cell_type": "markdown",
      "source": [
        "if...elif...else control statements or Conditions"
      ],
      "metadata": {
        "id": "zhX9lqF5yw5q"
      }
    },
    {
      "cell_type": "code",
      "source": [
        "5 % 2"
      ],
      "metadata": {
        "colab": {
          "base_uri": "https://localhost:8080/"
        },
        "id": "SvspMjlLzD4C",
        "outputId": "9ca4a624-98c6-4147-da89-5181330120a7"
      },
      "execution_count": null,
      "outputs": [
        {
          "output_type": "execute_result",
          "data": {
            "text/plain": [
              "1"
            ]
          },
          "metadata": {},
          "execution_count": 33
        }
      ]
    },
    {
      "cell_type": "code",
      "source": [
        "a = 5"
      ],
      "metadata": {
        "id": "fIjawBRvei0a"
      },
      "execution_count": null,
      "outputs": []
    },
    {
      "cell_type": "code",
      "source": [
        "if a % 2 == 1:      #Door\n",
        "  print('a is Even Number')                   # ????????????????????????"
      ],
      "metadata": {
        "id": "7TXGHvNoeOZt",
        "colab": {
          "base_uri": "https://localhost:8080/"
        },
        "outputId": "81aa9e43-8904-4acd-a541-24d23886a8a2"
      },
      "execution_count": null,
      "outputs": [
        {
          "output_type": "stream",
          "name": "stdout",
          "text": [
            "a is Even Number\n"
          ]
        }
      ]
    },
    {
      "cell_type": "code",
      "source": [
        "if a % 2 == 0:\n",
        "  print('a is Even Number')\n",
        "else:\n",
        "  print('a is ODD Number')                    # ??????????????????????????"
      ],
      "metadata": {
        "colab": {
          "base_uri": "https://localhost:8080/"
        },
        "id": "Xu68lGcgezbD",
        "outputId": "9fca1d3e-cd2a-4393-9ce3-8e7b3742ce0e"
      },
      "execution_count": null,
      "outputs": [
        {
          "output_type": "stream",
          "name": "stdout",
          "text": [
            "a is ODD Number\n"
          ]
        }
      ]
    },
    {
      "cell_type": "code",
      "source": [
        "if a % 2 == 0:\n",
        "  print('a is Even Number')\n",
        "elif a % 2 == True:                 # elif >>>>> else if \n",
        "  print('a is ODD Number')\n",
        "else:\n",
        "  pass"
      ],
      "metadata": {
        "colab": {
          "base_uri": "https://localhost:8080/"
        },
        "id": "BvCOToHJfr0M",
        "outputId": "0d105059-32b6-44c0-f860-6321f8f7d1ef"
      },
      "execution_count": null,
      "outputs": [
        {
          "output_type": "stream",
          "name": "stdout",
          "text": [
            "a is ODD Number\n"
          ]
        }
      ]
    },
    {
      "cell_type": "code",
      "source": [
        "# break: used to terminate a for loop or a while loop prematurely.\n",
        "\n",
        "for index in range(0, 5):  # 0,1,2,3,4 \n",
        "    print(index)\n",
        "    if index == 3:\n",
        "        break"
      ],
      "metadata": {
        "colab": {
          "base_uri": "https://localhost:8080/"
        },
        "id": "j5hi3s_OUI3Y",
        "outputId": "62117228-b888-4942-b265-fc2fa6e08df6"
      },
      "execution_count": null,
      "outputs": [
        {
          "output_type": "stream",
          "name": "stdout",
          "text": [
            "0\n",
            "1\n",
            "2\n",
            "3\n"
          ]
        }
      ]
    },
    {
      "cell_type": "code",
      "source": [
        "range(0,3)   # 0,1,2"
      ],
      "metadata": {
        "id": "eFhVkud3EXz_"
      },
      "execution_count": null,
      "outputs": []
    },
    {
      "cell_type": "code",
      "source": [
        "# using break inside while\n",
        "\n",
        "\n",
        "while True:\n",
        "    color = input('Enter your favorite color:')\n",
        "    if color.lower() == 'quit':\n",
        "        break"
      ],
      "metadata": {
        "colab": {
          "base_uri": "https://localhost:8080/"
        },
        "id": "1xbKRUZvVfup",
        "outputId": "61a4985e-1635-422b-e937-03f32bee45e2"
      },
      "execution_count": null,
      "outputs": [
        {
          "name": "stdout",
          "output_type": "stream",
          "text": [
            "Enter your favorite color:ggg\n",
            "Enter your favorite color:Quit\n"
          ]
        }
      ]
    },
    {
      "cell_type": "code",
      "source": [
        "0 % 2"
      ],
      "metadata": {
        "colab": {
          "base_uri": "https://localhost:8080/"
        },
        "id": "Z43orrhr3t2R",
        "outputId": "72f6d95c-b379-4732-ec7d-7495169203c2"
      },
      "execution_count": null,
      "outputs": [
        {
          "output_type": "execute_result",
          "data": {
            "text/plain": [
              "0"
            ]
          },
          "metadata": {},
          "execution_count": 7
        }
      ]
    },
    {
      "cell_type": "code",
      "source": [
        "1 % 2"
      ],
      "metadata": {
        "colab": {
          "base_uri": "https://localhost:8080/"
        },
        "id": "0BB7DUxxCA93",
        "outputId": "52ae5446-5581-4cf8-abd3-c431376f8a80"
      },
      "execution_count": null,
      "outputs": [
        {
          "output_type": "execute_result",
          "data": {
            "text/plain": [
              "1"
            ]
          },
          "metadata": {},
          "execution_count": 8
        }
      ]
    },
    {
      "cell_type": "code",
      "source": [
        "#continue inside for\n",
        "for index in range(5):   # 0 , 1, 2, 3, 4\n",
        "  if index % 2:       # index % 2 ==1:\n",
        "    continue\n",
        "  print(index)"
      ],
      "metadata": {
        "colab": {
          "base_uri": "https://localhost:8080/"
        },
        "id": "eMVRi9FwFzMK",
        "outputId": "2208478b-7b4f-4b39-9408-1f634cee615e"
      },
      "execution_count": null,
      "outputs": [
        {
          "output_type": "stream",
          "name": "stdout",
          "text": [
            "0\n",
            "2\n",
            "4\n"
          ]
        }
      ]
    },
    {
      "cell_type": "code",
      "source": [
        "# continue inside while\n",
        "\n",
        "index = 0\n",
        "while index < 10:\n",
        "    index += 1\n",
        "\n",
        "    if not index % 2:  # index % 2 == 0:\n",
        "        continue\n",
        "\n",
        "    print(index)"
      ],
      "metadata": {
        "colab": {
          "base_uri": "https://localhost:8080/"
        },
        "id": "DnN9xBSEWhnA",
        "outputId": "502ba401-6e4c-4430-eb07-64f9bb3cc078"
      },
      "execution_count": null,
      "outputs": [
        {
          "output_type": "stream",
          "name": "stdout",
          "text": [
            "1\n",
            "3\n",
            "5\n",
            "7\n",
            "9\n"
          ]
        }
      ]
    },
    {
      "cell_type": "code",
      "source": [
        "index = 1"
      ],
      "metadata": {
        "id": "Uw4OuxKcDQsN"
      },
      "execution_count": null,
      "outputs": []
    },
    {
      "cell_type": "code",
      "source": [
        "# The pass statement is a statement that does nothing. \n",
        "# It’s just a placeholder for the code that you’ll write in the future.\n",
        "\n",
        "if index < 80:\n",
        "    pass\n",
        "\n",
        "for i in range(1,100):\n",
        "    pass\n"
      ],
      "metadata": {
        "id": "fM7hl6bXXAY5"
      },
      "execution_count": null,
      "outputs": []
    },
    {
      "cell_type": "markdown",
      "source": [
        "### Functions!\n",
        "\n",
        "To avoid rewriting the same code."
      ],
      "metadata": {
        "id": "3fKZJlOwXaDA"
      }
    },
    {
      "cell_type": "markdown",
      "source": [
        "Default Parameters\n",
        "\n",
        "1. Use Python default parameters to simplify the function calls.\n",
        "2. Place default parameters after the non-default parameters."
      ],
      "metadata": {
        "id": "My1b__PGcRC4"
      }
    },
    {
      "cell_type": "code",
      "source": [
        "# default parameters\n",
        "\n",
        "def greet():\n",
        "  return 'Hi'\n",
        "\n"
      ],
      "metadata": {
        "id": "-TWJnqJRapEr"
      },
      "execution_count": null,
      "outputs": []
    },
    {
      "cell_type": "code",
      "source": [
        "greet()"
      ],
      "metadata": {
        "colab": {
          "base_uri": "https://localhost:8080/",
          "height": 36
        },
        "id": "nl7ad0247sZl",
        "outputId": "96f8f8a2-2066-4925-de0a-fd4bd43e5e5a"
      },
      "execution_count": null,
      "outputs": [
        {
          "output_type": "execute_result",
          "data": {
            "text/plain": [
              "'Hi'"
            ],
            "application/vnd.google.colaboratory.intrinsic+json": {
              "type": "string"
            }
          },
          "metadata": {},
          "execution_count": 2
        }
      ]
    },
    {
      "cell_type": "code",
      "source": [
        "greet()\n"
      ],
      "metadata": {
        "colab": {
          "base_uri": "https://localhost:8080/",
          "height": 36
        },
        "id": "w5ebgnL37xqo",
        "outputId": "2add6dec-beca-4cbc-d672-fb919e4f77b1"
      },
      "execution_count": null,
      "outputs": [
        {
          "output_type": "execute_result",
          "data": {
            "text/plain": [
              "'Hi'"
            ],
            "application/vnd.google.colaboratory.intrinsic+json": {
              "type": "string"
            }
          },
          "metadata": {},
          "execution_count": 3
        }
      ]
    },
    {
      "cell_type": "code",
      "source": [
        "for i in range(5):\n",
        "  print(greet())"
      ],
      "metadata": {
        "colab": {
          "base_uri": "https://localhost:8080/"
        },
        "id": "QbO4mt3O70nG",
        "outputId": "3cd7960f-3098-40cd-a0e6-27921349ffc0"
      },
      "execution_count": null,
      "outputs": [
        {
          "output_type": "stream",
          "name": "stdout",
          "text": [
            "Hi\n",
            "Hi\n",
            "Hi\n",
            "Hi\n",
            "Hi\n"
          ]
        }
      ]
    },
    {
      "cell_type": "code",
      "source": [
        "def greet(name):\n",
        "  return f'Hi, {name}'\n",
        "\n",
        "greet('Rohan')"
      ],
      "metadata": {
        "colab": {
          "base_uri": "https://localhost:8080/",
          "height": 36
        },
        "id": "mWqZJ1flbDJw",
        "outputId": "b68e30c3-e3d0-4dbe-f42a-2b84e44486c5"
      },
      "execution_count": null,
      "outputs": [
        {
          "output_type": "execute_result",
          "data": {
            "text/plain": [
              "'Hi, Rohan'"
            ],
            "application/vnd.google.colaboratory.intrinsic+json": {
              "type": "string"
            }
          },
          "metadata": {},
          "execution_count": 5
        }
      ]
    },
    {
      "cell_type": "code",
      "source": [
        "def greet(name, message='Hey!'):\n",
        "    return f'{message} {name}'\n",
        "\n",
        "\n",
        "greet('Aman')"
      ],
      "metadata": {
        "colab": {
          "base_uri": "https://localhost:8080/",
          "height": 36
        },
        "id": "IkwY907ga9RY",
        "outputId": "05a14020-1a1c-43ea-c8d4-c1cadfc8bf40"
      },
      "execution_count": null,
      "outputs": [
        {
          "output_type": "execute_result",
          "data": {
            "text/plain": [
              "'Hey! Aman'"
            ],
            "application/vnd.google.colaboratory.intrinsic+json": {
              "type": "string"
            }
          },
          "metadata": {},
          "execution_count": 6
        }
      ]
    },
    {
      "cell_type": "code",
      "source": [
        "def greet(name, message='Hey', question='Did you attend the last session?'):\n",
        "    return f'{message} {name}, {question}'\n",
        "\n",
        "\n",
        "greet('Rohan')"
      ],
      "metadata": {
        "colab": {
          "base_uri": "https://localhost:8080/",
          "height": 36
        },
        "id": "3eSBQC9Fb20B",
        "outputId": "8b4413b8-9727-47f2-d3e9-c8494be0597d"
      },
      "execution_count": null,
      "outputs": [
        {
          "output_type": "execute_result",
          "data": {
            "text/plain": [
              "'Hey Rohan, Did you attend the last session?'"
            ],
            "application/vnd.google.colaboratory.intrinsic+json": {
              "type": "string"
            }
          },
          "metadata": {},
          "execution_count": 7
        }
      ]
    },
    {
      "cell_type": "code",
      "source": [
        "greet('Rohan', message='Hi', question = 'How are you?')"
      ],
      "metadata": {
        "colab": {
          "base_uri": "https://localhost:8080/",
          "height": 36
        },
        "id": "loFJD3LrliTD",
        "outputId": "a76c1e3d-8b25-4e4a-d532-f254dba94705"
      },
      "execution_count": null,
      "outputs": [
        {
          "output_type": "execute_result",
          "data": {
            "text/plain": [
              "'Hi Rohan, How are you?'"
            ],
            "application/vnd.google.colaboratory.intrinsic+json": {
              "type": "string"
            }
          },
          "metadata": {},
          "execution_count": 8
        }
      ]
    },
    {
      "cell_type": "code",
      "source": [
        "# keyword arguments\n",
        "\n",
        "def get_net_price(price, discount):\n",
        "    return price * (1-discount)   "
      ],
      "metadata": {
        "id": "MmNrlUBycmIJ"
      },
      "execution_count": null,
      "outputs": []
    },
    {
      "cell_type": "code",
      "source": [
        "net_price = get_net_price(100, 0.1)\n",
        "print(net_price)"
      ],
      "metadata": {
        "id": "TuZLqcXVcn_Q",
        "colab": {
          "base_uri": "https://localhost:8080/"
        },
        "outputId": "2c7775f9-4f5b-4be0-e143-d623149bf4d1"
      },
      "execution_count": null,
      "outputs": [
        {
          "output_type": "stream",
          "name": "stdout",
          "text": [
            "90.0\n"
          ]
        }
      ]
    },
    {
      "cell_type": "markdown",
      "source": [
        "By using the keyword argument syntax, you don’t need to specify the arguments in the same order as defined in the function.\n",
        "\n",
        "`fn(parameter2=value2,parameter1=value1)`"
      ],
      "metadata": {
        "id": "njXbG__NSX-h"
      }
    },
    {
      "cell_type": "code",
      "source": [
        "net_price = get_net_price(price=100, discount=0.1)\n",
        "print(net_price)"
      ],
      "metadata": {
        "id": "rHObuBEJcn3y",
        "colab": {
          "base_uri": "https://localhost:8080/"
        },
        "outputId": "ad9e6b78-447f-4bbc-e353-f7c0d74e235a"
      },
      "execution_count": null,
      "outputs": [
        {
          "output_type": "stream",
          "name": "stdout",
          "text": [
            "90.0\n"
          ]
        }
      ]
    },
    {
      "cell_type": "code",
      "source": [
        "net_price = get_net_price(discount=0.1, price=100)\n",
        "print(net_price)"
      ],
      "metadata": {
        "colab": {
          "base_uri": "https://localhost:8080/"
        },
        "id": "h06WV2aeSiu7",
        "outputId": "2727cff6-6094-4cde-f699-871f1b2c811b"
      },
      "execution_count": null,
      "outputs": [
        {
          "output_type": "stream",
          "name": "stdout",
          "text": [
            "90.0\n"
          ]
        }
      ]
    },
    {
      "cell_type": "code",
      "source": [
        "# Note that you can call a function by mixing positional and keyword arguments. \n",
        "\n",
        "net_price = get_net_price(100, discount=0.1)\n",
        "print(net_price)"
      ],
      "metadata": {
        "colab": {
          "base_uri": "https://localhost:8080/"
        },
        "id": "6D1KzsedSiaQ",
        "outputId": "72739a81-29b5-4a99-8c65-efb5585030c0"
      },
      "execution_count": null,
      "outputs": [
        {
          "output_type": "stream",
          "name": "stdout",
          "text": [
            "90.0\n"
          ]
        }
      ]
    },
    {
      "cell_type": "code",
      "source": [
        "# Keyword arguments and default parameters\n",
        "\n",
        "def get_net_price(price, tax=0.07, discount=0.05):\n",
        "    return price * (1 + tax - discount)"
      ],
      "metadata": {
        "id": "xuKn7y_hS9b3"
      },
      "execution_count": null,
      "outputs": []
    },
    {
      "cell_type": "code",
      "source": [
        "net_price = get_net_price(100)\n",
        "print(net_price)"
      ],
      "metadata": {
        "colab": {
          "base_uri": "https://localhost:8080/"
        },
        "id": "eXw8G65dS9YW",
        "outputId": "d1c2dc4c-809a-453e-9b9b-4f4e9bbab6bd"
      },
      "execution_count": null,
      "outputs": [
        {
          "output_type": "stream",
          "name": "stdout",
          "text": [
            "102.0\n"
          ]
        }
      ]
    },
    {
      "cell_type": "code",
      "source": [
        "# Once you use a keyword argument, you need to use keyword arguments for the remaining (next) parameters.\n",
        "\n",
        "net_price = get_net_price(100, tax=0.08, 0.06) "
      ],
      "metadata": {
        "colab": {
          "base_uri": "https://localhost:8080/",
          "height": 130
        },
        "id": "mTauQrFIS9WB",
        "outputId": "6d4804cf-c0db-4d7f-f369-35503dc459b2"
      },
      "execution_count": null,
      "outputs": [
        {
          "output_type": "error",
          "ename": "SyntaxError",
          "evalue": "ignored",
          "traceback": [
            "\u001b[0;36m  File \u001b[0;32m\"<ipython-input-16-6d3b08b988b0>\"\u001b[0;36m, line \u001b[0;32m3\u001b[0m\n\u001b[0;31m    net_price = get_net_price(100, tax=0.08, 0.06)\u001b[0m\n\u001b[0m                                            ^\u001b[0m\n\u001b[0;31mSyntaxError\u001b[0m\u001b[0;31m:\u001b[0m positional argument follows keyword argument\n"
          ]
        }
      ]
    },
    {
      "cell_type": "code",
      "source": [
        "# To fix this, you need to use the keyword argument for the third argument like this:\n",
        "\n",
        "net_price = get_net_price(100, tax=0.08, discount=0.06)\n",
        "print(net_price)"
      ],
      "metadata": {
        "colab": {
          "base_uri": "https://localhost:8080/"
        },
        "id": "VJiAVwpFS9Tb",
        "outputId": "85059ee7-e4d7-4da1-96ae-32c5c169b719"
      },
      "execution_count": null,
      "outputs": [
        {
          "output_type": "stream",
          "name": "stdout",
          "text": [
            "102.0\n"
          ]
        }
      ]
    },
    {
      "cell_type": "markdown",
      "source": [
        "#### Recursive functions"
      ],
      "metadata": {
        "id": "00lT1vgxUqfj"
      }
    },
    {
      "cell_type": "code",
      "source": [
        "# let's write a function to count down before a rocket launch!\n",
        "\n",
        "def count_down(start):\n",
        "    \"\"\" Count down from a number  \"\"\"\n",
        "    print(start)"
      ],
      "metadata": {
        "id": "7n-Zcymecnz4"
      },
      "execution_count": null,
      "outputs": []
    },
    {
      "cell_type": "code",
      "source": [
        "count_down(3)"
      ],
      "metadata": {
        "id": "d5XPgeEucrqH",
        "colab": {
          "base_uri": "https://localhost:8080/"
        },
        "outputId": "b2f06c2f-8102-48f8-d5d4-db68de3934b5"
      },
      "execution_count": null,
      "outputs": [
        {
          "output_type": "stream",
          "name": "stdout",
          "text": [
            "3\n"
          ]
        }
      ]
    },
    {
      "cell_type": "code",
      "source": [
        "count_down(3)\n",
        "count_down(2)\n",
        "count_down(1)               #???????????????????????"
      ],
      "metadata": {
        "id": "K_sT6OAKcrnr",
        "colab": {
          "base_uri": "https://localhost:8080/"
        },
        "outputId": "8b3bd9db-6912-4228-9973-53a5b20e680a"
      },
      "execution_count": null,
      "outputs": [
        {
          "output_type": "stream",
          "name": "stdout",
          "text": [
            "3\n",
            "2\n",
            "1\n"
          ]
        }
      ]
    },
    {
      "cell_type": "code",
      "source": [
        "# let's use recursion to make this function call itself\n",
        "def count_down(start):\n",
        "    \"\"\" Count down from a number  \"\"\"\n",
        "    print(start)\n",
        "    count_down(start-1)\n",
        "\n",
        "\n",
        "count_down(3)"
      ],
      "metadata": {
        "id": "1mAyWo95crjy",
        "colab": {
          "base_uri": "https://localhost:8080/",
          "height": 1000
        },
        "outputId": "2c0c4393-d276-401f-964c-190af507620a"
      },
      "execution_count": null,
      "outputs": [
        {
          "output_type": "stream",
          "name": "stdout",
          "text": [
            "3\n",
            "2\n",
            "1\n",
            "0\n",
            "-1\n",
            "-2\n",
            "-3\n",
            "-4\n",
            "-5\n",
            "-6\n",
            "-7\n",
            "-8\n",
            "-9\n",
            "-10\n",
            "-11\n",
            "-12\n",
            "-13\n",
            "-14\n",
            "-15\n",
            "-16\n",
            "-17\n",
            "-18\n",
            "-19\n",
            "-20\n",
            "-21\n",
            "-22\n",
            "-23\n",
            "-24\n",
            "-25\n",
            "-26\n",
            "-27\n",
            "-28\n",
            "-29\n",
            "-30\n",
            "-31\n",
            "-32\n",
            "-33\n",
            "-34\n",
            "-35\n",
            "-36\n",
            "-37\n",
            "-38\n",
            "-39\n",
            "-40\n",
            "-41\n",
            "-42\n",
            "-43\n",
            "-44\n",
            "-45\n",
            "-46\n",
            "-47\n",
            "-48\n",
            "-49\n",
            "-50\n",
            "-51\n",
            "-52\n",
            "-53\n",
            "-54\n",
            "-55\n",
            "-56\n",
            "-57\n",
            "-58\n",
            "-59\n",
            "-60\n",
            "-61\n",
            "-62\n",
            "-63\n",
            "-64\n",
            "-65\n",
            "-66\n",
            "-67\n",
            "-68\n",
            "-69\n",
            "-70\n",
            "-71\n",
            "-72\n",
            "-73\n",
            "-74\n",
            "-75\n",
            "-76\n",
            "-77\n",
            "-78\n",
            "-79\n",
            "-80\n",
            "-81\n",
            "-82\n",
            "-83\n",
            "-84\n",
            "-85\n",
            "-86\n",
            "-87\n",
            "-88\n",
            "-89\n",
            "-90\n",
            "-91\n",
            "-92\n",
            "-93\n",
            "-94\n",
            "-95\n",
            "-96\n",
            "-97\n",
            "-98\n",
            "-99\n",
            "-100\n",
            "-101\n",
            "-102\n",
            "-103\n",
            "-104\n",
            "-105\n",
            "-106\n",
            "-107\n",
            "-108\n",
            "-109\n",
            "-110\n",
            "-111\n",
            "-112\n",
            "-113\n",
            "-114\n",
            "-115\n",
            "-116\n",
            "-117\n",
            "-118\n",
            "-119\n",
            "-120\n",
            "-121\n",
            "-122\n",
            "-123\n",
            "-124\n",
            "-125\n",
            "-126\n",
            "-127\n",
            "-128\n",
            "-129\n",
            "-130\n",
            "-131\n",
            "-132\n",
            "-133\n",
            "-134\n",
            "-135\n",
            "-136\n",
            "-137\n",
            "-138\n",
            "-139\n",
            "-140\n",
            "-141\n",
            "-142\n",
            "-143\n",
            "-144\n",
            "-145\n",
            "-146\n",
            "-147\n",
            "-148\n",
            "-149\n",
            "-150\n",
            "-151\n",
            "-152\n",
            "-153\n",
            "-154\n",
            "-155\n",
            "-156\n",
            "-157\n",
            "-158\n",
            "-159\n",
            "-160\n",
            "-161\n",
            "-162\n",
            "-163\n",
            "-164\n",
            "-165\n",
            "-166\n",
            "-167\n",
            "-168\n",
            "-169\n",
            "-170\n",
            "-171\n",
            "-172\n",
            "-173\n",
            "-174\n",
            "-175\n",
            "-176\n",
            "-177\n",
            "-178\n",
            "-179\n",
            "-180\n",
            "-181\n",
            "-182\n",
            "-183\n",
            "-184\n",
            "-185\n",
            "-186\n",
            "-187\n",
            "-188\n",
            "-189\n",
            "-190\n",
            "-191\n",
            "-192\n",
            "-193\n",
            "-194\n",
            "-195\n",
            "-196\n",
            "-197\n",
            "-198\n",
            "-199\n",
            "-200\n",
            "-201\n",
            "-202\n",
            "-203\n",
            "-204\n",
            "-205\n",
            "-206\n",
            "-207\n",
            "-208\n",
            "-209\n",
            "-210\n",
            "-211\n",
            "-212\n",
            "-213\n",
            "-214\n",
            "-215\n",
            "-216\n",
            "-217\n",
            "-218\n",
            "-219\n",
            "-220\n",
            "-221\n",
            "-222\n",
            "-223\n",
            "-224\n",
            "-225\n",
            "-226\n",
            "-227\n",
            "-228\n",
            "-229\n",
            "-230\n",
            "-231\n",
            "-232\n",
            "-233\n",
            "-234\n",
            "-235\n",
            "-236\n",
            "-237\n",
            "-238\n",
            "-239\n",
            "-240\n",
            "-241\n",
            "-242\n",
            "-243\n",
            "-244\n",
            "-245\n",
            "-246\n",
            "-247\n",
            "-248\n",
            "-249\n",
            "-250\n",
            "-251\n",
            "-252\n",
            "-253\n",
            "-254\n",
            "-255\n",
            "-256\n",
            "-257\n",
            "-258\n",
            "-259\n",
            "-260\n",
            "-261\n",
            "-262\n",
            "-263\n",
            "-264\n",
            "-265\n",
            "-266\n",
            "-267\n",
            "-268\n",
            "-269\n",
            "-270\n",
            "-271\n",
            "-272\n",
            "-273\n",
            "-274\n",
            "-275\n",
            "-276\n",
            "-277\n",
            "-278\n",
            "-279\n",
            "-280\n",
            "-281\n",
            "-282\n",
            "-283\n",
            "-284\n",
            "-285\n",
            "-286\n",
            "-287\n",
            "-288\n",
            "-289\n",
            "-290\n",
            "-291\n",
            "-292\n",
            "-293\n",
            "-294\n",
            "-295\n",
            "-296\n",
            "-297\n",
            "-298\n",
            "-299\n",
            "-300\n",
            "-301\n",
            "-302\n",
            "-303\n",
            "-304\n",
            "-305\n",
            "-306\n",
            "-307\n",
            "-308\n",
            "-309\n",
            "-310\n",
            "-311\n",
            "-312\n",
            "-313\n",
            "-314\n",
            "-315\n",
            "-316\n",
            "-317\n",
            "-318\n",
            "-319\n",
            "-320\n",
            "-321\n",
            "-322\n",
            "-323\n",
            "-324\n",
            "-325\n",
            "-326\n",
            "-327\n",
            "-328\n",
            "-329\n",
            "-330\n",
            "-331\n",
            "-332\n",
            "-333\n",
            "-334\n",
            "-335\n",
            "-336\n",
            "-337\n",
            "-338\n",
            "-339\n",
            "-340\n",
            "-341\n",
            "-342\n",
            "-343\n",
            "-344\n",
            "-345\n",
            "-346\n",
            "-347\n",
            "-348\n",
            "-349\n",
            "-350\n",
            "-351\n",
            "-352\n",
            "-353\n",
            "-354\n",
            "-355\n",
            "-356\n",
            "-357\n",
            "-358\n",
            "-359\n",
            "-360\n",
            "-361\n",
            "-362\n",
            "-363\n",
            "-364\n",
            "-365\n",
            "-366\n",
            "-367\n",
            "-368\n",
            "-369\n",
            "-370\n",
            "-371\n",
            "-372\n",
            "-373\n",
            "-374\n",
            "-375\n",
            "-376\n",
            "-377\n",
            "-378\n",
            "-379\n",
            "-380\n",
            "-381\n",
            "-382\n",
            "-383\n",
            "-384\n",
            "-385\n",
            "-386\n",
            "-387\n",
            "-388\n",
            "-389\n",
            "-390\n",
            "-391\n",
            "-392\n",
            "-393\n",
            "-394\n",
            "-395\n",
            "-396\n",
            "-397\n",
            "-398\n",
            "-399\n",
            "-400\n",
            "-401\n",
            "-402\n",
            "-403\n",
            "-404\n",
            "-405\n",
            "-406\n",
            "-407\n",
            "-408\n",
            "-409\n",
            "-410\n",
            "-411\n",
            "-412\n",
            "-413\n",
            "-414\n",
            "-415\n",
            "-416\n",
            "-417\n",
            "-418\n",
            "-419\n",
            "-420\n",
            "-421\n",
            "-422\n",
            "-423\n",
            "-424\n",
            "-425\n",
            "-426\n",
            "-427\n",
            "-428\n",
            "-429\n",
            "-430\n",
            "-431\n",
            "-432\n",
            "-433\n",
            "-434\n",
            "-435\n",
            "-436\n",
            "-437\n",
            "-438\n",
            "-439\n",
            "-440\n",
            "-441\n",
            "-442\n",
            "-443\n",
            "-444\n",
            "-445\n",
            "-446\n",
            "-447\n",
            "-448\n",
            "-449\n",
            "-450\n",
            "-451\n",
            "-452\n",
            "-453\n",
            "-454\n",
            "-455\n",
            "-456\n",
            "-457\n",
            "-458\n",
            "-459\n",
            "-460\n",
            "-461\n",
            "-462\n",
            "-463\n",
            "-464\n",
            "-465\n",
            "-466\n",
            "-467\n",
            "-468\n",
            "-469\n",
            "-470\n",
            "-471\n",
            "-472\n",
            "-473\n",
            "-474\n",
            "-475\n",
            "-476\n",
            "-477\n",
            "-478\n",
            "-479\n",
            "-480\n",
            "-481\n",
            "-482\n",
            "-483\n",
            "-484\n",
            "-485\n",
            "-486\n",
            "-487\n",
            "-488\n",
            "-489\n",
            "-490\n",
            "-491\n",
            "-492\n",
            "-493\n",
            "-494\n",
            "-495\n",
            "-496\n",
            "-497\n",
            "-498\n",
            "-499\n",
            "-500\n",
            "-501\n",
            "-502\n",
            "-503\n",
            "-504\n",
            "-505\n",
            "-506\n",
            "-507\n",
            "-508\n",
            "-509\n",
            "-510\n",
            "-511\n",
            "-512\n",
            "-513\n",
            "-514\n",
            "-515\n",
            "-516\n",
            "-517\n",
            "-518\n",
            "-519\n",
            "-520\n",
            "-521\n",
            "-522\n",
            "-523\n",
            "-524\n",
            "-525\n",
            "-526\n",
            "-527\n",
            "-528\n",
            "-529\n",
            "-530\n",
            "-531\n",
            "-532\n",
            "-533\n",
            "-534\n",
            "-535\n",
            "-536\n",
            "-537\n",
            "-538\n",
            "-539\n",
            "-540\n",
            "-541\n",
            "-542\n",
            "-543\n",
            "-544\n",
            "-545\n",
            "-546\n",
            "-547\n",
            "-548\n",
            "-549\n",
            "-550\n",
            "-551\n",
            "-552\n",
            "-553\n",
            "-554\n",
            "-555\n",
            "-556\n",
            "-557\n",
            "-558\n",
            "-559\n",
            "-560\n",
            "-561\n",
            "-562\n",
            "-563\n",
            "-564\n",
            "-565\n",
            "-566\n",
            "-567\n",
            "-568\n",
            "-569\n",
            "-570\n",
            "-571\n",
            "-572\n",
            "-573\n",
            "-574\n",
            "-575\n",
            "-576\n",
            "-577\n",
            "-578\n",
            "-579\n",
            "-580\n",
            "-581\n",
            "-582\n",
            "-583\n",
            "-584\n",
            "-585\n",
            "-586\n",
            "-587\n",
            "-588\n",
            "-589\n",
            "-590\n",
            "-591\n",
            "-592\n",
            "-593\n",
            "-594\n",
            "-595\n",
            "-596\n",
            "-597\n",
            "-598\n",
            "-599\n",
            "-600\n",
            "-601\n",
            "-602\n",
            "-603\n",
            "-604\n",
            "-605\n",
            "-606\n",
            "-607\n",
            "-608\n",
            "-609\n",
            "-610\n",
            "-611\n",
            "-612\n",
            "-613\n",
            "-614\n",
            "-615\n",
            "-616\n",
            "-617\n",
            "-618\n",
            "-619\n",
            "-620\n",
            "-621\n",
            "-622\n",
            "-623\n",
            "-624\n",
            "-625\n",
            "-626\n",
            "-627\n",
            "-628\n",
            "-629\n",
            "-630\n",
            "-631\n",
            "-632\n",
            "-633\n",
            "-634\n",
            "-635\n",
            "-636\n",
            "-637\n",
            "-638\n",
            "-639\n",
            "-640\n",
            "-641\n",
            "-642\n",
            "-643\n",
            "-644\n",
            "-645\n",
            "-646\n",
            "-647\n",
            "-648\n",
            "-649\n",
            "-650\n",
            "-651\n",
            "-652\n",
            "-653\n",
            "-654\n",
            "-655\n",
            "-656\n",
            "-657\n",
            "-658\n",
            "-659\n",
            "-660\n",
            "-661\n",
            "-662\n",
            "-663\n",
            "-664\n",
            "-665\n",
            "-666\n",
            "-667\n",
            "-668\n",
            "-669\n",
            "-670\n",
            "-671\n",
            "-672\n",
            "-673\n",
            "-674\n",
            "-675\n",
            "-676\n",
            "-677\n",
            "-678\n",
            "-679\n",
            "-680\n",
            "-681\n",
            "-682\n",
            "-683\n",
            "-684\n",
            "-685\n",
            "-686\n",
            "-687\n",
            "-688\n",
            "-689\n",
            "-690\n",
            "-691\n",
            "-692\n",
            "-693\n",
            "-694\n",
            "-695\n",
            "-696\n",
            "-697\n",
            "-698\n",
            "-699\n",
            "-700\n",
            "-701\n",
            "-702\n",
            "-703\n",
            "-704\n",
            "-705\n",
            "-706\n",
            "-707\n",
            "-708\n",
            "-709\n",
            "-710\n",
            "-711\n",
            "-712\n",
            "-713\n",
            "-714\n",
            "-715\n",
            "-716\n",
            "-717\n",
            "-718\n",
            "-719\n",
            "-720\n",
            "-721\n",
            "-722\n",
            "-723\n",
            "-724\n",
            "-725\n",
            "-726\n",
            "-727\n",
            "-728\n",
            "-729\n",
            "-730\n",
            "-731\n",
            "-732\n",
            "-733\n",
            "-734\n",
            "-735\n",
            "-736\n",
            "-737\n",
            "-738\n",
            "-739\n",
            "-740\n",
            "-741\n",
            "-742\n",
            "-743\n",
            "-744\n",
            "-745\n",
            "-746\n",
            "-747\n",
            "-748\n",
            "-749\n",
            "-750\n",
            "-751\n",
            "-752\n",
            "-753\n",
            "-754\n",
            "-755\n",
            "-756\n",
            "-757\n",
            "-758\n",
            "-759\n",
            "-760\n",
            "-761\n",
            "-762\n",
            "-763\n",
            "-764\n",
            "-765\n",
            "-766\n",
            "-767\n",
            "-768\n",
            "-769\n",
            "-770\n",
            "-771\n",
            "-772\n",
            "-773\n",
            "-774\n",
            "-775\n",
            "-776\n",
            "-777\n",
            "-778\n",
            "-779\n",
            "-780\n",
            "-781\n",
            "-782\n",
            "-783\n",
            "-784\n",
            "-785\n",
            "-786\n",
            "-787\n",
            "-788\n",
            "-789\n",
            "-790\n",
            "-791\n",
            "-792\n",
            "-793\n",
            "-794\n",
            "-795\n",
            "-796\n",
            "-797\n",
            "-798\n",
            "-799\n",
            "-800\n",
            "-801\n",
            "-802\n",
            "-803\n",
            "-804\n",
            "-805\n",
            "-806\n",
            "-807\n",
            "-808\n",
            "-809\n",
            "-810\n",
            "-811\n",
            "-812\n",
            "-813\n",
            "-814\n",
            "-815\n",
            "-816\n",
            "-817\n",
            "-818\n",
            "-819\n",
            "-820\n",
            "-821\n",
            "-822\n",
            "-823\n",
            "-824\n",
            "-825\n",
            "-826\n",
            "-827\n",
            "-828\n",
            "-829\n",
            "-830\n",
            "-831\n",
            "-832\n",
            "-833\n",
            "-834\n",
            "-835\n",
            "-836\n",
            "-837\n",
            "-838\n",
            "-839\n",
            "-840\n",
            "-841\n",
            "-842\n",
            "-843\n",
            "-844\n",
            "-845\n",
            "-846\n",
            "-847\n",
            "-848\n",
            "-849\n",
            "-850\n",
            "-851\n",
            "-852\n",
            "-853\n",
            "-854\n",
            "-855\n",
            "-856\n",
            "-857\n",
            "-858\n",
            "-859\n",
            "-860\n",
            "-861\n",
            "-862\n",
            "-863\n",
            "-864\n",
            "-865\n",
            "-866\n",
            "-867\n",
            "-868\n",
            "-869\n",
            "-870\n",
            "-871\n",
            "-872\n",
            "-873\n",
            "-874\n",
            "-875\n",
            "-876\n",
            "-877\n",
            "-878\n",
            "-879\n",
            "-880\n",
            "-881\n",
            "-882\n",
            "-883\n",
            "-884\n",
            "-885\n",
            "-886\n",
            "-887\n",
            "-888\n",
            "-889\n",
            "-890\n",
            "-891\n",
            "-892\n",
            "-893\n",
            "-894\n",
            "-895\n",
            "-896\n",
            "-897\n",
            "-898\n",
            "-899\n",
            "-900\n",
            "-901\n",
            "-902\n",
            "-903\n",
            "-904\n",
            "-905\n",
            "-906\n",
            "-907\n",
            "-908\n",
            "-909\n",
            "-910\n",
            "-911\n",
            "-912\n",
            "-913\n",
            "-914\n",
            "-915\n",
            "-916\n",
            "-917\n",
            "-918\n",
            "-919\n",
            "-920\n",
            "-921\n",
            "-922\n",
            "-923\n",
            "-924\n",
            "-925\n",
            "-926\n",
            "-927\n",
            "-928\n",
            "-929\n",
            "-930\n",
            "-931\n",
            "-932\n",
            "-933\n",
            "-934\n",
            "-935\n",
            "-936\n",
            "-937\n",
            "-938\n",
            "-939\n",
            "-940\n",
            "-941\n",
            "-942\n",
            "-943\n",
            "-944\n",
            "-945\n",
            "-946\n",
            "-947\n",
            "-948\n",
            "-949\n"
          ]
        },
        {
          "output_type": "error",
          "ename": "RecursionError",
          "evalue": "ignored",
          "traceback": [
            "\u001b[0;31m---------------------------------------------------------------------------\u001b[0m",
            "\u001b[0;31mRecursionError\u001b[0m                            Traceback (most recent call last)",
            "\u001b[0;32m<ipython-input-22-b4a0484bd276>\u001b[0m in \u001b[0;36m<module>\u001b[0;34m\u001b[0m\n\u001b[1;32m      6\u001b[0m \u001b[0;34m\u001b[0m\u001b[0m\n\u001b[1;32m      7\u001b[0m \u001b[0;34m\u001b[0m\u001b[0m\n\u001b[0;32m----> 8\u001b[0;31m \u001b[0mcount_down\u001b[0m\u001b[0;34m(\u001b[0m\u001b[0;36m3\u001b[0m\u001b[0;34m)\u001b[0m\u001b[0;34m\u001b[0m\u001b[0;34m\u001b[0m\u001b[0m\n\u001b[0m",
            "\u001b[0;32m<ipython-input-22-b4a0484bd276>\u001b[0m in \u001b[0;36mcount_down\u001b[0;34m(start)\u001b[0m\n\u001b[1;32m      3\u001b[0m     \u001b[0;34m\"\"\" Count down from a number  \"\"\"\u001b[0m\u001b[0;34m\u001b[0m\u001b[0;34m\u001b[0m\u001b[0m\n\u001b[1;32m      4\u001b[0m     \u001b[0mprint\u001b[0m\u001b[0;34m(\u001b[0m\u001b[0mstart\u001b[0m\u001b[0;34m)\u001b[0m\u001b[0;34m\u001b[0m\u001b[0;34m\u001b[0m\u001b[0m\n\u001b[0;32m----> 5\u001b[0;31m     \u001b[0mcount_down\u001b[0m\u001b[0;34m(\u001b[0m\u001b[0mstart\u001b[0m\u001b[0;34m-\u001b[0m\u001b[0;36m1\u001b[0m\u001b[0;34m)\u001b[0m\u001b[0;34m\u001b[0m\u001b[0;34m\u001b[0m\u001b[0m\n\u001b[0m\u001b[1;32m      6\u001b[0m \u001b[0;34m\u001b[0m\u001b[0m\n\u001b[1;32m      7\u001b[0m \u001b[0;34m\u001b[0m\u001b[0m\n",
            "... last 1 frames repeated, from the frame below ...\n",
            "\u001b[0;32m<ipython-input-22-b4a0484bd276>\u001b[0m in \u001b[0;36mcount_down\u001b[0;34m(start)\u001b[0m\n\u001b[1;32m      3\u001b[0m     \u001b[0;34m\"\"\" Count down from a number  \"\"\"\u001b[0m\u001b[0;34m\u001b[0m\u001b[0;34m\u001b[0m\u001b[0m\n\u001b[1;32m      4\u001b[0m     \u001b[0mprint\u001b[0m\u001b[0;34m(\u001b[0m\u001b[0mstart\u001b[0m\u001b[0;34m)\u001b[0m\u001b[0;34m\u001b[0m\u001b[0;34m\u001b[0m\u001b[0m\n\u001b[0;32m----> 5\u001b[0;31m     \u001b[0mcount_down\u001b[0m\u001b[0;34m(\u001b[0m\u001b[0mstart\u001b[0m\u001b[0;34m-\u001b[0m\u001b[0;36m1\u001b[0m\u001b[0;34m)\u001b[0m\u001b[0;34m\u001b[0m\u001b[0;34m\u001b[0m\u001b[0m\n\u001b[0m\u001b[1;32m      6\u001b[0m \u001b[0;34m\u001b[0m\u001b[0m\n\u001b[1;32m      7\u001b[0m \u001b[0;34m\u001b[0m\u001b[0m\n",
            "\u001b[0;31mRecursionError\u001b[0m: maximum recursion depth exceeded while calling a Python object"
          ]
        }
      ]
    },
    {
      "cell_type": "code",
      "source": [
        "# Since you need to stop counting down the number reaches zero, you add a condition like this:\n",
        "\n",
        "def count_down(start):\n",
        "    \"\"\" Count down from a number  \"\"\"\n",
        "    print(start)\n",
        "\n",
        "    # call the count_down if the next\n",
        "    # number is greater than 0\n",
        "    next = start - 1\n",
        "    if next > 0:\n",
        "        count_down(next)\n",
        "\n",
        "\n",
        "count_down(3)"
      ],
      "metadata": {
        "id": "DKcrVUwxcrdY",
        "colab": {
          "base_uri": "https://localhost:8080/"
        },
        "outputId": "d215d885-1cfb-43ee-f182-c45ffa755e2d"
      },
      "execution_count": null,
      "outputs": [
        {
          "output_type": "stream",
          "name": "stdout",
          "text": [
            "3\n",
            "2\n",
            "1\n"
          ]
        }
      ]
    },
    {
      "cell_type": "markdown",
      "source": [
        "## Get ready for some quick questions!"
      ],
      "metadata": {
        "id": "mF10tnlwfhV8"
      }
    },
    {
      "cell_type": "markdown",
      "source": [
        "**Q1.** *Which of the following code would give [6, 8, 10] as its output?*       \n",
        "**A)**\n",
        "```\n",
        "num = [i for i in range(0,11,2) if i >=  6]\n",
        "print(num)\n",
        "```          \n",
        "**B)** \n",
        "```\n",
        "num = [i for i in range(0,10,2) if i >=  6]\n",
        "print(num)\n",
        "```         \n",
        "**C)** \n",
        "```\n",
        "num = [if i >=  6 i for i in range(0,11,2)]\n",
        "print(num)\n",
        "```            \n",
        "**D)**\n",
        "```\n",
        "num = [if i >=  6 i for i in range(0,10,2)]\n",
        "print(num)\n",
        "```\n"
      ],
      "metadata": {
        "id": "CTczk3Nsvbm8"
      }
    },
    {
      "cell_type": "code",
      "source": [
        "num = [if i >=  6 i for i in range(0,11,2)]\n",
        "num"
      ],
      "metadata": {
        "colab": {
          "base_uri": "https://localhost:8080/",
          "height": 130
        },
        "id": "wUxP9ItIpqtX",
        "outputId": "6293a368-a57e-41ae-dc71-c684751547e3"
      },
      "execution_count": null,
      "outputs": [
        {
          "output_type": "error",
          "ename": "SyntaxError",
          "evalue": "ignored",
          "traceback": [
            "\u001b[0;36m  File \u001b[0;32m\"<ipython-input-1-b296ae761651>\"\u001b[0;36m, line \u001b[0;32m1\u001b[0m\n\u001b[0;31m    num = [if i >=  6 i for i in range(0,11,2)]\u001b[0m\n\u001b[0m            ^\u001b[0m\n\u001b[0;31mSyntaxError\u001b[0m\u001b[0;31m:\u001b[0m invalid syntax\n"
          ]
        }
      ]
    },
    {
      "cell_type": "code",
      "source": [
        "num = [i for i in range(0,11,2) if i >=  6]        # 0,2,4,6,8,10\n",
        "num"
      ],
      "metadata": {
        "colab": {
          "base_uri": "https://localhost:8080/"
        },
        "id": "_xcVQEIDqBGO",
        "outputId": "a0c78292-1bde-4907-bda3-b0af7242dc76"
      },
      "execution_count": null,
      "outputs": [
        {
          "output_type": "execute_result",
          "data": {
            "text/plain": [
              "[6, 8, 10]"
            ]
          },
          "metadata": {},
          "execution_count": 2
        }
      ]
    },
    {
      "cell_type": "code",
      "source": [
        "# print the output \n",
        "\n",
        "#Option A"
      ],
      "metadata": {
        "id": "Q2DLGYceWHLP"
      },
      "execution_count": null,
      "outputs": []
    },
    {
      "cell_type": "markdown",
      "source": [
        "**Q2.** *What will be the output of the following code?*        \n",
        "```\n",
        "for letter in 'Spartificial':\n",
        "  if 'i' in letter:\n",
        "    pass\n",
        "  print(letter , end = \"\")\n",
        "```        \n",
        "\n",
        "**A)** Spartfcal            \n",
        "**B)** Spartficial        \n",
        "**C)** Spartificial          \n",
        "**D)** Spartfcial            "
      ],
      "metadata": {
        "id": "c9xl9bqbxq78"
      }
    },
    {
      "cell_type": "code",
      "source": [
        "for letter in 'Spartificial':\n",
        "  if 'i' in letter:\n",
        "    pass\n",
        "  print(letter , end = \"\")"
      ],
      "metadata": {
        "colab": {
          "base_uri": "https://localhost:8080/"
        },
        "id": "8PO1x9zOqRT1",
        "outputId": "4ce9798d-a9ac-42af-c0df-0d6ea8858542"
      },
      "execution_count": null,
      "outputs": [
        {
          "output_type": "stream",
          "name": "stdout",
          "text": [
            "Spartificial"
          ]
        }
      ]
    },
    {
      "cell_type": "markdown",
      "source": [
        "**Q3.** *What will the code below print?*\n",
        "```\n",
        "for num_1 in range(7, -1, -1):\n",
        "  for num_2 in range(2, num_1):\n",
        "    if num_1 % num_2 == 1:\n",
        "      print(num_1, end = \" \")\n",
        "      break\n",
        "```\n",
        "**A)** 7 6 5 4 3        \n",
        "**B)** 7 6 5 4 3 2 1 0 -1       \n",
        "**C)** 7 6 5 4 3 2 1 0           \n",
        "**D)** -1 0 1 2 3 4 5 6         "
      ],
      "metadata": {
        "id": "E0eCbBFwaagV"
      }
    },
    {
      "cell_type": "code",
      "source": [
        "for num_1 in range(7, -1, -1):          #7,6,5,4,3,2,1,0\n",
        "  #print('a',num_1)\n",
        "  for num_2 in range(2, num_1):\n",
        "    #print('b',num_2)\n",
        "    if num_1 % num_2 == 1:\n",
        "      print(num_1, end = \" \")\n",
        "      break"
      ],
      "metadata": {
        "colab": {
          "base_uri": "https://localhost:8080/"
        },
        "id": "Ca8VCEwCqgcd",
        "outputId": "9298c323-6173-42cd-8f97-f8be70de77b4"
      },
      "execution_count": null,
      "outputs": [
        {
          "output_type": "stream",
          "name": "stdout",
          "text": [
            "7 6 5 4 3 "
          ]
        }
      ]
    },
    {
      "cell_type": "code",
      "source": [
        "for i in range(2,1):\n",
        "  i = i\n",
        "  print(type(i))"
      ],
      "metadata": {
        "id": "QAnMxuZk9GJt"
      },
      "execution_count": null,
      "outputs": []
    },
    {
      "cell_type": "markdown",
      "source": [
        "**Q4.** *What will be the output of the code,*\n",
        "```\n",
        "num1 = 6\n",
        "num2 = 3\n",
        "\n",
        "if (0 <= num1 <= 10) and (0 <= num2 <= 10):\n",
        "  if num1 > num2:\n",
        "    print(f\"{num1} > {num2}\")\n",
        "  else:\n",
        "    print(f\"{num2} > {num1}\")\n",
        "```\n",
        "**A)** True        \n",
        "**B)** False        \n",
        "**C)** 6        \n",
        "**D)** 6 > 3"
      ],
      "metadata": {
        "id": "8WD-HrkQo8gL"
      }
    },
    {
      "cell_type": "code",
      "source": [
        "# print the output \n",
        "\n",
        "num1 = 6\n",
        "num2 = 3\n",
        "\n",
        "if (0 <= num1 <= 10) and (0 <= num2 <= 10):\n",
        "  if num1 > num2:\n",
        "    print(f\"{num1} > {num2}\")\n",
        "  else:\n",
        "    print(f\"{num2} > {num1}\")"
      ],
      "metadata": {
        "id": "QHqau2DGV4q5",
        "colab": {
          "base_uri": "https://localhost:8080/"
        },
        "outputId": "22ea7ab9-3ffb-48ca-fd71-88c61d2b32f9"
      },
      "execution_count": null,
      "outputs": [
        {
          "output_type": "stream",
          "name": "stdout",
          "text": [
            "6 > 3\n"
          ]
        }
      ]
    }
  ]
}
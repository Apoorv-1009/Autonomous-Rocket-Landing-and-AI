{
  "cells": [
    {
      "cell_type": "markdown",
      "source": [
        "What is Procedure oriented programming ??"
      ],
      "metadata": {
        "id": "54aGpHHxXnCM"
      }
    },
    {
      "cell_type": "markdown",
      "source": [
        "\n",
        "\n",
        "> If using functions alone to write a programme is known as POP..Here functions are called as procedures....\n",
        "\n"
      ],
      "metadata": {
        "id": "xKfmU7iyXzzQ"
      }
    },
    {
      "cell_type": "code",
      "source": [
        "def function(name):\n",
        "  return print('Hi!,',name)"
      ],
      "metadata": {
        "id": "R-Z7u4HXWC9h"
      },
      "execution_count": null,
      "outputs": []
    },
    {
      "cell_type": "code",
      "source": [
        "Name_1 = function('Aman')\n",
        "Name_1"
      ],
      "metadata": {
        "colab": {
          "base_uri": "https://localhost:8080/"
        },
        "id": "drNLyApKYQg5",
        "outputId": "abcb4ca1-73da-4630-d891-78d70117c935"
      },
      "execution_count": null,
      "outputs": [
        {
          "output_type": "stream",
          "name": "stdout",
          "text": [
            "Hi!, Aman\n"
          ]
        }
      ]
    },
    {
      "cell_type": "code",
      "source": [
        "Name_2 = function('Rohan')\n",
        "Name_2"
      ],
      "metadata": {
        "colab": {
          "base_uri": "https://localhost:8080/"
        },
        "id": "e4mo4Jo0YZpY",
        "outputId": "19124c69-44de-4ceb-d0f4-d6eb7763c2e2"
      },
      "execution_count": null,
      "outputs": [
        {
          "output_type": "stream",
          "name": "stdout",
          "text": [
            "Hi!, Rohan\n"
          ]
        }
      ]
    },
    {
      "cell_type": "markdown",
      "source": [
        "# Object Oriented Programming"
      ],
      "metadata": {
        "id": "R58hfNT0Z7AK"
      }
    },
    {
      "cell_type": "markdown",
      "source": [
        "4 Pillars of OOP:\n",
        "\n",
        "\n",
        "> Abstraction : Providing Necessary Information or abstract view to users\n",
        "\n",
        "> Encapsulation : Wraping of Data in a single unit.In POP , variables are scattered.In OOP, all functions and variables are grouped in a single class.\n",
        "\n",
        "> Inheritance : Acquiring Property of existing class. Inherit data from one class to another class to have code simplicity and time management.\n",
        "\n",
        "> Polymorphism : Single element existing in different forms.Implementing same method in different class with additional features by overwriting the existing one.\n",
        "\n",
        "\n",
        "\n",
        "\n",
        "\n",
        "\n",
        "\n"
      ],
      "metadata": {
        "id": "cBlEBoiXZ_lx"
      }
    },
    {
      "cell_type": "markdown",
      "source": [
        "Base of OOP:\n",
        "\n",
        "> Class : Bluprint that allows logically grouping of Data\n",
        "\n",
        "     class classname:\n",
        "\n",
        "          Attributes ( Variables )\n",
        "\n",
        "          Methods    (Functions) \n",
        "\n",
        "\n",
        "> Object : Instance of class..or particular brand of class\n",
        "\n",
        "\n",
        "\n"
      ],
      "metadata": {
        "id": "nP5AvCaScTYx"
      }
    },
    {
      "cell_type": "code",
      "source": [
        "#Example of class\n",
        "class car:\n",
        "  pass"
      ],
      "metadata": {
        "id": "TSWayY5Gar1B"
      },
      "execution_count": null,
      "outputs": []
    },
    {
      "cell_type": "code",
      "source": [
        "maruti = car()  #Instance\n",
        "print(maruti)\n",
        "# maruti is an object belongs to class car"
      ],
      "metadata": {
        "colab": {
          "base_uri": "https://localhost:8080/"
        },
        "id": "aaxEzaVieU6y",
        "outputId": "7829c340-ef3b-4e40-e822-22151dc4b81d"
      },
      "execution_count": null,
      "outputs": [
        {
          "output_type": "stream",
          "name": "stdout",
          "text": [
            "<__main__.car object at 0x7f941f2f3970>\n"
          ]
        }
      ]
    },
    {
      "cell_type": "markdown",
      "source": [
        "#------------------------------------------------------------#"
      ],
      "metadata": {
        "id": "_1aKSrGY9q6S"
      }
    },
    {
      "cell_type": "code",
      "source": [
        "# Define a class with function\n",
        "class car:\n",
        "  def function():\n",
        "    print(\"Number_1 in Indian market\")"
      ],
      "metadata": {
        "id": "jt_zteTGeoJh"
      },
      "execution_count": null,
      "outputs": []
    },
    {
      "cell_type": "code",
      "source": [
        "# How to execute function inside a class????\n",
        "\n",
        "# Method_1 : (Normal method)- By using class name and function name.\n",
        "\n",
        "car.function()"
      ],
      "metadata": {
        "colab": {
          "base_uri": "https://localhost:8080/"
        },
        "id": "w6jr9mnnfVBg",
        "outputId": "ec5391d0-2a90-4705-80d1-07b100f11eaf"
      },
      "execution_count": null,
      "outputs": [
        {
          "output_type": "stream",
          "name": "stdout",
          "text": [
            "Number_1 in Indian market\n"
          ]
        }
      ]
    },
    {
      "cell_type": "code",
      "source": [
        "# Method_2 : Executing by objects\n",
        "\n",
        "#create an object\n",
        "maruti = car()   # this is now an object"
      ],
      "metadata": {
        "id": "z3YUHeETg4KA"
      },
      "execution_count": null,
      "outputs": []
    },
    {
      "cell_type": "code",
      "source": [
        "# But calling the function through object needs an argument\n",
        "\n",
        "maruti.function() # It means  >>> function(maruti) >> maruti becoming argument      #XXXXXXX#"
      ],
      "metadata": {
        "id": "j4r-zZL8hQAS",
        "colab": {
          "base_uri": "https://localhost:8080/",
          "height": 200
        },
        "outputId": "6d398122-47d0-48c1-f381-c5c2e5316dcf"
      },
      "execution_count": null,
      "outputs": [
        {
          "output_type": "error",
          "ename": "TypeError",
          "evalue": "ignored",
          "traceback": [
            "\u001b[0;31m---------------------------------------------------------------------------\u001b[0m",
            "\u001b[0;31mTypeError\u001b[0m                                 Traceback (most recent call last)",
            "\u001b[0;32m<ipython-input-9-00111d6e6cbe>\u001b[0m in \u001b[0;36m<module>\u001b[0;34m\u001b[0m\n\u001b[1;32m      1\u001b[0m \u001b[0;31m# But calling the function through object needs an argument\u001b[0m\u001b[0;34m\u001b[0m\u001b[0;34m\u001b[0m\u001b[0;34m\u001b[0m\u001b[0m\n\u001b[1;32m      2\u001b[0m \u001b[0;34m\u001b[0m\u001b[0m\n\u001b[0;32m----> 3\u001b[0;31m \u001b[0mmaruti\u001b[0m\u001b[0;34m.\u001b[0m\u001b[0mfunction\u001b[0m\u001b[0;34m(\u001b[0m\u001b[0;34m)\u001b[0m \u001b[0;31m# It means  >>> function(maruti) >> maruti becoming argument      #XXXXXXX#\u001b[0m\u001b[0;34m\u001b[0m\u001b[0;34m\u001b[0m\u001b[0m\n\u001b[0m",
            "\u001b[0;31mTypeError\u001b[0m: function() takes 0 positional arguments but 1 was given"
          ]
        }
      ]
    },
    {
      "cell_type": "code",
      "source": [
        "# So define an argument at function as a default and refers to current running object\n",
        "class car:\n",
        "  def function(self):  # parameter refering current running object\n",
        "    print(\"Number_1 in Indian market\")\n"
      ],
      "metadata": {
        "id": "mA2mpNZ_hd5B"
      },
      "execution_count": null,
      "outputs": []
    },
    {
      "cell_type": "code",
      "source": [
        "maruti = car()\n",
        "maruti.function()"
      ],
      "metadata": {
        "colab": {
          "base_uri": "https://localhost:8080/"
        },
        "id": "5-MslCXDiRBR",
        "outputId": "148b72f6-8182-44b7-ba4d-92070113e2f3"
      },
      "execution_count": null,
      "outputs": [
        {
          "output_type": "stream",
          "name": "stdout",
          "text": [
            "Number_1 in Indian market\n"
          ]
        }
      ]
    },
    {
      "cell_type": "code",
      "source": [
        "# Example: \n",
        "class human:\n",
        "  def walk(self):\n",
        "    print(\"Humans using legs to walk\")"
      ],
      "metadata": {
        "id": "z9ONibDNicxJ"
      },
      "execution_count": null,
      "outputs": []
    },
    {
      "cell_type": "code",
      "source": [
        "#How to execute the function through an object\n",
        "#????????????????????????????????????\n",
        "abc = human()\n",
        "abc.walk()"
      ],
      "metadata": {
        "id": "97P0GQM3i1ao",
        "colab": {
          "base_uri": "https://localhost:8080/"
        },
        "outputId": "b5624187-ec12-4edc-f4cc-31fbad8decfb"
      },
      "execution_count": null,
      "outputs": [
        {
          "output_type": "stream",
          "name": "stdout",
          "text": [
            "Humans using legs to walk\n"
          ]
        }
      ]
    },
    {
      "cell_type": "markdown",
      "source": [
        "Local variable, Instance variable , class variable"
      ],
      "metadata": {
        "id": "q4-9yX7hkMhq"
      }
    },
    {
      "cell_type": "code",
      "source": [
        "#Local variable\n",
        "\n",
        "class Employee:\n",
        "  def get(self):\n",
        "    emp_id = 123   # Local variable\n",
        "    print(\"Local_variable\",emp_id)"
      ],
      "metadata": {
        "id": "XHm0MGb6kSYD"
      },
      "execution_count": null,
      "outputs": []
    },
    {
      "cell_type": "code",
      "source": [
        "obj = Employee()\n",
        "obj.get()"
      ],
      "metadata": {
        "colab": {
          "base_uri": "https://localhost:8080/"
        },
        "id": "bs-YDbKplMAq",
        "outputId": "9590cea2-f2e4-4ff7-c943-f39b2fc2bf74"
      },
      "execution_count": null,
      "outputs": [
        {
          "output_type": "stream",
          "name": "stdout",
          "text": [
            "Local_variable 123\n"
          ]
        }
      ]
    },
    {
      "cell_type": "code",
      "source": [
        "# variable which is defined in a function having the boundary limitation not to be accessed by other fuction of a class.\n",
        "class Employee:\n",
        "  def get(self):\n",
        "    emp_id = 123   # Local variable\n",
        "    print(\"Local_variable\",emp_id)\n",
        "    \n",
        "  def get_2(self):\n",
        "    print(\"variable\",emp_id)"
      ],
      "metadata": {
        "id": "uOzG83GnlYrZ"
      },
      "execution_count": null,
      "outputs": []
    },
    {
      "cell_type": "code",
      "source": [
        "obj = Employee()\n"
      ],
      "metadata": {
        "id": "poR6yK-il8OT"
      },
      "execution_count": null,
      "outputs": []
    },
    {
      "cell_type": "code",
      "source": [
        "obj.get()"
      ],
      "metadata": {
        "colab": {
          "base_uri": "https://localhost:8080/"
        },
        "id": "yM51Qyo5Prqj",
        "outputId": "3bf6f421-f3a9-4b6b-ea4a-168dba719968"
      },
      "execution_count": null,
      "outputs": [
        {
          "output_type": "stream",
          "name": "stdout",
          "text": [
            "Local_variable 123\n"
          ]
        }
      ]
    },
    {
      "cell_type": "code",
      "source": [
        "obj.get_2()"
      ],
      "metadata": {
        "colab": {
          "base_uri": "https://localhost:8080/",
          "height": 252
        },
        "id": "cHRsa7taPkGJ",
        "outputId": "b6b8d9e0-55b0-4e45-b31d-b12400f25f15"
      },
      "execution_count": null,
      "outputs": [
        {
          "output_type": "error",
          "ename": "NameError",
          "evalue": "ignored",
          "traceback": [
            "\u001b[0;31m---------------------------------------------------------------------------\u001b[0m",
            "\u001b[0;31mNameError\u001b[0m                                 Traceback (most recent call last)",
            "\u001b[0;32m<ipython-input-19-11e635831a82>\u001b[0m in \u001b[0;36m<module>\u001b[0;34m\u001b[0m\n\u001b[0;32m----> 1\u001b[0;31m \u001b[0mobj\u001b[0m\u001b[0;34m.\u001b[0m\u001b[0mget_2\u001b[0m\u001b[0;34m(\u001b[0m\u001b[0;34m)\u001b[0m\u001b[0;34m\u001b[0m\u001b[0;34m\u001b[0m\u001b[0m\n\u001b[0m",
            "\u001b[0;32m<ipython-input-16-983d8b4373d8>\u001b[0m in \u001b[0;36mget_2\u001b[0;34m(self)\u001b[0m\n\u001b[1;32m      6\u001b[0m \u001b[0;34m\u001b[0m\u001b[0m\n\u001b[1;32m      7\u001b[0m   \u001b[0;32mdef\u001b[0m \u001b[0mget_2\u001b[0m\u001b[0;34m(\u001b[0m\u001b[0mself\u001b[0m\u001b[0;34m)\u001b[0m\u001b[0;34m:\u001b[0m\u001b[0;34m\u001b[0m\u001b[0;34m\u001b[0m\u001b[0m\n\u001b[0;32m----> 8\u001b[0;31m     \u001b[0mprint\u001b[0m\u001b[0;34m(\u001b[0m\u001b[0;34m\"variable\"\u001b[0m\u001b[0;34m,\u001b[0m\u001b[0memp_id\u001b[0m\u001b[0;34m)\u001b[0m\u001b[0;34m\u001b[0m\u001b[0;34m\u001b[0m\u001b[0m\n\u001b[0m",
            "\u001b[0;31mNameError\u001b[0m: name 'emp_id' is not defined"
          ]
        }
      ]
    },
    {
      "cell_type": "code",
      "source": [
        "# To rectify such issues, local variable need to be converted into instance variable"
      ],
      "metadata": {
        "id": "lkyIFUY8m9Z5"
      },
      "execution_count": null,
      "outputs": []
    },
    {
      "cell_type": "code",
      "source": [
        "# Instance variable\n",
        "# variable which is defined in a function having  no boundary limitation and  to be accessed by other fuction of a class.\n",
        "class Employee:\n",
        "  def get(self):\n",
        "    self.emp_id = 123   # Instance variable\n",
        "    print(\"get_Instance_variable\",self.emp_id)\n",
        "    \n",
        "  def get_2(self):\n",
        "    print(\"get_2_Instance_variable\",self.emp_id)"
      ],
      "metadata": {
        "id": "NB5AmCnCmF1B"
      },
      "execution_count": null,
      "outputs": []
    },
    {
      "cell_type": "code",
      "source": [
        "obj = Employee()\n",
        "obj.get()\n",
        "obj.get_2()"
      ],
      "metadata": {
        "colab": {
          "base_uri": "https://localhost:8080/"
        },
        "id": "hI428Er-nWVi",
        "outputId": "48e14104-8f1a-421d-8e6e-1405a6fd8b17"
      },
      "execution_count": null,
      "outputs": [
        {
          "output_type": "stream",
          "name": "stdout",
          "text": [
            "get_Instance_variable 123\n",
            "get_2_Instance_variable 123\n"
          ]
        }
      ]
    },
    {
      "cell_type": "code",
      "source": [
        "# Class variable\n",
        "# variable which is defined in a class having  no boundary limitation and  to be accessed by other fuctions or methods of a class.\n",
        "\n",
        "class Employee:\n",
        "  emp_new_id = 125 # class variable\n",
        "  def get(self):\n",
        "    self.emp_id = 123   # Instance variable\n",
        "    print(\"get_Instance_variable\",self.emp_id)\n",
        "    print(\"get_class_variable\", Employee.emp_new_id)\n",
        "    \n",
        "  def get_2(self):\n",
        "    print(\"get_2_Instance_variable\",self.emp_id)\n",
        "    print(\"get_2_class_variable\", Employee.emp_new_id)"
      ],
      "metadata": {
        "id": "ehnP0LdTnmzg"
      },
      "execution_count": null,
      "outputs": []
    },
    {
      "cell_type": "code",
      "source": [
        "obj = Employee()\n",
        "obj.get()\n",
        "obj.get_2()"
      ],
      "metadata": {
        "colab": {
          "base_uri": "https://localhost:8080/"
        },
        "id": "G6UWejOQpQ3U",
        "outputId": "95b2ef8a-ebc4-4997-e022-2cc6424dde2f"
      },
      "execution_count": null,
      "outputs": [
        {
          "output_type": "stream",
          "name": "stdout",
          "text": [
            "get_Instance_variable 123\n",
            "get_class_variable 125\n",
            "get_2_Instance_variable 123\n",
            "get_2_class_variable 125\n"
          ]
        }
      ]
    },
    {
      "cell_type": "code",
      "source": [
        "# class variable Vs Instance Variable\n",
        "# Class variable is initialized only one time when class is initialized i.e only one memory is allotted for it.\n",
        "# But instance variable is initialized whenever instances or methods are initialized i.e multiple memories are allotted for it."
      ],
      "metadata": {
        "id": "JtZ0VOxupfd_"
      },
      "execution_count": null,
      "outputs": []
    },
    {
      "cell_type": "code",
      "source": [
        "class demo:\n",
        "  var = 10  #class variable\n",
        "  def display(self):\n",
        "    print(demo.var)\n",
        "    demo.var += 1   \n"
      ],
      "metadata": {
        "id": "oz41U40Pp1uj"
      },
      "execution_count": null,
      "outputs": []
    },
    {
      "cell_type": "code",
      "source": [
        "obj = demo()\n",
        "obj.display()\n"
      ],
      "metadata": {
        "id": "XmS3U4JRr4v8",
        "colab": {
          "base_uri": "https://localhost:8080/"
        },
        "outputId": "6c3df225-43ef-4225-f830-04deb3073f79"
      },
      "execution_count": null,
      "outputs": [
        {
          "output_type": "stream",
          "name": "stdout",
          "text": [
            "10\n"
          ]
        }
      ]
    },
    {
      "cell_type": "code",
      "source": [
        "demo.var"
      ],
      "metadata": {
        "colab": {
          "base_uri": "https://localhost:8080/"
        },
        "id": "Gcr8N63wUQHj",
        "outputId": "e28450f9-a47a-4275-d091-99367a0a59a2"
      },
      "execution_count": null,
      "outputs": [
        {
          "output_type": "execute_result",
          "data": {
            "text/plain": [
              "11"
            ]
          },
          "metadata": {},
          "execution_count": 26
        }
      ]
    },
    {
      "cell_type": "code",
      "source": [
        "obj.display()"
      ],
      "metadata": {
        "colab": {
          "base_uri": "https://localhost:8080/"
        },
        "id": "UKZxKJdPR3CC",
        "outputId": "7bbb5ac6-b9bd-477c-bced-f0cbeddf0732"
      },
      "execution_count": null,
      "outputs": [
        {
          "output_type": "stream",
          "name": "stdout",
          "text": [
            "11\n"
          ]
        }
      ]
    },
    {
      "cell_type": "code",
      "source": [
        "demo.var"
      ],
      "metadata": {
        "colab": {
          "base_uri": "https://localhost:8080/"
        },
        "id": "kGor6xtrUh2a",
        "outputId": "a9c2f8bd-4ace-41f5-f1d5-1cee0e2b2acf"
      },
      "execution_count": null,
      "outputs": [
        {
          "output_type": "execute_result",
          "data": {
            "text/plain": [
              "12"
            ]
          },
          "metadata": {},
          "execution_count": 28
        }
      ]
    },
    {
      "cell_type": "code",
      "source": [
        "obj.display()"
      ],
      "metadata": {
        "colab": {
          "base_uri": "https://localhost:8080/"
        },
        "id": "TCbv9fLxUkw0",
        "outputId": "ffec5090-7853-4933-e93b-75954ee3ee95"
      },
      "execution_count": null,
      "outputs": [
        {
          "output_type": "stream",
          "name": "stdout",
          "text": [
            "12\n"
          ]
        }
      ]
    },
    {
      "cell_type": "code",
      "source": [
        "demo.var"
      ],
      "metadata": {
        "colab": {
          "base_uri": "https://localhost:8080/"
        },
        "id": "yer_IvH9UosD",
        "outputId": "58809cc9-3995-44cc-e805-9dd8b2d8dd17"
      },
      "execution_count": null,
      "outputs": [
        {
          "output_type": "execute_result",
          "data": {
            "text/plain": [
              "13"
            ]
          },
          "metadata": {},
          "execution_count": 30
        }
      ]
    },
    {
      "cell_type": "code",
      "source": [
        "obj_new = demo()\n",
        "print(obj_new.var) # Accessing var outside the class without methods"
      ],
      "metadata": {
        "id": "PtIsbrlisEFC",
        "colab": {
          "base_uri": "https://localhost:8080/"
        },
        "outputId": "c61d23f0-b801-4a27-daf4-af422d0b5cbe"
      },
      "execution_count": null,
      "outputs": [
        {
          "output_type": "stream",
          "name": "stdout",
          "text": [
            "13\n"
          ]
        }
      ]
    },
    {
      "cell_type": "markdown",
      "source": [
        "Special methods Or Dunder Method or Magical Method\n",
        "\n",
        "> All the built-in data types implement a collection of special object methods. The names of special methods are always preceded and followed by double underscores (__).\n",
        "\n"
      ],
      "metadata": {
        "id": "wTx0O5nGvTg8"
      }
    },
    {
      "cell_type": "code",
      "source": [
        "# Get the list of all special methods\n",
        "print (dir(list))"
      ],
      "metadata": {
        "colab": {
          "base_uri": "https://localhost:8080/"
        },
        "id": "D2RP60y6vFob",
        "outputId": "2b524595-c41d-4533-fccf-2fbe713bd9fc"
      },
      "execution_count": null,
      "outputs": [
        {
          "output_type": "stream",
          "name": "stdout",
          "text": [
            "['__add__', '__class__', '__contains__', '__delattr__', '__delitem__', '__dir__', '__doc__', '__eq__', '__format__', '__ge__', '__getattribute__', '__getitem__', '__gt__', '__hash__', '__iadd__', '__imul__', '__init__', '__init_subclass__', '__iter__', '__le__', '__len__', '__lt__', '__mul__', '__ne__', '__new__', '__reduce__', '__reduce_ex__', '__repr__', '__reversed__', '__rmul__', '__setattr__', '__setitem__', '__sizeof__', '__str__', '__subclasshook__', 'append', 'clear', 'copy', 'count', 'extend', 'index', 'insert', 'pop', 'remove', 'reverse', 'sort']\n"
          ]
        }
      ]
    },
    {
      "cell_type": "code",
      "source": [
        "# Define a class with instance variable\n",
        "class calc:\n",
        "  def get(self):\n",
        "    self.n1 = int(input(\"Enter n1:\"))   # Instance variable\n",
        "    self.n2 = int(input(\"Enter n2:\"))   # Instance variable\n",
        "\n",
        "  def put(self):\n",
        "    self.res = self.n1 * self.n2        # Instance variable\n",
        "    print(f'{self.n1} * {self.n2} = {self.res}')"
      ],
      "metadata": {
        "id": "I4LBHZ2uvf2Z"
      },
      "execution_count": null,
      "outputs": []
    },
    {
      "cell_type": "code",
      "source": [
        "obj = calc()\n",
        "obj.get()\n",
        "obj.put()"
      ],
      "metadata": {
        "colab": {
          "base_uri": "https://localhost:8080/"
        },
        "id": "ZXb67HAMztua",
        "outputId": "872f135a-daf6-4d5e-98b7-ae4b5cb82aa3"
      },
      "execution_count": null,
      "outputs": [
        {
          "output_type": "stream",
          "name": "stdout",
          "text": [
            "Enter n1:6\n",
            "Enter n2:7\n",
            "6 * 7 = 42\n"
          ]
        }
      ]
    },
    {
      "cell_type": "code",
      "source": [
        "# Now if obj.get() is not called..there will be an error as self.n1 and self.n2 is not initialized...\n",
        "\n",
        "obj =  calc()\n",
        "obj.put()"
      ],
      "metadata": {
        "colab": {
          "base_uri": "https://localhost:8080/",
          "height": 304
        },
        "id": "-mZKw_3Sz7Sp",
        "outputId": "e31d0308-8ddf-4a73-a871-73ad1a754d69"
      },
      "execution_count": null,
      "outputs": [
        {
          "output_type": "error",
          "ename": "AttributeError",
          "evalue": "ignored",
          "traceback": [
            "\u001b[0;31m---------------------------------------------------------------------------\u001b[0m",
            "\u001b[0;31mAttributeError\u001b[0m                            Traceback (most recent call last)",
            "\u001b[0;32m<ipython-input-29-b96457ffd85f>\u001b[0m in \u001b[0;36m<module>\u001b[0;34m\u001b[0m\n\u001b[1;32m      2\u001b[0m \u001b[0;34m\u001b[0m\u001b[0m\n\u001b[1;32m      3\u001b[0m \u001b[0mobj\u001b[0m \u001b[0;34m=\u001b[0m  \u001b[0mcalc\u001b[0m\u001b[0;34m(\u001b[0m\u001b[0;34m)\u001b[0m\u001b[0;34m\u001b[0m\u001b[0;34m\u001b[0m\u001b[0m\n\u001b[0;32m----> 4\u001b[0;31m \u001b[0mobj\u001b[0m\u001b[0;34m.\u001b[0m\u001b[0mput\u001b[0m\u001b[0;34m(\u001b[0m\u001b[0;34m)\u001b[0m\u001b[0;34m\u001b[0m\u001b[0;34m\u001b[0m\u001b[0m\n\u001b[0m",
            "\u001b[0;32m<ipython-input-27-138c0d6aa2cc>\u001b[0m in \u001b[0;36mput\u001b[0;34m(self)\u001b[0m\n\u001b[1;32m      6\u001b[0m \u001b[0;34m\u001b[0m\u001b[0m\n\u001b[1;32m      7\u001b[0m   \u001b[0;32mdef\u001b[0m \u001b[0mput\u001b[0m\u001b[0;34m(\u001b[0m\u001b[0mself\u001b[0m\u001b[0;34m)\u001b[0m\u001b[0;34m:\u001b[0m\u001b[0;34m\u001b[0m\u001b[0;34m\u001b[0m\u001b[0m\n\u001b[0;32m----> 8\u001b[0;31m     \u001b[0mself\u001b[0m\u001b[0;34m.\u001b[0m\u001b[0mres\u001b[0m \u001b[0;34m=\u001b[0m \u001b[0mself\u001b[0m\u001b[0;34m.\u001b[0m\u001b[0mn1\u001b[0m \u001b[0;34m*\u001b[0m \u001b[0mself\u001b[0m\u001b[0;34m.\u001b[0m\u001b[0mn2\u001b[0m        \u001b[0;31m# Instance variable\u001b[0m\u001b[0;34m\u001b[0m\u001b[0;34m\u001b[0m\u001b[0m\n\u001b[0m\u001b[1;32m      9\u001b[0m     \u001b[0mprint\u001b[0m\u001b[0;34m(\u001b[0m\u001b[0;34mf'{self.n1} * {self.n2} = {self.res}'\u001b[0m\u001b[0;34m)\u001b[0m\u001b[0;34m\u001b[0m\u001b[0;34m\u001b[0m\u001b[0m\n",
            "\u001b[0;31mAttributeError\u001b[0m: 'calc' object has no attribute 'n1'"
          ]
        }
      ]
    },
    {
      "cell_type": "code",
      "source": [
        "# To resolve such issues special method such as __init__() is used...\n",
        "# It will be initialized when object is getting created\n",
        "# No need to invoke special methods exclusively...\n",
        "\n",
        "class calc():\n",
        "  def __init__(self):\n",
        "    self.n1 = 0     # instance variable\n",
        "    self.n2 = 0     # instance variable\n",
        "    self.res = 0    # instance variable\n",
        "\n",
        "  def get(self):\n",
        "    self.n1 = int(input(\"Enter n1:\"))   # Instance variable\n",
        "    self.n2 = int(input(\"Enter n2:\"))   # Instance variable\n",
        "\n",
        "  def put(self):\n",
        "    self.res = self.n1 * self.n2        # Instance variable\n",
        "    print(f'{self.n1} * {self.n2} = {self.res}')\n"
      ],
      "metadata": {
        "id": "2i8MxM_S0WSD"
      },
      "execution_count": null,
      "outputs": []
    },
    {
      "cell_type": "code",
      "source": [
        "obj =  calc()\n",
        "obj.put()   # Even get() and __init__() is not called explicitely .. __init__() variables are initialized when object is created."
      ],
      "metadata": {
        "colab": {
          "base_uri": "https://localhost:8080/"
        },
        "id": "LQPaJj6-19rh",
        "outputId": "5e86d174-60f5-4f9b-b4d6-2ce8ee4e9b80"
      },
      "execution_count": null,
      "outputs": [
        {
          "output_type": "stream",
          "name": "stdout",
          "text": [
            "0 * 0 = 0\n"
          ]
        }
      ]
    },
    {
      "cell_type": "code",
      "source": [
        "\n",
        "obj = calc()         # ??????????????? is it possible now ??\n",
        "obj.get()\n",
        "obj.put()"
      ],
      "metadata": {
        "id": "pj_9vibO2Up0",
        "colab": {
          "base_uri": "https://localhost:8080/"
        },
        "outputId": "1dc6da1c-cd5e-4dde-f861-aa69027ea98a"
      },
      "execution_count": null,
      "outputs": [
        {
          "output_type": "stream",
          "name": "stdout",
          "text": [
            "Enter n1:3\n",
            "Enter n2:3\n",
            "3 * 3 = 9\n"
          ]
        }
      ]
    },
    {
      "cell_type": "code",
      "source": [
        "# To deallocate the memory or instantiation of init method , __del__() method can be used.."
      ],
      "metadata": {
        "id": "aS8lI6BI3Vj6"
      },
      "execution_count": null,
      "outputs": []
    },
    {
      "cell_type": "code",
      "source": [
        "class calc():\n",
        "  def __init__(self):\n",
        "    self.n1 = 0     # instance variable\n",
        "    self.n2 = 0     # instance variable\n",
        "    self.res = 0    # instance variable\n",
        "\n",
        "  def get(self):\n",
        "    self.n1 = int(input(\"Enter n1:\"))   # Instance variable\n",
        "    self.n2 = int(input(\"Enter n2:\"))   # Instance variable\n",
        "\n",
        "  def put(self):\n",
        "    self.res = self.n1 * self.n2        # Instance variable\n",
        "    print(f'{self.n1} * {self.n2} = {self.res}')\n",
        "  \n",
        "  def __del__(self):                    # Special method for deletion of object memory\n",
        "    print(\"deletion occured\")"
      ],
      "metadata": {
        "id": "XmHo2G183mtE"
      },
      "execution_count": null,
      "outputs": []
    },
    {
      "cell_type": "code",
      "source": [
        "obj = calc()         \n",
        "obj.get()\n",
        "obj.put()\n",
        "del obj        # To invoke __del__() "
      ],
      "metadata": {
        "colab": {
          "base_uri": "https://localhost:8080/"
        },
        "id": "5fmJNJL43vkK",
        "outputId": "4f2ddb4d-5825-4ac8-da73-1090e6b8acc5"
      },
      "execution_count": null,
      "outputs": [
        {
          "output_type": "stream",
          "name": "stdout",
          "text": [
            "Enter n1:6\n",
            "Enter n2:6\n",
            "6 * 6 = 36\n",
            "deletion occured\n"
          ]
        }
      ]
    },
    {
      "cell_type": "code",
      "source": [
        "obj.put()"
      ],
      "metadata": {
        "id": "oIzGhpUiVmcu",
        "colab": {
          "base_uri": "https://localhost:8080/",
          "height": 165
        },
        "outputId": "d4d2614f-1e3d-4fe6-987a-cd9b47902afb"
      },
      "execution_count": null,
      "outputs": [
        {
          "output_type": "error",
          "ename": "NameError",
          "evalue": "ignored",
          "traceback": [
            "\u001b[0;31m---------------------------------------------------------------------------\u001b[0m",
            "\u001b[0;31mNameError\u001b[0m                                 Traceback (most recent call last)",
            "\u001b[0;32m<ipython-input-37-68383c3647df>\u001b[0m in \u001b[0;36m<module>\u001b[0;34m\u001b[0m\n\u001b[0;32m----> 1\u001b[0;31m \u001b[0mobj\u001b[0m\u001b[0;34m.\u001b[0m\u001b[0mput\u001b[0m\u001b[0;34m(\u001b[0m\u001b[0;34m)\u001b[0m\u001b[0;34m\u001b[0m\u001b[0;34m\u001b[0m\u001b[0m\n\u001b[0m",
            "\u001b[0;31mNameError\u001b[0m: name 'obj' is not defined"
          ]
        }
      ]
    },
    {
      "cell_type": "markdown",
      "source": [
        "Advancing into OOPS"
      ],
      "metadata": {
        "id": "nZCYcSWC7NwC"
      }
    },
    {
      "cell_type": "code",
      "source": [
        "class Employee:\n",
        "  def __init__(self, first, last, pay):       # initialize variables\n",
        "    self.first = first\n",
        "    self.last = last\n",
        "    self.pay = pay\n",
        "    self.email = first +'.'+last+'@company.com'\n",
        "\n",
        "emp_1 = Employee('Sudhir','Sajan', 50000)          # object with arguments\n",
        "emp_2 = Employee('Sathya','Raja',20000)            # object with arguments"
      ],
      "metadata": {
        "id": "v6KoSzjd4Kzk"
      },
      "execution_count": null,
      "outputs": []
    },
    {
      "cell_type": "code",
      "source": [
        "print(emp_1.first)\n",
        "print(emp_1.last)\n",
        "print(emp_1.pay)\n",
        "print(emp_1.email)"
      ],
      "metadata": {
        "colab": {
          "base_uri": "https://localhost:8080/"
        },
        "id": "ImgI_-Cw7i7U",
        "outputId": "58263123-694a-47e7-aac8-09c8cdb5165c"
      },
      "execution_count": null,
      "outputs": [
        {
          "output_type": "stream",
          "name": "stdout",
          "text": [
            "Sudhir\n",
            "Sajan\n",
            "50000\n",
            "Sudhir.Sajan@company.com\n"
          ]
        }
      ]
    },
    {
      "cell_type": "code",
      "source": [
        "#????????????????????????\n",
        "print(emp_2.first)\n",
        "print(emp_2.last)\n",
        "print(emp_2.pay)\n",
        "print(emp_2.email)"
      ],
      "metadata": {
        "id": "bIpY8Ipg8Ztx",
        "colab": {
          "base_uri": "https://localhost:8080/"
        },
        "outputId": "6cbe9fbc-64bc-426b-e092-0dc2c979dd64"
      },
      "execution_count": null,
      "outputs": [
        {
          "output_type": "stream",
          "name": "stdout",
          "text": [
            "Sathya\n",
            "Raja\n",
            "20000\n",
            "Sathya.Raja@company.com\n"
          ]
        }
      ]
    },
    {
      "cell_type": "code",
      "source": [
        "class Employee:\n",
        "  def __init__(self, first, last, pay):\n",
        "    self.first = first\n",
        "    self.last = last\n",
        "    self.pay = pay\n",
        "    self.email = first +'.'+last+'@company.com'\n",
        "  \n",
        "  def fullname(self):\n",
        "    return '{} {}'.format(self.first, self.last)\n",
        "\n",
        "emp_1 = Employee('Sudhir','Sajan', 50000)\n",
        "emp_2 = Employee('Sathya','Raja',20000)"
      ],
      "metadata": {
        "id": "oW3Vit0a714S"
      },
      "execution_count": null,
      "outputs": []
    },
    {
      "cell_type": "code",
      "source": [
        "emp_1.fullname()"
      ],
      "metadata": {
        "colab": {
          "base_uri": "https://localhost:8080/",
          "height": 36
        },
        "id": "Bf43_Ll08PiD",
        "outputId": "0091e59a-4b0b-496a-991b-5452ad17cd21"
      },
      "execution_count": null,
      "outputs": [
        {
          "output_type": "execute_result",
          "data": {
            "text/plain": [
              "'Sudhir Sajan'"
            ],
            "application/vnd.google.colaboratory.intrinsic+json": {
              "type": "string"
            }
          },
          "metadata": {},
          "execution_count": 42
        }
      ]
    },
    {
      "cell_type": "code",
      "source": [
        "#?????????????????\n",
        "emp_2.fullname()"
      ],
      "metadata": {
        "id": "FadPD7lt8ify",
        "colab": {
          "base_uri": "https://localhost:8080/",
          "height": 36
        },
        "outputId": "420853e5-fdf7-428e-f270-b884d04027e3"
      },
      "execution_count": null,
      "outputs": [
        {
          "output_type": "execute_result",
          "data": {
            "text/plain": [
              "'Sathya Raja'"
            ],
            "application/vnd.google.colaboratory.intrinsic+json": {
              "type": "string"
            }
          },
          "metadata": {},
          "execution_count": 43
        }
      ]
    },
    {
      "cell_type": "markdown",
      "source": [
        "#--------------------------------------------------------------------------#"
      ],
      "metadata": {
        "id": "7hKNQ1PZZgYO"
      }
    },
    {
      "cell_type": "markdown",
      "source": [
        "Inheritance"
      ],
      "metadata": {
        "id": "kDdlglt98rm7"
      }
    },
    {
      "cell_type": "code",
      "source": [
        "class Employee:\n",
        "  raise_amount = 1.04 # class variables\n",
        "\n",
        "  def __init__(self, first, last, pay):\n",
        "    self.first = first\n",
        "    self.last = last\n",
        "    self.pay = pay\n",
        "    self.email = first +'.'+ last +'@company.com'\n",
        "  \n",
        "  def fullname(self):\n",
        "    return '{} {}'.format(self.first, self.last)\n",
        "\n",
        "  def apply_raise(self):\n",
        "    self.pay = int(self.pay * Employee.raise_amount)\n",
        "\n",
        "class Developer(Employee):          # ********Subclass Developer inherit Employee class***********\n",
        "  \n",
        "  def __init__(self,first, last, pay, prog_lang):     \n",
        "    super().__init__(first, last, pay)                # To inherit previous class arguments\n",
        "    self.prog_lang = prog_lang\n",
        "\n",
        "##created \"Developer\" subclass which inherit class Employee... and we can define and assign new argument....super()__init__ is here to inherit previous arguments"
      ],
      "metadata": {
        "id": "MBDujM4F8tz6"
      },
      "execution_count": null,
      "outputs": []
    },
    {
      "cell_type": "code",
      "source": [
        "dev_1 = Developer('Sudhir','Sajan', 50000,'Python')      # subclass object with arguments"
      ],
      "metadata": {
        "id": "MZI_sFRU984a"
      },
      "execution_count": null,
      "outputs": []
    },
    {
      "cell_type": "code",
      "source": [
        "print(dev_1.email)\n",
        "print(dev_1.pay)"
      ],
      "metadata": {
        "colab": {
          "base_uri": "https://localhost:8080/"
        },
        "id": "VlnDUvaY-MDH",
        "outputId": "f63084f5-2caa-4261-879a-9ecf4d391e1b"
      },
      "execution_count": null,
      "outputs": [
        {
          "output_type": "stream",
          "name": "stdout",
          "text": [
            "Sudhir.Sajan@company.com\n",
            "50000\n"
          ]
        }
      ]
    },
    {
      "cell_type": "code",
      "source": [
        "dev_1.apply_raise()           # Methods and variables are also inheritanced into new sub class....\n",
        "print(dev_1.pay)"
      ],
      "metadata": {
        "colab": {
          "base_uri": "https://localhost:8080/"
        },
        "id": "rFzJPA1J-Y_g",
        "outputId": "7954d4ed-1ae3-4fcd-ae27-674d8cc24e8d"
      },
      "execution_count": null,
      "outputs": [
        {
          "output_type": "stream",
          "name": "stdout",
          "text": [
            "52000\n"
          ]
        }
      ]
    },
    {
      "cell_type": "markdown",
      "source": [
        "Built-in Subclass and Isinstance function"
      ],
      "metadata": {
        "id": "N0BFwNyI_u0D"
      }
    },
    {
      "cell_type": "code",
      "source": [
        "issubclass(Developer,Employee)"
      ],
      "metadata": {
        "colab": {
          "base_uri": "https://localhost:8080/"
        },
        "id": "C-Z04yL4_rtD",
        "outputId": "a9503c06-8265-4343-e7bf-974fed215a0f"
      },
      "execution_count": null,
      "outputs": [
        {
          "output_type": "execute_result",
          "data": {
            "text/plain": [
              "True"
            ]
          },
          "metadata": {},
          "execution_count": 55
        }
      ]
    },
    {
      "cell_type": "code",
      "source": [
        "issubclass(Employee.apply_raise,Employee)"
      ],
      "metadata": {
        "colab": {
          "base_uri": "https://localhost:8080/",
          "height": 165
        },
        "id": "_7XQCqwK__lr",
        "outputId": "fc0cb64b-17b3-4620-f950-ad737f26b187"
      },
      "execution_count": null,
      "outputs": [
        {
          "output_type": "error",
          "ename": "TypeError",
          "evalue": "ignored",
          "traceback": [
            "\u001b[0;31m---------------------------------------------------------------------------\u001b[0m",
            "\u001b[0;31mTypeError\u001b[0m                                 Traceback (most recent call last)",
            "\u001b[0;32m<ipython-input-56-ea3e49e5339a>\u001b[0m in \u001b[0;36m<module>\u001b[0;34m\u001b[0m\n\u001b[0;32m----> 1\u001b[0;31m \u001b[0missubclass\u001b[0m\u001b[0;34m(\u001b[0m\u001b[0mEmployee\u001b[0m\u001b[0;34m.\u001b[0m\u001b[0mapply_raise\u001b[0m\u001b[0;34m,\u001b[0m\u001b[0mEmployee\u001b[0m\u001b[0;34m)\u001b[0m\u001b[0;34m\u001b[0m\u001b[0;34m\u001b[0m\u001b[0m\n\u001b[0m",
            "\u001b[0;31mTypeError\u001b[0m: issubclass() arg 1 must be a class"
          ]
        }
      ]
    },
    {
      "cell_type": "code",
      "source": [
        "isinstance(dev_1,Developer)"
      ],
      "metadata": {
        "colab": {
          "base_uri": "https://localhost:8080/"
        },
        "id": "8LIMHyEj_7wk",
        "outputId": "97db1663-570f-4391-c68e-f1f6b43de788"
      },
      "execution_count": null,
      "outputs": [
        {
          "output_type": "execute_result",
          "data": {
            "text/plain": [
              "True"
            ]
          },
          "metadata": {},
          "execution_count": 57
        }
      ]
    },
    {
      "cell_type": "code",
      "source": [
        "isinstance(emp_1,Developer)"
      ],
      "metadata": {
        "colab": {
          "base_uri": "https://localhost:8080/"
        },
        "id": "yG9lp5iPAPzb",
        "outputId": "983a0512-51f0-4303-fb22-54e44de18188"
      },
      "execution_count": null,
      "outputs": [
        {
          "output_type": "execute_result",
          "data": {
            "text/plain": [
              "False"
            ]
          },
          "metadata": {},
          "execution_count": 58
        }
      ]
    },
    {
      "cell_type": "markdown",
      "source": [
        "Q1 : Bring out special methods for docstring notification and string notification with example."
      ],
      "metadata": {
        "id": "V8x2eTGx6mvK"
      }
    },
    {
      "cell_type": "markdown",
      "source": [
        "Q2 : Define a class with variables and methods.Name it as Employee.Take attributes by yourself.Then create a subclass and name it as Manager.Assign Inheritance between Employee and manager.create object and show the process execution."
      ],
      "metadata": {
        "id": "9zClXYb-AqGk"
      }
    }
  ],
  "metadata": {
    "kernelspec": {
      "display_name": "Python 3",
      "language": "python",
      "name": "python3"
    },
    "language_info": {
      "codemirror_mode": {
        "name": "ipython",
        "version": 3
      },
      "file_extension": ".py",
      "mimetype": "text/x-python",
      "name": "python",
      "nbconvert_exporter": "python",
      "pygments_lexer": "ipython3",
      "version": "3.5.1"
    },
    "colab": {
      "provenance": []
    }
  },
  "nbformat": 4,
  "nbformat_minor": 0
}
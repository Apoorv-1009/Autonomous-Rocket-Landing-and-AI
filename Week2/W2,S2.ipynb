{
  "nbformat": 4,
  "nbformat_minor": 0,
  "metadata": {
    "colab": {
      "provenance": []
    },
    "kernelspec": {
      "name": "python3",
      "display_name": "Python 3"
    }
  },
  "cells": [
    {
      "cell_type": "markdown",
      "source": [
        "### **NumPy**\n",
        "\n",
        "1. NumPy is a Python library for scientific computing in Python. \n",
        "2. It contains a collection of tools and techniques that can be used to solve on a computer mathematical models of problems in Science and Engineering. \n",
        "3. One of these tools is a high-performance multidimensional array object that is a powerful data structure for efficient computation of arrays and matrices. \n",
        "4. To work with these arrays, there’s a vast amount of high-level mathematical functions operate on these matrices and arrays."
      ],
      "metadata": {
        "id": "yDWxLxLl5uEM"
      }
    },
    {
      "cell_type": "code",
      "source": [
        "!pip install numpy"
      ],
      "metadata": {
        "id": "H7wsSexTRNze",
        "colab": {
          "base_uri": "https://localhost:8080/"
        },
        "outputId": "722c268a-592f-4185-aff8-cbde9cb9a012"
      },
      "execution_count": null,
      "outputs": [
        {
          "output_type": "stream",
          "name": "stdout",
          "text": [
            "Looking in indexes: https://pypi.org/simple, https://us-python.pkg.dev/colab-wheels/public/simple/\n",
            "Requirement already satisfied: numpy in /usr/local/lib/python3.7/dist-packages (1.21.6)\n"
          ]
        }
      ]
    },
    {
      "cell_type": "code",
      "metadata": {
        "id": "D12cdlo_-jRL",
        "colab": {
          "base_uri": "https://localhost:8080/",
          "height": 36
        },
        "outputId": "3b3fac89-9b81-4b8d-b3e3-38985e9523f5"
      },
      "source": [
        "import numpy as np\n",
        "np.__version__"
      ],
      "execution_count": null,
      "outputs": [
        {
          "output_type": "execute_result",
          "data": {
            "text/plain": [
              "'1.21.6'"
            ],
            "application/vnd.google.colaboratory.intrinsic+json": {
              "type": "string"
            }
          },
          "metadata": {},
          "execution_count": 1
        }
      ]
    },
    {
      "cell_type": "markdown",
      "source": [
        "Convert List into array"
      ],
      "metadata": {
        "id": "cr852Gcv6ld_"
      }
    },
    {
      "cell_type": "code",
      "metadata": {
        "id": "SWD6FQAHG5HK"
      },
      "source": [
        "list = [1,2,3,4]"
      ],
      "execution_count": null,
      "outputs": []
    },
    {
      "cell_type": "code",
      "metadata": {
        "colab": {
          "base_uri": "https://localhost:8080/"
        },
        "id": "g5N5fRdJG7ka",
        "outputId": "e7c16303-533c-43bb-8da8-b3811c89aa58"
      },
      "source": [
        "type(list)"
      ],
      "execution_count": null,
      "outputs": [
        {
          "output_type": "execute_result",
          "data": {
            "text/plain": [
              "list"
            ]
          },
          "metadata": {},
          "execution_count": 3
        }
      ]
    },
    {
      "cell_type": "code",
      "metadata": {
        "colab": {
          "base_uri": "https://localhost:8080/"
        },
        "id": "nQ8JJu7yzBbP",
        "outputId": "bea1103f-c5f8-4d03-b231-fba531cec4e3"
      },
      "source": [
        "\n",
        "list = [1, 2, 3, 4,5,6,7]\n",
        "n = np.array(list)\n",
        "n\n",
        "#print(n)\n"
      ],
      "execution_count": null,
      "outputs": [
        {
          "output_type": "execute_result",
          "data": {
            "text/plain": [
              "array([1, 2, 3, 4, 5, 6, 7])"
            ]
          },
          "metadata": {},
          "execution_count": 4
        }
      ]
    },
    {
      "cell_type": "code",
      "metadata": {
        "colab": {
          "base_uri": "https://localhost:8080/"
        },
        "id": "IAb8rnwnG0QD",
        "outputId": "a25413f1-4b14-4483-d35f-9f71491f1ce7"
      },
      "source": [
        "type(n)   # type will indicate numby dimensional array"
      ],
      "execution_count": null,
      "outputs": [
        {
          "output_type": "execute_result",
          "data": {
            "text/plain": [
              "numpy.ndarray"
            ]
          },
          "metadata": {},
          "execution_count": 5
        }
      ]
    },
    {
      "cell_type": "code",
      "source": [
        "n.dtype"
      ],
      "metadata": {
        "colab": {
          "base_uri": "https://localhost:8080/"
        },
        "id": "-vtPxPR6_CKw",
        "outputId": "f91ab08b-676f-45d6-e982-676db48a6b62"
      },
      "execution_count": null,
      "outputs": [
        {
          "output_type": "execute_result",
          "data": {
            "text/plain": [
              "dtype('int64')"
            ]
          },
          "metadata": {},
          "execution_count": 6
        }
      ]
    },
    {
      "cell_type": "code",
      "metadata": {
        "colab": {
          "base_uri": "https://localhost:8080/"
        },
        "id": "qm61Ot60H3o6",
        "outputId": "64f95588-92f9-4af4-b909-d37fde12da2c"
      },
      "source": [
        "n.ndim   # only one row "
      ],
      "execution_count": null,
      "outputs": [
        {
          "output_type": "execute_result",
          "data": {
            "text/plain": [
              "1"
            ]
          },
          "metadata": {},
          "execution_count": 7
        }
      ]
    },
    {
      "cell_type": "code",
      "metadata": {
        "colab": {
          "base_uri": "https://localhost:8080/"
        },
        "id": "1JpAS6A7kgJ6",
        "outputId": "6685f4ea-0faf-40c3-89d7-ba113639f482"
      },
      "source": [
        "n.shape    # Shape refers to (row and column) # But here as array is one dimension , shape is printed with column size at first and no row shape to display also "
      ],
      "execution_count": null,
      "outputs": [
        {
          "output_type": "execute_result",
          "data": {
            "text/plain": [
              "(7,)"
            ]
          },
          "metadata": {},
          "execution_count": 8
        }
      ]
    },
    {
      "cell_type": "code",
      "metadata": {
        "colab": {
          "base_uri": "https://localhost:8080/"
        },
        "id": "4jEFlPrtrs4_",
        "outputId": "8d9220e5-427e-4aae-af58-af95161665ac"
      },
      "source": [
        "my_array = np.array([2, 4, 6, 8, 10]) \n",
        "print(my_array)"
      ],
      "execution_count": null,
      "outputs": [
        {
          "output_type": "stream",
          "name": "stdout",
          "text": [
            "[ 2  4  6  8 10]\n"
          ]
        }
      ]
    },
    {
      "cell_type": "code",
      "metadata": {
        "id": "FiXr_sADsKuw",
        "colab": {
          "base_uri": "https://localhost:8080/"
        },
        "outputId": "e6b0247c-094e-4c8f-89c1-c59be7cd999b"
      },
      "source": [
        "my_array = np.array([200, 300, 400, 500, 600])\n",
        "type(my_array)   #??????????"
      ],
      "execution_count": null,
      "outputs": [
        {
          "output_type": "execute_result",
          "data": {
            "text/plain": [
              "numpy.ndarray"
            ]
          },
          "metadata": {},
          "execution_count": 10
        }
      ]
    },
    {
      "cell_type": "code",
      "metadata": {
        "id": "erI1hsyJsgWo",
        "colab": {
          "base_uri": "https://localhost:8080/"
        },
        "outputId": "9526cef2-2779-4841-f366-2e37cfd91c1e"
      },
      "source": [
        "my_array = np.array([200,300])\n",
        "my_array.ndim      # ?????????"
      ],
      "execution_count": null,
      "outputs": [
        {
          "output_type": "execute_result",
          "data": {
            "text/plain": [
              "1"
            ]
          },
          "metadata": {},
          "execution_count": 11
        }
      ]
    },
    {
      "cell_type": "code",
      "metadata": {
        "id": "OuWFLSqr2WVI",
        "colab": {
          "base_uri": "https://localhost:8080/"
        },
        "outputId": "443bf82a-438f-4af0-d3cb-51746f9839c6"
      },
      "source": [
        "my_array = np.array([2, 4, 6, 8, 10])\n",
        "my_array.shape     # ?????????"
      ],
      "execution_count": null,
      "outputs": [
        {
          "output_type": "execute_result",
          "data": {
            "text/plain": [
              "(5,)"
            ]
          },
          "metadata": {},
          "execution_count": 12
        }
      ]
    },
    {
      "cell_type": "markdown",
      "source": [
        "2 Dimensional array"
      ],
      "metadata": {
        "id": "DymZLim27xsA"
      }
    },
    {
      "cell_type": "code",
      "metadata": {
        "colab": {
          "base_uri": "https://localhost:8080/"
        },
        "id": "F89mbIZX_UKz",
        "outputId": "ab77fd54-d8b1-4e9a-c2ab-355a7cff491e"
      },
      "source": [
        "my_array = np.array([[1, 2, 3, 4, 5],[1, 2, 3, 4, 5],[1, 2, 3, 4, 5],[1, 2, 3, 4, 5],[1, 2, 3, 4,5]])      \n",
        "print(my_array)\n",
        "my_array.shape"
      ],
      "execution_count": null,
      "outputs": [
        {
          "output_type": "stream",
          "name": "stdout",
          "text": [
            "[[1 2 3 4 5]\n",
            " [1 2 3 4 5]\n",
            " [1 2 3 4 5]\n",
            " [1 2 3 4 5]\n",
            " [1 2 3 4 5]]\n"
          ]
        },
        {
          "output_type": "execute_result",
          "data": {
            "text/plain": [
              "(5, 5)"
            ]
          },
          "metadata": {},
          "execution_count": 13
        }
      ]
    },
    {
      "cell_type": "code",
      "source": [
        "type(my_array)"
      ],
      "metadata": {
        "colab": {
          "base_uri": "https://localhost:8080/"
        },
        "id": "oftdbbKK9Cyo",
        "outputId": "9158b8af-8b6d-4d90-804e-eb69a0de8231"
      },
      "execution_count": null,
      "outputs": [
        {
          "output_type": "execute_result",
          "data": {
            "text/plain": [
              "numpy.ndarray"
            ]
          },
          "metadata": {},
          "execution_count": 14
        }
      ]
    },
    {
      "cell_type": "code",
      "metadata": {
        "id": "RYHClyG-_8EW",
        "colab": {
          "base_uri": "https://localhost:8080/"
        },
        "outputId": "70c3c54a-987b-4765-b264-ec757cd5e37c"
      },
      "source": [
        "my_array = np.array([[1,2,3],[1,2,3]])\n",
        "my_array.shape   #??????????????"
      ],
      "execution_count": null,
      "outputs": [
        {
          "output_type": "execute_result",
          "data": {
            "text/plain": [
              "(2, 3)"
            ]
          },
          "metadata": {},
          "execution_count": 15
        }
      ]
    },
    {
      "cell_type": "code",
      "metadata": {
        "id": "O3dV4Ex4BDOs",
        "colab": {
          "base_uri": "https://localhost:8080/"
        },
        "outputId": "5c8bd30d-2aa2-46db-8321-5a84a5049b53"
      },
      "source": [
        "my_array = np.array([[1,2,3,4],[1,2,3,4]])\n",
        "type(my_array)   #?????????????"
      ],
      "execution_count": null,
      "outputs": [
        {
          "output_type": "execute_result",
          "data": {
            "text/plain": [
              "numpy.ndarray"
            ]
          },
          "metadata": {},
          "execution_count": 16
        }
      ]
    },
    {
      "cell_type": "code",
      "source": [
        "my_array.ndim  #?????????"
      ],
      "metadata": {
        "id": "9fw0-ome9Li4",
        "colab": {
          "base_uri": "https://localhost:8080/"
        },
        "outputId": "d9b6c2d2-85bd-4e00-b7d9-c1227172dd98"
      },
      "execution_count": null,
      "outputs": [
        {
          "output_type": "execute_result",
          "data": {
            "text/plain": [
              "2"
            ]
          },
          "metadata": {},
          "execution_count": 17
        }
      ]
    },
    {
      "cell_type": "markdown",
      "source": [
        "3 Dimensioanl array"
      ],
      "metadata": {
        "id": "ASYNKdCd9Urw"
      }
    },
    {
      "cell_type": "code",
      "source": [
        "my_array = np.array([[\n",
        "                      [1,2,3,4],\n",
        "                      [1,2,3,4],\n",
        "                      [1,2,3,4],\n",
        "                      [1,2,3,4]\n",
        "                      ],[\n",
        "                         [2,4,6,8],\n",
        "                         [2,4,6,8],\n",
        "                         [2,4,6,8],\n",
        "                         [2,4,6,8]]])\n",
        "my_array.shape"
      ],
      "metadata": {
        "colab": {
          "base_uri": "https://localhost:8080/"
        },
        "id": "yZaaVZXh8rEw",
        "outputId": "b921ad95-290a-4758-cacc-1bc9193bff31"
      },
      "execution_count": null,
      "outputs": [
        {
          "output_type": "execute_result",
          "data": {
            "text/plain": [
              "(2, 4, 4)"
            ]
          },
          "metadata": {},
          "execution_count": 18
        }
      ]
    },
    {
      "cell_type": "code",
      "source": [
        "my_array.ndim"
      ],
      "metadata": {
        "colab": {
          "base_uri": "https://localhost:8080/"
        },
        "id": "ULQMhk7P86VJ",
        "outputId": "508eb470-664e-43d8-f2ea-e96c8d2a0b10"
      },
      "execution_count": null,
      "outputs": [
        {
          "output_type": "execute_result",
          "data": {
            "text/plain": [
              "3"
            ]
          },
          "metadata": {},
          "execution_count": 19
        }
      ]
    },
    {
      "cell_type": "code",
      "source": [
        "type(my_array)"
      ],
      "metadata": {
        "colab": {
          "base_uri": "https://localhost:8080/"
        },
        "id": "qNcaOpfL9buK",
        "outputId": "1c563cd5-23a9-4f2d-9b4e-39d1a5feb4a4"
      },
      "execution_count": null,
      "outputs": [
        {
          "output_type": "execute_result",
          "data": {
            "text/plain": [
              "numpy.ndarray"
            ]
          },
          "metadata": {},
          "execution_count": 20
        }
      ]
    },
    {
      "cell_type": "markdown",
      "source": [
        "Numpy functionalities"
      ],
      "metadata": {
        "id": "GFAOjwZ49pTH"
      }
    },
    {
      "cell_type": "code",
      "source": [
        "import numpy as np"
      ],
      "metadata": {
        "id": "9jkIZ3CVWbTh"
      },
      "execution_count": null,
      "outputs": []
    },
    {
      "cell_type": "code",
      "metadata": {
        "colab": {
          "base_uri": "https://localhost:8080/"
        },
        "id": "uIhcwzo4GQc9",
        "outputId": "180770f6-75e2-4989-bc2f-5f3457cf548c"
      },
      "source": [
        "np.arange(5)      # Provide range elemnts between 0 to 20  "
      ],
      "execution_count": null,
      "outputs": [
        {
          "output_type": "execute_result",
          "data": {
            "text/plain": [
              "array([0, 1, 2, 3, 4])"
            ]
          },
          "metadata": {},
          "execution_count": 22
        }
      ]
    },
    {
      "cell_type": "code",
      "metadata": {
        "colab": {
          "base_uri": "https://localhost:8080/"
        },
        "id": "9TGZAF1OGqth",
        "outputId": "cde61a10-4158-4e5e-8305-df97a196cea6"
      },
      "source": [
        "np.arange(2,20,2)  # Between 2 to 20 , choose elements in 2 step..And dont consider 20."
      ],
      "execution_count": null,
      "outputs": [
        {
          "output_type": "execute_result",
          "data": {
            "text/plain": [
              "array([ 2,  4,  6,  8, 10, 12, 14, 16, 18])"
            ]
          },
          "metadata": {},
          "execution_count": 23
        }
      ]
    },
    {
      "cell_type": "code",
      "metadata": {
        "colab": {
          "base_uri": "https://localhost:8080/"
        },
        "id": "d_UH9NmxHKdL",
        "outputId": "07adecd2-b922-43ff-d39a-ace33ea8c617"
      },
      "source": [
        "np.linspace(2,100,5) # Between 2 to 10, choose 5 elements of same difference and consider 10 also..."
      ],
      "execution_count": null,
      "outputs": [
        {
          "output_type": "execute_result",
          "data": {
            "text/plain": [
              "array([  2. ,  26.5,  51. ,  75.5, 100. ])"
            ]
          },
          "metadata": {},
          "execution_count": 24
        }
      ]
    },
    {
      "cell_type": "code",
      "metadata": {
        "colab": {
          "base_uri": "https://localhost:8080/"
        },
        "id": "lJxNhVSNHbWj",
        "outputId": "eb95f7aa-779e-4ecf-e151-9463c387bd96"
      },
      "source": [
        "np.ones(5)         # Array with one of count 5"
      ],
      "execution_count": null,
      "outputs": [
        {
          "output_type": "execute_result",
          "data": {
            "text/plain": [
              "array([1., 1., 1., 1., 1.])"
            ]
          },
          "metadata": {},
          "execution_count": 25
        }
      ]
    },
    {
      "cell_type": "code",
      "metadata": {
        "colab": {
          "base_uri": "https://localhost:8080/"
        },
        "id": "wWAm_72nHeuL",
        "outputId": "49a4e569-d8bb-4951-ccae-8a58c9580f59"
      },
      "source": [
        "np.zeros(5)        # Array with zero of count 5"
      ],
      "execution_count": null,
      "outputs": [
        {
          "output_type": "execute_result",
          "data": {
            "text/plain": [
              "array([0., 0., 0., 0., 0.])"
            ]
          },
          "metadata": {},
          "execution_count": 26
        }
      ]
    },
    {
      "cell_type": "code",
      "metadata": {
        "id": "cLPY_LBqHmFH",
        "colab": {
          "base_uri": "https://localhost:8080/"
        },
        "outputId": "464b2615-f013-4bd1-a533-fa7be3f5b3c5"
      },
      "source": [
        "np.ones(10)     #???????????      "
      ],
      "execution_count": null,
      "outputs": [
        {
          "output_type": "execute_result",
          "data": {
            "text/plain": [
              "array([1., 1., 1., 1., 1., 1., 1., 1., 1., 1.])"
            ]
          },
          "metadata": {},
          "execution_count": 27
        }
      ]
    },
    {
      "cell_type": "code",
      "metadata": {
        "id": "cXi9KRpnIwrB",
        "colab": {
          "base_uri": "https://localhost:8080/"
        },
        "outputId": "d4007b1c-e264-4cf9-cc0f-97072fb1db02"
      },
      "source": [
        "np.arange(0,20,10)  #????????"
      ],
      "execution_count": null,
      "outputs": [
        {
          "output_type": "execute_result",
          "data": {
            "text/plain": [
              "array([ 0, 10])"
            ]
          },
          "metadata": {},
          "execution_count": 28
        }
      ]
    },
    {
      "cell_type": "code",
      "metadata": {
        "id": "8DwYkWrlJB9x",
        "colab": {
          "base_uri": "https://localhost:8080/"
        },
        "outputId": "ac335e10-2d17-46dc-b310-2063a19dc9f8"
      },
      "source": [
        "np.linspace(10,100,10) # ????????"
      ],
      "execution_count": null,
      "outputs": [
        {
          "output_type": "execute_result",
          "data": {
            "text/plain": [
              "array([ 10.,  20.,  30.,  40.,  50.,  60.,  70.,  80.,  90., 100.])"
            ]
          },
          "metadata": {},
          "execution_count": 29
        }
      ]
    },
    {
      "cell_type": "code",
      "metadata": {
        "id": "PvBaYynpQf3T",
        "colab": {
          "base_uri": "https://localhost:8080/"
        },
        "outputId": "c5f4b7e3-684b-4c09-ddfd-4ba7773e69e3"
      },
      "source": [
        "np.linspace(2,100,50) "
      ],
      "execution_count": null,
      "outputs": [
        {
          "output_type": "execute_result",
          "data": {
            "text/plain": [
              "array([  2.,   4.,   6.,   8.,  10.,  12.,  14.,  16.,  18.,  20.,  22.,\n",
              "        24.,  26.,  28.,  30.,  32.,  34.,  36.,  38.,  40.,  42.,  44.,\n",
              "        46.,  48.,  50.,  52.,  54.,  56.,  58.,  60.,  62.,  64.,  66.,\n",
              "        68.,  70.,  72.,  74.,  76.,  78.,  80.,  82.,  84.,  86.,  88.,\n",
              "        90.,  92.,  94.,  96.,  98., 100.])"
            ]
          },
          "metadata": {},
          "execution_count": 30
        }
      ]
    },
    {
      "cell_type": "code",
      "metadata": {
        "colab": {
          "base_uri": "https://localhost:8080/"
        },
        "id": "tT1kpOwHStG3",
        "outputId": "51bcadf1-494f-45c1-ae90-192187964192"
      },
      "source": [
        "np.random.rand(20)    # randomly any 20 numbers  "
      ],
      "execution_count": null,
      "outputs": [
        {
          "output_type": "execute_result",
          "data": {
            "text/plain": [
              "array([0.84816647, 0.51266203, 0.4140326 , 0.81703364, 0.34676688,\n",
              "       0.8695649 , 0.07694309, 0.66430412, 0.55412054, 0.05960553,\n",
              "       0.91607228, 0.89466991, 0.79963514, 0.56384732, 0.31630883,\n",
              "       0.90905868, 0.45365173, 0.4420014 , 0.33456868, 0.60967384])"
            ]
          },
          "metadata": {},
          "execution_count": 31
        }
      ]
    },
    {
      "cell_type": "code",
      "metadata": {
        "colab": {
          "base_uri": "https://localhost:8080/"
        },
        "id": "R0bBc13kUCdf",
        "outputId": "0b3df8cb-54fd-46d1-b639-34c6dc6edefe"
      },
      "source": [
        "np.random.randint(1,20,10)  # random 10 integers between 1 to 20...dont consider 20.."
      ],
      "execution_count": null,
      "outputs": [
        {
          "output_type": "execute_result",
          "data": {
            "text/plain": [
              "array([ 9,  4,  4,  9, 10, 13,  7, 11, 11,  4])"
            ]
          },
          "metadata": {},
          "execution_count": 32
        }
      ]
    },
    {
      "cell_type": "code",
      "metadata": {
        "id": "jqgiF0aWq-Se",
        "colab": {
          "base_uri": "https://localhost:8080/"
        },
        "outputId": "87ccaeb0-7965-4d8f-f1e5-622b12ff7cc0"
      },
      "source": [
        "np.random.rand(5)  "
      ],
      "execution_count": null,
      "outputs": [
        {
          "output_type": "execute_result",
          "data": {
            "text/plain": [
              "array([0.07471316, 0.28788747, 0.8363337 , 0.68350843, 0.46008025])"
            ]
          },
          "metadata": {},
          "execution_count": 33
        }
      ]
    },
    {
      "cell_type": "code",
      "metadata": {
        "id": "qA-nHlv4PVzW",
        "colab": {
          "base_uri": "https://localhost:8080/"
        },
        "outputId": "4d3ec768-22fb-4ad0-f681-2ffd75aa41aa"
      },
      "source": [
        "np.random.randint(1,10,5) # ???????"
      ],
      "execution_count": null,
      "outputs": [
        {
          "output_type": "execute_result",
          "data": {
            "text/plain": [
              "array([1, 3, 9, 8, 2])"
            ]
          },
          "metadata": {},
          "execution_count": 36
        }
      ]
    },
    {
      "cell_type": "code",
      "source": [
        "np.full([3,3],7)"
      ],
      "metadata": {
        "colab": {
          "base_uri": "https://localhost:8080/"
        },
        "id": "WEjApxDFDi8q",
        "outputId": "8963b1dd-d7de-4c80-aa7c-53e955804a79"
      },
      "execution_count": null,
      "outputs": [
        {
          "output_type": "execute_result",
          "data": {
            "text/plain": [
              "array([[7, 7, 7],\n",
              "       [7, 7, 7],\n",
              "       [7, 7, 7]])"
            ]
          },
          "metadata": {},
          "execution_count": 41
        }
      ]
    },
    {
      "cell_type": "code",
      "source": [
        "np.eye(4)   # 4 x 4"
      ],
      "metadata": {
        "colab": {
          "base_uri": "https://localhost:8080/"
        },
        "id": "_NUska8dDkiw",
        "outputId": "291c23c8-f434-43d1-8a78-ecc324070d02"
      },
      "execution_count": null,
      "outputs": [
        {
          "output_type": "execute_result",
          "data": {
            "text/plain": [
              "array([[1., 0., 0., 0.],\n",
              "       [0., 1., 0., 0.],\n",
              "       [0., 0., 1., 0.],\n",
              "       [0., 0., 0., 1.]])"
            ]
          },
          "metadata": {},
          "execution_count": 42
        }
      ]
    },
    {
      "cell_type": "code",
      "source": [
        "np.ones([3,3,3]) "
      ],
      "metadata": {
        "colab": {
          "base_uri": "https://localhost:8080/"
        },
        "id": "ZAl6I4ZSEZYw",
        "outputId": "acff7174-719b-439b-fc26-af0b348c2992"
      },
      "execution_count": null,
      "outputs": [
        {
          "output_type": "execute_result",
          "data": {
            "text/plain": [
              "array([[[1., 1., 1.],\n",
              "        [1., 1., 1.],\n",
              "        [1., 1., 1.]],\n",
              "\n",
              "       [[1., 1., 1.],\n",
              "        [1., 1., 1.],\n",
              "        [1., 1., 1.]],\n",
              "\n",
              "       [[1., 1., 1.],\n",
              "        [1., 1., 1.],\n",
              "        [1., 1., 1.]]])"
            ]
          },
          "metadata": {},
          "execution_count": 44
        }
      ]
    },
    {
      "cell_type": "markdown",
      "source": [
        "Numpy conversions"
      ],
      "metadata": {
        "id": "gQg0xOcrCldn"
      }
    },
    {
      "cell_type": "code",
      "metadata": {
        "colab": {
          "base_uri": "https://localhost:8080/"
        },
        "id": "EC_LFK5KNvp-",
        "outputId": "9c44aba0-9462-4ee0-8333-9c12242b0f65"
      },
      "source": [
        "my_array =np.array([2,4,6,8,10])\n",
        "np.log10(my_array)"
      ],
      "execution_count": null,
      "outputs": [
        {
          "output_type": "execute_result",
          "data": {
            "text/plain": [
              "array([0.30103   , 0.60205999, 0.77815125, 0.90308999, 1.        ])"
            ]
          },
          "metadata": {},
          "execution_count": 45
        }
      ]
    },
    {
      "cell_type": "code",
      "metadata": {
        "colab": {
          "base_uri": "https://localhost:8080/"
        },
        "id": "75yMuQY6Ool-",
        "outputId": "ad3d2bee-372a-4321-a8f9-d619adb6e96d"
      },
      "source": [
        "my_array = np.array([1,2,3,4])\n",
        "np.sum(my_array)"
      ],
      "execution_count": null,
      "outputs": [
        {
          "output_type": "execute_result",
          "data": {
            "text/plain": [
              "10"
            ]
          },
          "metadata": {},
          "execution_count": 46
        }
      ]
    },
    {
      "cell_type": "code",
      "metadata": {
        "colab": {
          "base_uri": "https://localhost:8080/"
        },
        "id": "MjNWyS63O0WF",
        "outputId": "6f98b540-6c22-4c4b-85d9-8230cb78e4f7"
      },
      "source": [
        "my_array = np.array([1,2,3,4,5])\n",
        "np.exp(my_array)               #  exponent calculation (e ^ n)"
      ],
      "execution_count": null,
      "outputs": [
        {
          "output_type": "execute_result",
          "data": {
            "text/plain": [
              "array([  2.71828183,   7.3890561 ,  20.08553692,  54.59815003,\n",
              "       148.4131591 ])"
            ]
          },
          "metadata": {},
          "execution_count": 47
        }
      ]
    },
    {
      "cell_type": "code",
      "metadata": {
        "colab": {
          "base_uri": "https://localhost:8080/"
        },
        "id": "OIJlpS8ePvH0",
        "outputId": "e26af567-dea4-4f46-c1e6-b5f2a98763f5"
      },
      "source": [
        "my_array = np.array([1,2,3,4,5])\n",
        "np.sqrt(my_array)"
      ],
      "execution_count": null,
      "outputs": [
        {
          "output_type": "execute_result",
          "data": {
            "text/plain": [
              "array([1.        , 1.41421356, 1.73205081, 2.        , 2.23606798])"
            ]
          },
          "metadata": {},
          "execution_count": 48
        }
      ]
    },
    {
      "cell_type": "code",
      "metadata": {
        "colab": {
          "base_uri": "https://localhost:8080/"
        },
        "id": "feWRaJWQP7OM",
        "outputId": "0affaaa5-8239-4d8f-855a-831b909a8758"
      },
      "source": [
        "my_array = np.array([1,2,3,4,5])\n",
        "np.square(my_array)"
      ],
      "execution_count": null,
      "outputs": [
        {
          "output_type": "execute_result",
          "data": {
            "text/plain": [
              "array([ 1,  4,  9, 16, 25])"
            ]
          },
          "metadata": {},
          "execution_count": 49
        }
      ]
    },
    {
      "cell_type": "code",
      "metadata": {
        "id": "Vxya7i5sQFOs",
        "colab": {
          "base_uri": "https://localhost:8080/"
        },
        "outputId": "9177c626-1065-47b0-d717-bce05686ef55"
      },
      "source": [
        "my_array = np.array([1,2,3,4,5])    \n",
        "np.sum(my_array)"
      ],
      "execution_count": null,
      "outputs": [
        {
          "output_type": "execute_result",
          "data": {
            "text/plain": [
              "15"
            ]
          },
          "metadata": {},
          "execution_count": 50
        }
      ]
    },
    {
      "cell_type": "markdown",
      "source": [
        "Numpy Slicing concept"
      ],
      "metadata": {
        "id": "tEhGXSGQEjBz"
      }
    },
    {
      "cell_type": "code",
      "metadata": {
        "colab": {
          "base_uri": "https://localhost:8080/"
        },
        "id": "EC63X2-cA5tc",
        "outputId": "ac78d276-2985-4bc0-9853-c965e6d9a6d9"
      },
      "source": [
        "my_list = [1,2,3,4,5]\n",
        "my_list[1:3]    # : n-1\n",
        "# indexing of 1 is 0, 2 >> 1, 3 >> 2, 4 >> 3, 5 >> 4"
      ],
      "execution_count": null,
      "outputs": [
        {
          "output_type": "execute_result",
          "data": {
            "text/plain": [
              "[2, 3]"
            ]
          },
          "metadata": {},
          "execution_count": 54
        }
      ]
    },
    {
      "cell_type": "code",
      "source": [
        "my_list[0:2]     "
      ],
      "metadata": {
        "colab": {
          "base_uri": "https://localhost:8080/"
        },
        "id": "AjH2HQtZAxmP",
        "outputId": "1fdd3aab-ee01-4029-b8a5-2bfab3d29443"
      },
      "execution_count": null,
      "outputs": [
        {
          "output_type": "execute_result",
          "data": {
            "text/plain": [
              "[1, 2]"
            ]
          },
          "metadata": {},
          "execution_count": 56
        }
      ]
    },
    {
      "cell_type": "code",
      "source": [
        "my_list = [1,2,3,4]"
      ],
      "metadata": {
        "id": "fg_nm2S5i1bB"
      },
      "execution_count": null,
      "outputs": []
    },
    {
      "cell_type": "code",
      "source": [
        "my_list[-0]  # 0"
      ],
      "metadata": {
        "colab": {
          "base_uri": "https://localhost:8080/"
        },
        "id": "-0DoizIsi6bp",
        "outputId": "07d45833-9f6e-4ffc-f882-d23e9d582b0c"
      },
      "execution_count": null,
      "outputs": [
        {
          "output_type": "execute_result",
          "data": {
            "text/plain": [
              "1"
            ]
          },
          "metadata": {},
          "execution_count": 58
        }
      ]
    },
    {
      "cell_type": "code",
      "source": [
        "my_list[-1]"
      ],
      "metadata": {
        "colab": {
          "base_uri": "https://localhost:8080/"
        },
        "id": "7whh2OHbjIiQ",
        "outputId": "3830d57d-20c9-4e4d-ba2c-de0f33c5ce56"
      },
      "execution_count": null,
      "outputs": [
        {
          "output_type": "execute_result",
          "data": {
            "text/plain": [
              "4"
            ]
          },
          "metadata": {},
          "execution_count": 59
        }
      ]
    },
    {
      "cell_type": "code",
      "source": [
        "my_list[-2]"
      ],
      "metadata": {
        "colab": {
          "base_uri": "https://localhost:8080/"
        },
        "id": "DV5Yms97jPnw",
        "outputId": "c52490f4-9a9f-4615-dade-696ac9cd860e"
      },
      "execution_count": null,
      "outputs": [
        {
          "output_type": "execute_result",
          "data": {
            "text/plain": [
              "3"
            ]
          },
          "metadata": {},
          "execution_count": 60
        }
      ]
    },
    {
      "cell_type": "code",
      "source": [
        "my_list[-3]"
      ],
      "metadata": {
        "colab": {
          "base_uri": "https://localhost:8080/"
        },
        "id": "suDSn4SdjT2Z",
        "outputId": "34c79dfc-7766-4574-f74e-d2e5252f2078"
      },
      "execution_count": null,
      "outputs": [
        {
          "output_type": "execute_result",
          "data": {
            "text/plain": [
              "2"
            ]
          },
          "metadata": {},
          "execution_count": 61
        }
      ]
    },
    {
      "cell_type": "code",
      "source": [
        "my_list[-4]"
      ],
      "metadata": {
        "colab": {
          "base_uri": "https://localhost:8080/"
        },
        "id": "hqRp7vUfjTxU",
        "outputId": "8c788330-72de-467c-abcd-f7a71b397519"
      },
      "execution_count": null,
      "outputs": [
        {
          "output_type": "execute_result",
          "data": {
            "text/plain": [
              "1"
            ]
          },
          "metadata": {},
          "execution_count": 62
        }
      ]
    },
    {
      "cell_type": "code",
      "source": [
        "my_list = [1,2,3,4]"
      ],
      "metadata": {
        "id": "vBCIT2agj1ao"
      },
      "execution_count": null,
      "outputs": []
    },
    {
      "cell_type": "code",
      "source": [
        "my_list[-4]"
      ],
      "metadata": {
        "colab": {
          "base_uri": "https://localhost:8080/"
        },
        "id": "SKHpm3rBBRKH",
        "outputId": "6ef1a204-eaab-4350-ecb5-090ad4e22a72"
      },
      "execution_count": null,
      "outputs": [
        {
          "output_type": "execute_result",
          "data": {
            "text/plain": [
              "1"
            ]
          },
          "metadata": {},
          "execution_count": 64
        }
      ]
    },
    {
      "cell_type": "code",
      "source": [
        "my_list[-2:]"
      ],
      "metadata": {
        "colab": {
          "base_uri": "https://localhost:8080/"
        },
        "id": "u7nEuRR1BN5A",
        "outputId": "34fb8893-e85a-48b8-9a70-3c89b066045f"
      },
      "execution_count": null,
      "outputs": [
        {
          "output_type": "execute_result",
          "data": {
            "text/plain": [
              "[3, 4]"
            ]
          },
          "metadata": {},
          "execution_count": 65
        }
      ]
    },
    {
      "cell_type": "code",
      "source": [
        "my_list[:-2]"
      ],
      "metadata": {
        "colab": {
          "base_uri": "https://localhost:8080/"
        },
        "id": "cIYSsYT-kFYA",
        "outputId": "05e7ca1b-f46d-4d69-b1be-887dca428433"
      },
      "execution_count": null,
      "outputs": [
        {
          "output_type": "execute_result",
          "data": {
            "text/plain": [
              "[1, 2]"
            ]
          },
          "metadata": {},
          "execution_count": 66
        }
      ]
    },
    {
      "cell_type": "code",
      "metadata": {
        "id": "T5ARzKorDbdn",
        "colab": {
          "base_uri": "https://localhost:8080/"
        },
        "outputId": "ce88bf81-14f9-480f-f4d8-5a82636f7b0f"
      },
      "source": [
        "my_array = np.array([1,2,3,4,5,6,7,8])            \n",
        "my_array[1:3]      \n",
        "my_array[1:]\n",
        "my_array[:5]\n",
        "my_array[-5:]\n",
        "my_array[:-5]\n"
      ],
      "execution_count": null,
      "outputs": [
        {
          "output_type": "execute_result",
          "data": {
            "text/plain": [
              "array([1, 2, 3])"
            ]
          },
          "metadata": {},
          "execution_count": 71
        }
      ]
    },
    {
      "cell_type": "code",
      "metadata": {
        "colab": {
          "base_uri": "https://localhost:8080/"
        },
        "id": "Xh1Hv7CgLUho",
        "outputId": "c7a8e6ee-7bbd-4889-e275-4055a6e5f609"
      },
      "source": [
        "my_array = np.array([[1,2,3],[4,5,6],[7,8,9]])\n",
        "print(my_array)\n",
        "my_array[1:3,1:3]                        # matrix slicing {row , column}"
      ],
      "execution_count": null,
      "outputs": [
        {
          "output_type": "stream",
          "name": "stdout",
          "text": [
            "[[1 2 3]\n",
            " [4 5 6]\n",
            " [7 8 9]]\n"
          ]
        },
        {
          "output_type": "execute_result",
          "data": {
            "text/plain": [
              "array([[5, 6],\n",
              "       [8, 9]])"
            ]
          },
          "metadata": {},
          "execution_count": 73
        }
      ]
    },
    {
      "cell_type": "code",
      "metadata": {
        "colab": {
          "base_uri": "https://localhost:8080/"
        },
        "id": "QfdimjkaQqMC",
        "outputId": "feecc26c-b250-4060-ef8e-150e54f67174"
      },
      "source": [
        "my_array = np.array([[1,2,3],[4,5,6],[7,8,9]])\n",
        "print(my_array)\n",
        "my_array[:,1:3]"
      ],
      "execution_count": null,
      "outputs": [
        {
          "output_type": "stream",
          "name": "stdout",
          "text": [
            "[[1 2 3]\n",
            " [4 5 6]\n",
            " [7 8 9]]\n"
          ]
        },
        {
          "output_type": "execute_result",
          "data": {
            "text/plain": [
              "array([[2, 3],\n",
              "       [5, 6],\n",
              "       [8, 9]])"
            ]
          },
          "metadata": {},
          "execution_count": 75
        }
      ]
    },
    {
      "cell_type": "code",
      "metadata": {
        "id": "zH7RVeP6SGO6",
        "colab": {
          "base_uri": "https://localhost:8080/"
        },
        "outputId": "ba9eb198-ef8a-47eb-e690-7e55bc7a1d18"
      },
      "source": [
        "my_array = np.array([[1,2,3],[4,5,6],[7,8,9]])\n",
        "\n",
        "my_array"
      ],
      "execution_count": null,
      "outputs": [
        {
          "output_type": "execute_result",
          "data": {
            "text/plain": [
              "array([[1, 2, 3],\n",
              "       [4, 5, 6],\n",
              "       [7, 8, 9]])"
            ]
          },
          "metadata": {},
          "execution_count": 76
        }
      ]
    },
    {
      "cell_type": "code",
      "source": [
        "my_array[1:3,:] "
      ],
      "metadata": {
        "colab": {
          "base_uri": "https://localhost:8080/"
        },
        "id": "-7w7n6ZTmNTh",
        "outputId": "6c41b993-e9ac-4c9a-b34a-b42567edcca3"
      },
      "execution_count": null,
      "outputs": [
        {
          "output_type": "execute_result",
          "data": {
            "text/plain": [
              "array([[4, 5, 6],\n",
              "       [7, 8, 9]])"
            ]
          },
          "metadata": {},
          "execution_count": 77
        }
      ]
    },
    {
      "cell_type": "code",
      "metadata": {
        "id": "TXTRjkmISnO4",
        "colab": {
          "base_uri": "https://localhost:8080/"
        },
        "outputId": "e9b80b4a-f85e-4be8-de98-7ee4b35fe1e6"
      },
      "source": [
        "my_array = np.array([[1,2,3],[4,5,6],[7,8,9]])\n",
        "print(my_array)\n",
        "my_array[2:3,1:3]        # only row condition is given"
      ],
      "execution_count": null,
      "outputs": [
        {
          "output_type": "stream",
          "name": "stdout",
          "text": [
            "[[1 2 3]\n",
            " [4 5 6]\n",
            " [7 8 9]]\n"
          ]
        },
        {
          "output_type": "execute_result",
          "data": {
            "text/plain": [
              "array([[8, 9]])"
            ]
          },
          "metadata": {},
          "execution_count": 78
        }
      ]
    },
    {
      "cell_type": "markdown",
      "source": [
        "Numpy Matrix Operation"
      ],
      "metadata": {
        "id": "DaG2Vx9YF69q"
      }
    },
    {
      "cell_type": "code",
      "metadata": {
        "colab": {
          "base_uri": "https://localhost:8080/"
        },
        "id": "819XFK_Dfrl8",
        "outputId": "bb56a384-aa89-41ec-e69a-64069d867217"
      },
      "source": [
        "A = np.array([[1,2,3],[4,5,6],[7,8,9]])\n",
        "B = np.array([[1,2,3],[4,5,6],[7,8,9]])\n",
        "print(A)\n",
        "print(B)\n",
        "A@B      # np.matmul(A,B)                   2 X 3 and 3 X 2 >>>> 2 X 2       ,,,,,,   3 x5 and 3 X 5 >>>> "
      ],
      "execution_count": null,
      "outputs": [
        {
          "output_type": "stream",
          "name": "stdout",
          "text": [
            "[[1 2 3]\n",
            " [4 5 6]\n",
            " [7 8 9]]\n",
            "[[1 2 3]\n",
            " [4 5 6]\n",
            " [7 8 9]]\n"
          ]
        },
        {
          "output_type": "execute_result",
          "data": {
            "text/plain": [
              "array([[ 30,  36,  42],\n",
              "       [ 66,  81,  96],\n",
              "       [102, 126, 150]])"
            ]
          },
          "metadata": {},
          "execution_count": 79
        }
      ]
    },
    {
      "cell_type": "code",
      "metadata": {
        "colab": {
          "base_uri": "https://localhost:8080/"
        },
        "id": "jpVNeUrxhJxa",
        "outputId": "c726a155-2718-4d42-e8ba-dfb4a541ef6a"
      },
      "source": [
        "A = np.random.randint(1,50,size = [3,3])\n",
        "B = np.random.randint(1,50,size = [3,3])\n",
        "print(A)\n",
        "print(B)\n",
        "A@B\n",
        "np.matmul(A,B)"
      ],
      "execution_count": null,
      "outputs": [
        {
          "output_type": "stream",
          "name": "stdout",
          "text": [
            "[[12 14 46]\n",
            " [42  6 49]\n",
            " [ 7 43 11]]\n",
            "[[14 14 32]\n",
            " [48 47  5]\n",
            " [26 31 47]]\n"
          ]
        },
        {
          "output_type": "execute_result",
          "data": {
            "text/plain": [
              "array([[2036, 2252, 2616],\n",
              "       [2150, 2389, 3677],\n",
              "       [2448, 2460,  956]])"
            ]
          },
          "metadata": {},
          "execution_count": 80
        }
      ]
    },
    {
      "cell_type": "code",
      "metadata": {
        "colab": {
          "base_uri": "https://localhost:8080/"
        },
        "id": "WLv8IcKbMr42",
        "outputId": "0270c6e6-12a7-4af5-befd-65e95a26a7e3"
      },
      "source": [
        "import numpy as np\n",
        "A = np.array([[1,2,3],[4,5,6],[7,8,9]])\n",
        "B = np.array([[1,2,3],[4,5,6],[7,8,9]])\n",
        "print(A)\n",
        "print(B)\n",
        "A * B\n",
        "#A + B\n",
        "#A - B\n",
        "#A / B\n",
        "#B / A                           \n"
      ],
      "execution_count": null,
      "outputs": [
        {
          "output_type": "stream",
          "name": "stdout",
          "text": [
            "[[1 2 3]\n",
            " [4 5 6]\n",
            " [7 8 9]]\n",
            "[[1 2 3]\n",
            " [4 5 6]\n",
            " [7 8 9]]\n"
          ]
        },
        {
          "output_type": "execute_result",
          "data": {
            "text/plain": [
              "array([[ 1,  4,  9],\n",
              "       [16, 25, 36],\n",
              "       [49, 64, 81]])"
            ]
          },
          "metadata": {},
          "execution_count": 81
        }
      ]
    },
    {
      "cell_type": "code",
      "metadata": {
        "colab": {
          "base_uri": "https://localhost:8080/"
        },
        "id": "ArxcasDmOQ3a",
        "outputId": "5b693564-d6cd-468e-d2e7-7717815fa2e8"
      },
      "source": [
        "A = np.array([[2,4],[6,8]])\n",
        "print(A)\n",
        "A * 0.5\n",
        "#A - 0.5\n",
        "#A + 0.5\n",
        "#A / 0.5"
      ],
      "execution_count": null,
      "outputs": [
        {
          "output_type": "stream",
          "name": "stdout",
          "text": [
            "[[2 4]\n",
            " [6 8]]\n"
          ]
        },
        {
          "output_type": "execute_result",
          "data": {
            "text/plain": [
              "array([[1., 2.],\n",
              "       [3., 4.]])"
            ]
          },
          "metadata": {},
          "execution_count": 61
        }
      ]
    },
    {
      "cell_type": "code",
      "metadata": {
        "colab": {
          "base_uri": "https://localhost:8080/"
        },
        "id": "9DgFcEJXQtIH",
        "outputId": "b01b0dae-969e-4ad1-88ca-31cab9809ba6"
      },
      "source": [
        "A = np.array([[1,2,3],\n",
        "              [4,5,6],\n",
        "              [7,8,9]])\n",
        "A.transpose()                    # Transpose Matrix\n",
        "#A.T"
      ],
      "execution_count": null,
      "outputs": [
        {
          "output_type": "execute_result",
          "data": {
            "text/plain": [
              "array([[1, 4, 7],\n",
              "       [2, 5, 8],\n",
              "       [3, 6, 9]])"
            ]
          },
          "metadata": {},
          "execution_count": 62
        }
      ]
    },
    {
      "cell_type": "markdown",
      "source": [
        "![image.png](data:image/png;base64,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)"
      ],
      "metadata": {
        "id": "9V7WruG9J3g5"
      }
    },
    {
      "cell_type": "code",
      "metadata": {
        "colab": {
          "base_uri": "https://localhost:8080/"
        },
        "id": "VxWDaXQTZtRx",
        "outputId": "88126709-fef6-4524-aef3-506e0c54d920"
      },
      "source": [
        "A = np.array([[4,7,3],\n",
        "             [9,5,6],\n",
        "             [7,8,9]])\n",
        "np. A)                   # Inverse Matrix \n"
      ],
      "execution_count": null,
      "outputs": [
        {
          "output_type": "execute_result",
          "data": {
            "text/plain": [
              "array([[ 0.01724138,  0.22413793, -0.15517241],\n",
              "       [ 0.22413793, -0.0862069 , -0.01724138],\n",
              "       [-0.21264368, -0.09770115,  0.24712644]])"
            ]
          },
          "metadata": {},
          "execution_count": 63
        }
      ]
    },
    {
      "cell_type": "code",
      "metadata": {
        "colab": {
          "base_uri": "https://localhost:8080/"
        },
        "id": "Ljt-tqUlbSa_",
        "outputId": "fa89f064-5d39-426a-9fc6-e2f6e14efa03"
      },
      "source": [
        "A = np.random.randint(1,100,50)\n",
        "print(A)\n",
        "print(A.shape)\n",
        "B = A.reshape(10,5)\n",
        "print(B)\n",
        "B.shape"
      ],
      "execution_count": null,
      "outputs": [
        {
          "output_type": "stream",
          "name": "stdout",
          "text": [
            "[23 37 77 23 27 42 80 23 16 16 13 72 81 55 30 28 77 50 38 27  5 74 80 55\n",
            " 82 98 88  2 37 22 41 87 82 26 22 63 46 79 19 73 10 68 15 17 25 84 82 99\n",
            " 36 43]\n",
            "(50,)\n",
            "[[23 37 77 23 27]\n",
            " [42 80 23 16 16]\n",
            " [13 72 81 55 30]\n",
            " [28 77 50 38 27]\n",
            " [ 5 74 80 55 82]\n",
            " [98 88  2 37 22]\n",
            " [41 87 82 26 22]\n",
            " [63 46 79 19 73]\n",
            " [10 68 15 17 25]\n",
            " [84 82 99 36 43]]\n"
          ]
        },
        {
          "output_type": "execute_result",
          "data": {
            "text/plain": [
              "(10, 5)"
            ]
          },
          "metadata": {},
          "execution_count": 90
        }
      ]
    },
    {
      "cell_type": "code",
      "metadata": {
        "colab": {
          "base_uri": "https://localhost:8080/"
        },
        "id": "CdC0AfsWlx7f",
        "outputId": "70dee2d9-f411-462d-e632-707f852f4411"
      },
      "source": [
        "A = np.arange(1,100,10)\n",
        "print(A)\n",
        "print(A.shape)\n",
        "A.resize(5,2)\n",
        "print(A)\n",
        "A.shape\n"
      ],
      "execution_count": null,
      "outputs": [
        {
          "output_type": "stream",
          "name": "stdout",
          "text": [
            "[ 1 11 21 31 41 51 61 71 81 91]\n",
            "(10,)\n",
            "[[ 1 11]\n",
            " [21 31]\n",
            " [41 51]\n",
            " [61 71]\n",
            " [81 91]]\n"
          ]
        },
        {
          "output_type": "execute_result",
          "data": {
            "text/plain": [
              "(5, 2)"
            ]
          },
          "metadata": {},
          "execution_count": 94
        }
      ]
    },
    {
      "cell_type": "code",
      "metadata": {
        "colab": {
          "base_uri": "https://localhost:8080/"
        },
        "id": "iXHqmkYjpTT8",
        "outputId": "c2251236-8b83-4ad6-c6d7-46f78ef3f3c2"
      },
      "source": [
        "A = np.random.randint(1,20,size=[3,3])\n",
        "B = np.random.randint(1,30,size=[1,3])\n",
        "print(A)\n",
        "print(B)\n",
        "np.vstack((A,B))                               # Vertical Stacking"
      ],
      "execution_count": null,
      "outputs": [
        {
          "output_type": "stream",
          "name": "stdout",
          "text": [
            "[[19  9 11]\n",
            " [ 5  7  4]\n",
            " [13  7 14]]\n",
            "[[21 16  2]]\n"
          ]
        },
        {
          "output_type": "execute_result",
          "data": {
            "text/plain": [
              "array([[19,  9, 11],\n",
              "       [ 5,  7,  4],\n",
              "       [13,  7, 14],\n",
              "       [21, 16,  2]])"
            ]
          },
          "metadata": {},
          "execution_count": 95
        }
      ]
    },
    {
      "cell_type": "code",
      "metadata": {
        "colab": {
          "base_uri": "https://localhost:8080/"
        },
        "id": "2AQcustx1xjp",
        "outputId": "c58be81a-e217-43eb-9b82-eaf5bf3b536e"
      },
      "source": [
        "A = np.random.randint(1,20,[4,3])\n",
        "print(A)\n",
        "B = np.random.randint(1,20,[4,1])\n",
        "print(B)\n",
        "np.hstack((A,B))                             # Horizontal Stacking"
      ],
      "execution_count": null,
      "outputs": [
        {
          "output_type": "stream",
          "name": "stdout",
          "text": [
            "[[ 3 18 11]\n",
            " [19 19  4]\n",
            " [16 19  4]\n",
            " [ 3 13 14]]\n",
            "[[ 1]\n",
            " [ 3]\n",
            " [14]\n",
            " [10]]\n"
          ]
        },
        {
          "output_type": "execute_result",
          "data": {
            "text/plain": [
              "array([[ 3, 18, 11,  1],\n",
              "       [19, 19,  4,  3],\n",
              "       [16, 19,  4, 14],\n",
              "       [ 3, 13, 14, 10]])"
            ]
          },
          "metadata": {},
          "execution_count": 104
        }
      ]
    },
    {
      "cell_type": "code",
      "metadata": {
        "id": "h0QCID1-5u74",
        "colab": {
          "base_uri": "https://localhost:8080/"
        },
        "outputId": "7fe24ab7-4d62-4cb4-e9fa-2fd608208310"
      },
      "source": [
        "A = np.random.randint(1,20,[4,3])\n",
        "B = np.random.randint(1,20,[1,3])\n",
        "print(A)\n",
        "print(B)\n",
        "np.vstack((A,B))                             #???????"
      ],
      "execution_count": null,
      "outputs": [
        {
          "output_type": "stream",
          "name": "stdout",
          "text": [
            "[[ 7 10  9]\n",
            " [12 15  9]\n",
            " [14  3  6]\n",
            " [ 6 16  9]]\n",
            "[[15 14  3]]\n"
          ]
        },
        {
          "output_type": "execute_result",
          "data": {
            "text/plain": [
              "array([[ 7, 10,  9],\n",
              "       [12, 15,  9],\n",
              "       [14,  3,  6],\n",
              "       [ 6, 16,  9],\n",
              "       [15, 14,  3]])"
            ]
          },
          "metadata": {},
          "execution_count": 82
        }
      ]
    },
    {
      "cell_type": "markdown",
      "source": [
        "#Time for practice few questions!"
      ],
      "metadata": {
        "id": "hsMy2wi5Mngw"
      }
    },
    {
      "cell_type": "markdown",
      "source": [
        "Q1. What will the output of the following code and explain the code with proper comments.\n",
        "\n",
        "![image.png](data:image/png;base64,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)"
      ],
      "metadata": {
        "id": "NQI1m2LSMR7o"
      }
    },
    {
      "cell_type": "code",
      "source": [
        "# Do proper commenting\n",
        "import numpy as np\n",
        "\n",
        "arr = []\n",
        "temp = []\n",
        "\n",
        "for i in range(12):\n",
        "    temp.append(np.random.rand()*10)\n",
        "    if((len(temp)) % 3 == 0):\n",
        "        arr.append(temp)    # creating rows of matrix\n",
        "        temp = []\n",
        "\n",
        "arr =  np.array(arr)\n",
        "print(arr)\n",
        "print(\"\\n\")\n",
        "print(arr.flatten())  #Convering the input dimension into one dimension"
      ],
      "metadata": {
        "id": "c-qzyEt0Mp0o",
        "colab": {
          "base_uri": "https://localhost:8080/"
        },
        "outputId": "2cdc4358-19f1-4587-931f-240f04f455f6"
      },
      "execution_count": null,
      "outputs": [
        {
          "output_type": "stream",
          "name": "stdout",
          "text": [
            "[[1.67510955 6.78382698 3.76791979]\n",
            " [7.88263867 3.45603235 2.48998219]\n",
            " [1.09615979 6.12170475 8.13947227]\n",
            " [8.6221963  4.82167094 0.86579015]]\n",
            "\n",
            "\n",
            "[1.67510955 6.78382698 3.76791979 7.88263867 3.45603235 2.48998219\n",
            " 1.09615979 6.12170475 8.13947227 8.6221963  4.82167094 0.86579015]\n"
          ]
        }
      ]
    },
    {
      "cell_type": "markdown",
      "source": [
        "Q2. Explain the difference between the following and when they are used?\n",
        "\n",
        "A. np.identity() and np.eye()\n",
        "\n",
        "B. np.zeros() and np.ones()\n",
        "\n",
        "C. np.random.randint() and np.random.rand()"
      ],
      "metadata": {
        "id": "7HjMzvsFMdEh"
      }
    },
    {
      "cell_type": "code",
      "source": [
        "#To see the difference between np.identity() and np.eye() an example, run the below codes:\n",
        "\n",
        "import numpy as np\n",
        "\n",
        "#Creates an array of 4 x 4 with the main diagonal of 1\n",
        "\n",
        "arr1 = np.eye(4)\n",
        "print(arr1)\n",
        "\n",
        "print(\"\\n\")\n",
        "\n",
        "#or you can change the diagonal position\n",
        "\n",
        "arr2 = np.eye(4, k=1)  # or try with another number like k= -2\n",
        "print(arr2)\n",
        "\n",
        "print(\"\\n\")\n",
        "\n",
        "#but you can't change the diagonal in identity\n",
        "\n",
        "arr3 = np.identity(4,)\n",
        "print(arr3)"
      ],
      "metadata": {
        "id": "pP5i_uTaMsMK",
        "colab": {
          "base_uri": "https://localhost:8080/"
        },
        "outputId": "5a564596-7396-4816-c686-99506d2b2279"
      },
      "execution_count": null,
      "outputs": [
        {
          "output_type": "stream",
          "name": "stdout",
          "text": [
            "[[1. 0. 0. 0.]\n",
            " [0. 1. 0. 0.]\n",
            " [0. 0. 1. 0.]\n",
            " [0. 0. 0. 1.]]\n",
            "\n",
            "\n",
            "[[0. 1. 0. 0.]\n",
            " [0. 0. 1. 0.]\n",
            " [0. 0. 0. 1.]\n",
            " [0. 0. 0. 0.]]\n",
            "\n",
            "\n",
            "[[1. 0. 0. 0.]\n",
            " [0. 1. 0. 0.]\n",
            " [0. 0. 1. 0.]\n",
            " [0. 0. 0. 1.]]\n"
          ]
        }
      ]
    },
    {
      "cell_type": "markdown",
      "source": [
        "Q3. What will be the output of the following code?\n",
        "\n",
        "![image.png](data:image/png;base64,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)"
      ],
      "metadata": {
        "id": "kN_jNS3jMiZA"
      }
    },
    {
      "cell_type": "code",
      "source": [
        "import numpy as np\n",
        "\n",
        "a = np.array( [[21,15, 19, 18, 17],[16, 20, 14, 13, 12], [11, 10 , 9 , 8 , 7], [6 , 5,  4,  3,  2]])\n",
        "print(a)\n",
        "print(\"\\n\")\n",
        "b = a[:,1]\n",
        "print(b)\n",
        "print(\"\\n\")\n",
        "b = sorted(b)\n",
        "print(b)\n",
        "print(\"\\n\")\n",
        "c = a.copy()\n",
        "print(c)\n",
        "print(\"\\n\")\n",
        "k = 0\n",
        "for i in b:\n",
        "    index = np.where(a[:,1] == i)     # (array([3]),),(array([2]),),(array([0]),),(array([1]),)\n",
        "\n",
        "    c[k] = a[index]\n",
        "    k+=1\n",
        "\n",
        "print(c)"
      ],
      "metadata": {
        "id": "2ubWHO_fMbR5",
        "colab": {
          "base_uri": "https://localhost:8080/"
        },
        "outputId": "9c1316b8-a70c-4fa7-b53d-c1e5cb81c159"
      },
      "execution_count": null,
      "outputs": [
        {
          "output_type": "stream",
          "name": "stdout",
          "text": [
            "[[21 15 19 18 17]\n",
            " [16 20 14 13 12]\n",
            " [11 10  9  8  7]\n",
            " [ 6  5  4  3  2]]\n",
            "\n",
            "\n",
            "[15 20 10  5]\n",
            "\n",
            "\n",
            "[5, 10, 15, 20]\n",
            "\n",
            "\n",
            "[[21 15 19 18 17]\n",
            " [16 20 14 13 12]\n",
            " [11 10  9  8  7]\n",
            " [ 6  5  4  3  2]]\n",
            "\n",
            "\n",
            "[[ 6  5  4  3  2]\n",
            " [11 10  9  8  7]\n",
            " [21 15 19 18 17]\n",
            " [16 20 14 13 12]]\n"
          ]
        }
      ]
    }
  ]
}
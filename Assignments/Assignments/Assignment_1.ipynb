{
  "nbformat": 4,
  "nbformat_minor": 0,
  "metadata": {
    "colab": {
      "provenance": []
    },
    "kernelspec": {
      "name": "python3",
      "display_name": "Python 3"
    },
    "language_info": {
      "name": "python"
    }
  },
  "cells": [
    {
      "cell_type": "markdown",
      "source": [
        "# <center> Assignment-1 (60 marks)\n"
      ],
      "metadata": {
        "id": "8R_MEc2z7mff"
      }
    },
    {
      "cell_type": "markdown",
      "source": [
        "#General Information"
      ],
      "metadata": {
        "id": "mjqbJLIDFtw2"
      }
    },
    {
      "cell_type": "markdown",
      "source": [
        "Welcome to Assignment 1! We will be applying the concepts we have learned so far to solve this assignment.Goodluck!\n",
        "\n",
        "Please fill out your name and email in the below cell\n"
      ],
      "metadata": {
        "id": "Q7HKhhJMFxrc"
      }
    },
    {
      "cell_type": "code",
      "source": [
        "#NAME : \n",
        "#EMAIL :"
      ],
      "metadata": {
        "id": "wZqmQu_-FxEu"
      },
      "execution_count": null,
      "outputs": []
    },
    {
      "cell_type": "markdown",
      "source": [
        "# Basic Python (6 marks)"
      ],
      "metadata": {
        "id": "9j7LXm-QH1HT"
      }
    },
    {
      "cell_type": "markdown",
      "source": [
        "Q1.Give brief note on various application of python (2 marks)"
      ],
      "metadata": {
        "id": "zIKVIZP9O0x5"
      }
    },
    {
      "cell_type": "code",
      "source": [
        "##Your Solution\n",
        "\n",
        "\n"
      ],
      "metadata": {
        "id": "YSzE07L4PGFu"
      },
      "execution_count": null,
      "outputs": []
    },
    {
      "cell_type": "markdown",
      "source": [
        "Q2. Given below is a list of dictionary, create a new list consisting of the values from the dictionary elements that are unique.\n",
        "(1 mark)"
      ],
      "metadata": {
        "id": "c_RiPS61cHxR"
      }
    },
    {
      "cell_type": "code",
      "source": [
        "my_list=[\n",
        "     {\"first\":\"1\"}, \n",
        "     {\"second\": \"2\"}, \n",
        "     {\"third\": \"1\"}, \n",
        "     {\"four\": \"5\"}, \n",
        "     {\"five\":\"5\"}, \n",
        "     {\"six\":\"9\"},\n",
        "     {\"seven\":\"7\"}\n",
        "    ]\n"
      ],
      "metadata": {
        "id": "o4zJdcJDcHxS"
      },
      "execution_count": null,
      "outputs": []
    },
    {
      "cell_type": "markdown",
      "source": [
        "Q3. Print all the duplicates in the string \"spartifficial\" (1 mark)"
      ],
      "metadata": {
        "id": "nDGUuitxbCQQ"
      }
    },
    {
      "cell_type": "code",
      "source": [
        "##Your Solution\n",
        "\n"
      ],
      "metadata": {
        "id": "tHorGTs1bb2t"
      },
      "execution_count": null,
      "outputs": []
    },
    {
      "cell_type": "markdown",
      "source": [
        "Q4. Write a Program to check if the user entered string is an anagram or not. (2 marks)"
      ],
      "metadata": {
        "id": "IyXjMLgYbdbq"
      }
    },
    {
      "cell_type": "code",
      "source": [
        "##Your Solution"
      ],
      "metadata": {
        "id": "LIczVxeYb_Fw"
      },
      "execution_count": null,
      "outputs": []
    },
    {
      "cell_type": "markdown",
      "source": [
        "# Numpy (12 marks)"
      ],
      "metadata": {
        "id": "1vmr4fMAIS03"
      }
    },
    {
      "cell_type": "markdown",
      "source": [
        "Q5. Import the numpy package under the name np and print the numpy version and the configuration (1 mark)"
      ],
      "metadata": {
        "id": "GCkiqr_WIGH3"
      }
    },
    {
      "cell_type": "code",
      "source": [
        "##Your Solution\n"
      ],
      "metadata": {
        "id": "K1RojRysIHc9"
      },
      "execution_count": null,
      "outputs": []
    },
    {
      "cell_type": "markdown",
      "source": [
        "Q6. Create a numpy 1D array with 8 elements (1 mark)"
      ],
      "metadata": {
        "id": "4CX5-3ZyIKWN"
      }
    },
    {
      "cell_type": "code",
      "source": [
        "##Your Solution\n"
      ],
      "metadata": {
        "id": "j4R4iGfdIThh"
      },
      "execution_count": null,
      "outputs": []
    },
    {
      "cell_type": "markdown",
      "source": [
        "Q7. Convert the previously created array into a 2D array (1mark)"
      ],
      "metadata": {
        "id": "EOHaqHOWIUd2"
      }
    },
    {
      "cell_type": "code",
      "source": [
        "##Your Solution\n"
      ],
      "metadata": {
        "id": "wT_zMr-yIcnL"
      },
      "execution_count": null,
      "outputs": []
    },
    {
      "cell_type": "markdown",
      "source": [
        "Q8. Create a 1-D array of size 10 with random values ranging from 20 to 59. (1 mark)"
      ],
      "metadata": {
        "id": "fRdkDRevIfj-"
      }
    },
    {
      "cell_type": "code",
      "source": [
        "##Your Solution\n"
      ],
      "metadata": {
        "id": "JFh3RnG9IsGF"
      },
      "execution_count": null,
      "outputs": []
    },
    {
      "cell_type": "markdown",
      "source": [
        "Q9. Reverse the array created in the previous cell (1 mark)"
      ],
      "metadata": {
        "id": "0bUx_AsgItUY"
      }
    },
    {
      "cell_type": "code",
      "source": [
        "##Your Solution\n"
      ],
      "metadata": {
        "id": "lN-hPVyeIyjA"
      },
      "execution_count": null,
      "outputs": []
    },
    {
      "cell_type": "markdown",
      "source": [
        "Q10. Find indices of non-zero elements from [1,0,27,0,0,98,0,21] (1 mark)"
      ],
      "metadata": {
        "id": "XrZ3lZvHIzHE"
      }
    },
    {
      "cell_type": "code",
      "source": [
        "##Your Solution\n"
      ],
      "metadata": {
        "id": "Q6Vd8lExI9QX"
      },
      "execution_count": null,
      "outputs": []
    },
    {
      "cell_type": "markdown",
      "source": [
        "Q11. Create a 4x4 identity matrix (1 mark)"
      ],
      "metadata": {
        "id": "ztn8AqIDI-5K"
      }
    },
    {
      "cell_type": "code",
      "source": [
        "##Your Solution\n"
      ],
      "metadata": {
        "id": "sDnDRXOBJEC6"
      },
      "execution_count": null,
      "outputs": []
    },
    {
      "cell_type": "markdown",
      "source": [
        "Q12. Normalize a 5x5 random matrix (1 mark)"
      ],
      "metadata": {
        "id": "TV8MVGYeJFJq"
      }
    },
    {
      "cell_type": "code",
      "source": [
        "##Your Solution\n"
      ],
      "metadata": {
        "id": "aXt67B9nJQiK"
      },
      "execution_count": null,
      "outputs": []
    },
    {
      "cell_type": "markdown",
      "source": [
        "Q13. Write a Python program compare two arrays using numpy (2 marks)"
      ],
      "metadata": {
        "id": "kaNaaHIhJRyd"
      }
    },
    {
      "cell_type": "code",
      "source": [
        "##Your Solution\n",
        "\n"
      ],
      "metadata": {
        "id": "WvPOTJc9JXV3"
      },
      "execution_count": null,
      "outputs": []
    },
    {
      "cell_type": "markdown",
      "source": [
        "Q14. Create a random vector of size 10 and sort it (1mark)"
      ],
      "metadata": {
        "id": "PVGLLxTiJZF5"
      }
    },
    {
      "cell_type": "code",
      "source": [
        "##Your Solution\n",
        "\n",
        "\n"
      ],
      "metadata": {
        "id": "O2_rQor3Jhj0"
      },
      "execution_count": null,
      "outputs": []
    },
    {
      "cell_type": "markdown",
      "source": [
        "Q15. Create random vector of size 5 and replace the maximum value by -1 (1 mark)"
      ],
      "metadata": {
        "id": "-Iog8F1HJiMp"
      }
    },
    {
      "cell_type": "code",
      "source": [
        "##Your Solution\n",
        "\n"
      ],
      "metadata": {
        "id": "ZZwShfrfJutH"
      },
      "execution_count": null,
      "outputs": []
    },
    {
      "cell_type": "markdown",
      "source": [
        "#Data Visualisation (22 marks)\n"
      ],
      "metadata": {
        "id": "t3qUfmtYBw0A"
      }
    },
    {
      "cell_type": "markdown",
      "source": [
        "Q16.\n",
        "Debug the given below codes to generate a sin wave for 5 seconds duration. (7 Marks)\n",
        "\n",
        "Note: Syntax error and Spelling mistakes at each line should be checked and corrected."
      ],
      "metadata": {
        "id": "WIoKYB-lTCBC"
      }
    },
    {
      "cell_type": "code",
      "source": [
        "import numpy as np\n",
        "from matplotlib import pyplot as plt\n",
        "\n",
        "SAMPLE_RATE = 44100  # Hertz\n",
        "DURATION = 5  # Seconds\n",
        "\n",
        "def generate_sine_wave(freq, sample_rate, duration)  # defining the function \n",
        "    x = np.linspae(0, duration, sample_rate * duration, endpoint=False)  # linespac to generate the sequence\n",
        "    frequencies = x * freq\n",
        "    # 2pi because np.sin takes radians\n",
        "    y = np.sin((2 * np.pi) * frequencies)\n",
        "    returns x, y\n",
        "\n",
        "# Generate a 2 hertz sine wave that lasts for 5 seconds\n",
        "x, y = generate_sine_wave(2, SAMLE_RATE, DURATION)\n",
        "plt.plot(x, y)\n",
        "plt.show();"
      ],
      "metadata": {
        "id": "8Zz2a65xTAES"
      },
      "execution_count": null,
      "outputs": []
    },
    {
      "cell_type": "code",
      "source": [
        "##Your Solution"
      ],
      "metadata": {
        "id": "DXKmXxPUXIm7"
      },
      "execution_count": null,
      "outputs": []
    },
    {
      "cell_type": "markdown",
      "source": [
        "Q17. Import any four images from this dataset: [datalink](https://www.kaggle.com/datasets/redwankarimsony/top-100-hubble-telescope-images)  and show them using matplotlib subplots function in (2,2) configuration. All other parameters can be chosen as per the suitability. (7 Marks)\n"
      ],
      "metadata": {
        "id": "WzQF3hpeTufD"
      }
    },
    {
      "cell_type": "code",
      "source": [
        "##Your Solution"
      ],
      "metadata": {
        "id": "9xcMwBLjXOo6"
      },
      "execution_count": null,
      "outputs": []
    },
    {
      "cell_type": "markdown",
      "source": [
        "Q18 (8 Marks)\n",
        "\n",
        "Apply any one of the Edge filter to filter the image\n",
        "\n",
        "Steps\n",
        "\n",
        "1. Get the image from the link. [Imagelink](https://drive.google.com/file/d/1Hzp8ag-xc8AzvLYEiALm3-sIh2LBXGvm/view?usp=share_link) \n",
        "\n",
        "2. Import the image \n",
        "\n",
        "3. Use the fiter chosen from skimage or Open CV to identify edges.\n",
        "\n",
        "4. Give comments about the findings\n",
        "\n"
      ],
      "metadata": {
        "id": "Wouv-vmrUagy"
      }
    },
    {
      "cell_type": "code",
      "source": [
        "##Your Solution"
      ],
      "metadata": {
        "id": "nKFBzDrWXM1T"
      },
      "execution_count": null,
      "outputs": []
    },
    {
      "cell_type": "markdown",
      "source": [
        "# OOPS Concept (20 marks)"
      ],
      "metadata": {
        "id": "_lhFPm66GRR7"
      }
    },
    {
      "cell_type": "markdown",
      "source": [
        "Q19. Which is not a feature of OOP in general definitions? (1 mark)\n",
        "\n",
        "a) Efficient Code\n",
        "\n",
        "b) Code reusability\n",
        "\n",
        "c) Modularity\n",
        "\n",
        "d) Duplicate/Redundant data"
      ],
      "metadata": {
        "id": "zRsGcO2XFLRp"
      }
    },
    {
      "cell_type": "code",
      "source": [
        "##Your Solution\n"
      ],
      "metadata": {
        "id": "jrtiPPZLK9aJ"
      },
      "execution_count": null,
      "outputs": []
    },
    {
      "cell_type": "markdown",
      "source": [
        "Q20. Answer the Following Questions (18 marks)\n",
        "\n",
        "1. Define a Person() class. (2)\n",
        "2. In the \\_\\_init()\\_\\_ function, define several attributes of a person. Good attributes to consider are name, age, place of birth, and anything else you like to know about the people in your life. (5)\n",
        "3. Write one method. This could be as simple as *introduce_yourself()*. This method would print out a statement such as, \"Hello, my name is (Your Name).\" (3)\n",
        "4. make another method as *age_person()*. A simple version of this method would just add 1 to the person's age. (3)\n",
        "5. Create a person, set the attribute values appropriately, and print out information about the person. (2)\n",
        "6. Call your method on the person you created. Make sure your method executed properly; if the method does not print anything out directly, print something before and after calling the method to make sure it did what it was supposed to. (3)"
      ],
      "metadata": {
        "id": "iEp9sjAIFZ1D"
      }
    },
    {
      "cell_type": "code",
      "source": [
        "##Your Solution\n",
        "\n"
      ],
      "metadata": {
        "id": "oRULTxj-FMD1"
      },
      "execution_count": null,
      "outputs": []
    },
    {
      "cell_type": "markdown",
      "source": [
        "Q21. Which feature of OOP indicates code reusability? (1 mark)\n",
        "\n",
        "a) Abstraction\n",
        "\n",
        "b) Polymorphism\n",
        "\n",
        "c) Encapsulation\n",
        "\n",
        "d) Inheritance"
      ],
      "metadata": {
        "id": "L49-rJCxFfzU"
      }
    },
    {
      "cell_type": "code",
      "source": [
        "##Your Solution"
      ],
      "metadata": {
        "id": "OMHTkmKaGDst"
      },
      "execution_count": null,
      "outputs": []
    }
  ]
}